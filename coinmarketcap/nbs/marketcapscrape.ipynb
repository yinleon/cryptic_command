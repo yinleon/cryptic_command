{
 "cells": [
  {
   "cell_type": "markdown",
   "metadata": {},
   "source": [
    "# Scraping coinmarketcap for ICO prices\n",
    "Leon Yin | Github: [yinleon](#TODO) | Twitter: [@leonyin](#TODO) | Updated: 2017-11-12\n",
    "\n",
    "This is notebook that explains how to make a scraper that collects a [table of ICO stats](https://coinmarketcap.com/all/views/all/) from the site coinmarketcap.com. \n",
    "\n",
    "While we're at it we create a few helpful metadata columns, makes numerical values machine-readible, and perform some simple data analysis. Because this is a Jupyter Notebook you can run it on your own machine :)\n",
    "\n",
    "\n",
    "View this on Github [here](#TODO) or NBViewer [here](#TODO).<br>\n",
    "The scraper is available as Python script [here](#TODO).<br>\n",
    "The hourly data is avilable open source on Amazon s3 [here](#TODO)\n",
    "\n",
    "If you like this project please help support it by contributing time to make it better, or donating to help [pay for hosting](#TODO).\n",
    "\n",
    "### Table of Contents\n",
    "1. [Scraping Data with Requests and Beautiful Soup](#scrape)\n",
    "2. [Cleaning Data with Pandas](#clean)\n",
    "3. [Analysis with Pandas](#analysis)\n",
    "4. [Next Steps](#next-steps)"
   ]
  },
  {
   "cell_type": "code",
   "execution_count": 1,
   "metadata": {
    "collapsed": true
   },
   "outputs": [],
   "source": [
    "import os\n",
    "import re\n",
    "import datetime\n",
    "import requests\n",
    "\n",
    "import numpy as np\n",
    "import pandas as pd\n",
    "from bs4 import BeautifulSoup"
   ]
  },
  {
   "cell_type": "code",
   "execution_count": 2,
   "metadata": {
    "collapsed": true
   },
   "outputs": [],
   "source": [
    "root_dir = '../'\n",
    "table_url = 'https://coinmarketcap.com/all/views/all/'\n",
    "table_id = 'currencies-all'\n",
    "today = datetime.datetime.now()"
   ]
  },
  {
   "cell_type": "markdown",
   "metadata": {},
   "source": [
    "## Scraping a Website with Requests and Beautiful Soup <a id='scrape'></a>\n",
    "Let's visit the coinmarketcap website programatically using the requests package..."
   ]
  },
  {
   "cell_type": "code",
   "execution_count": 3,
   "metadata": {
    "collapsed": true
   },
   "outputs": [],
   "source": [
    "r = requests.get(table_url)"
   ]
  },
  {
   "cell_type": "markdown",
   "metadata": {},
   "source": [
    "Among other things, `r` contains the html content of the page we visited."
   ]
  },
  {
   "cell_type": "code",
   "execution_count": 4,
   "metadata": {},
   "outputs": [
    {
     "data": {
      "text/plain": [
       "b'<!DOCTYPE html>\\n<!--[if lt IE 7]>      <html class=\"no-js lt-ie9 lt-ie8 lt-ie7\"> <![endif]-->\\n<!--[if IE 7]>         <html class=\"no-js lt-ie9 lt-ie8\"> <![endif]-->\\n<!--[if IE 8]>         <html class=\"no-js lt-ie9\"> <![endif]-->\\n<!--[if gt IE 8]><!--> \\n<html class=\"no-js\" lang=\"en\"> <!--<![endif]-->'"
      ]
     },
     "execution_count": 4,
     "metadata": {},
     "output_type": "execute_result"
    }
   ],
   "source": [
    "r.content[:300]"
   ]
  },
  {
   "cell_type": "markdown",
   "metadata": {},
   "source": [
    "BeautifulSoup is the defacto package (still?) for parsing HTML content.<br>\n",
    "We can send the html from `r` into a parsable object."
   ]
  },
  {
   "cell_type": "code",
   "execution_count": 5,
   "metadata": {
    "collapsed": true
   },
   "outputs": [],
   "source": [
    "soup = BeautifulSoup(r.content, 'lxml')"
   ]
  },
  {
   "cell_type": "markdown",
   "metadata": {},
   "source": [
    "This new object (`soup`) comes in handy because we can isolate sections of the HTML page using `soup.find()`.<br>\n",
    "The seciton we are after is the element that contains the ICO data.<br>\n",
    "We can use the `inspect element` feature from Chrome to identify the ID (in this case currencies-all) of this table."
   ]
  },
  {
   "cell_type": "markdown",
   "metadata": {},
   "source": [
    "<img src='../media/find_element.png'></img>"
   ]
  },
  {
   "cell_type": "markdown",
   "metadata": {},
   "source": [
    "I stored the ID for this table as a variable `table_id`."
   ]
  },
  {
   "cell_type": "code",
   "execution_count": 6,
   "metadata": {},
   "outputs": [
    {
     "data": {
      "text/plain": [
       "'currencies-all'"
      ]
     },
     "execution_count": 6,
     "metadata": {},
     "output_type": "execute_result"
    }
   ],
   "source": [
    "table_id"
   ]
  },
  {
   "cell_type": "markdown",
   "metadata": {},
   "source": [
    "Let's isolate the table element using `table_id`, and read it into a Pandas dataframe."
   ]
  },
  {
   "cell_type": "code",
   "execution_count": 7,
   "metadata": {
    "collapsed": true
   },
   "outputs": [],
   "source": [
    "html_tbl = str(soup.find('table',{'id': table_id}))\n",
    "df = pd.read_html(html_tbl, index_col=0)[0]"
   ]
  },
  {
   "cell_type": "markdown",
   "metadata": {},
   "source": [
    "We can get a peak at the top 5 ICOs."
   ]
  },
  {
   "cell_type": "code",
   "execution_count": 8,
   "metadata": {},
   "outputs": [
    {
     "data": {
      "text/html": [
       "<div>\n",
       "<style>\n",
       "    .dataframe thead tr:only-child th {\n",
       "        text-align: right;\n",
       "    }\n",
       "\n",
       "    .dataframe thead th {\n",
       "        text-align: left;\n",
       "    }\n",
       "\n",
       "    .dataframe tbody tr th {\n",
       "        vertical-align: top;\n",
       "    }\n",
       "</style>\n",
       "<table border=\"1\" class=\"dataframe\">\n",
       "  <thead>\n",
       "    <tr style=\"text-align: right;\">\n",
       "      <th></th>\n",
       "      <th>Name</th>\n",
       "      <th>Symbol</th>\n",
       "      <th>Market Cap</th>\n",
       "      <th>Price</th>\n",
       "      <th>Circulating Supply</th>\n",
       "      <th>Volume (24h)</th>\n",
       "      <th>% 1h</th>\n",
       "      <th>% 24h</th>\n",
       "      <th>% 7d</th>\n",
       "    </tr>\n",
       "    <tr>\n",
       "      <th>#</th>\n",
       "      <th></th>\n",
       "      <th></th>\n",
       "      <th></th>\n",
       "      <th></th>\n",
       "      <th></th>\n",
       "      <th></th>\n",
       "      <th></th>\n",
       "      <th></th>\n",
       "      <th></th>\n",
       "    </tr>\n",
       "  </thead>\n",
       "  <tbody>\n",
       "    <tr>\n",
       "      <th>1</th>\n",
       "      <td>BTC Bitcoin</td>\n",
       "      <td>BTC</td>\n",
       "      <td>$110,429,726,504</td>\n",
       "      <td>$6621.43</td>\n",
       "      <td>16677625</td>\n",
       "      <td>$6,806,100,000</td>\n",
       "      <td>-1.29%</td>\n",
       "      <td>6.52%</td>\n",
       "      <td>-9.00%</td>\n",
       "    </tr>\n",
       "    <tr>\n",
       "      <th>2</th>\n",
       "      <td>ETH Ethereum</td>\n",
       "      <td>ETH</td>\n",
       "      <td>$30,150,574,032</td>\n",
       "      <td>$315.05</td>\n",
       "      <td>95701829</td>\n",
       "      <td>$1,381,640,000</td>\n",
       "      <td>-0.09%</td>\n",
       "      <td>3.29%</td>\n",
       "      <td>4.44%</td>\n",
       "    </tr>\n",
       "    <tr>\n",
       "      <th>3</th>\n",
       "      <td>BCH Bitcoin Cash</td>\n",
       "      <td>BCH</td>\n",
       "      <td>$20,821,268,310</td>\n",
       "      <td>$1239.34</td>\n",
       "      <td>16800288</td>\n",
       "      <td>$4,514,090,000</td>\n",
       "      <td>12.68%</td>\n",
       "      <td>-20.95%</td>\n",
       "      <td>96.96%</td>\n",
       "    </tr>\n",
       "    <tr>\n",
       "      <th>4</th>\n",
       "      <td>XRP Ripple</td>\n",
       "      <td>XRP</td>\n",
       "      <td>$7,769,229,787</td>\n",
       "      <td>$0.201633</td>\n",
       "      <td>38,531,538,922  *</td>\n",
       "      <td>$162,209,000</td>\n",
       "      <td>-0.78%</td>\n",
       "      <td>1.55%</td>\n",
       "      <td>-2.21%</td>\n",
       "    </tr>\n",
       "    <tr>\n",
       "      <th>5</th>\n",
       "      <td>LTC Litecoin</td>\n",
       "      <td>LTC</td>\n",
       "      <td>$3,267,915,303</td>\n",
       "      <td>$60.73</td>\n",
       "      <td>53811357</td>\n",
       "      <td>$299,954,000</td>\n",
       "      <td>-1.04%</td>\n",
       "      <td>3.01%</td>\n",
       "      <td>9.36%</td>\n",
       "    </tr>\n",
       "  </tbody>\n",
       "</table>\n",
       "</div>"
      ],
      "text/plain": [
       "               Name Symbol        Market Cap      Price Circulating Supply  \\\n",
       "#                                                                            \n",
       "1       BTC Bitcoin    BTC  $110,429,726,504   $6621.43           16677625   \n",
       "2      ETH Ethereum    ETH   $30,150,574,032    $315.05           95701829   \n",
       "3  BCH Bitcoin Cash    BCH   $20,821,268,310   $1239.34           16800288   \n",
       "4        XRP Ripple    XRP    $7,769,229,787  $0.201633  38,531,538,922  *   \n",
       "5      LTC Litecoin    LTC    $3,267,915,303     $60.73           53811357   \n",
       "\n",
       "     Volume (24h)    % 1h    % 24h    % 7d  \n",
       "#                                           \n",
       "1  $6,806,100,000  -1.29%    6.52%  -9.00%  \n",
       "2  $1,381,640,000  -0.09%    3.29%   4.44%  \n",
       "3  $4,514,090,000  12.68%  -20.95%  96.96%  \n",
       "4    $162,209,000  -0.78%    1.55%  -2.21%  \n",
       "5    $299,954,000  -1.04%    3.01%   9.36%  "
      ]
     },
     "execution_count": 8,
     "metadata": {},
     "output_type": "execute_result"
    }
   ],
   "source": [
    "df.head()"
   ]
  },
  {
   "cell_type": "markdown",
   "metadata": {},
   "source": [
    "Now that we have everything in Pandas, we can do some extra janitorial work, and analysis.<br>\n",
    "If you've never used Pandas, you're in for a treat!"
   ]
  },
  {
   "cell_type": "markdown",
   "metadata": {},
   "source": [
    "## Cleaning Data with Pandas <a id='clean'></a>\n",
    "The data we have is straight from the HTML table--<br>\n",
    "it is human-readible, but not machine readible.\n",
    "\n",
    "Let's use Pandas to clean up the the data (stored in a DataFrame `df`)...<br>\n",
    "As a first step, we can add a timestamp for context."
   ]
  },
  {
   "cell_type": "code",
   "execution_count": 9,
   "metadata": {
    "collapsed": true
   },
   "outputs": [],
   "source": [
    "df['scrape_timestamp'] = today"
   ]
  },
  {
   "cell_type": "markdown",
   "metadata": {},
   "source": [
    "### Renaming Columns\n",
    "Let's make the columns more descriptive, by including the unit in each column (USD).<br>\n",
    "We can do this by replacing column names using a key-value store (a dictionary)"
   ]
  },
  {
   "cell_type": "code",
   "execution_count": 10,
   "metadata": {
    "collapsed": true
   },
   "outputs": [],
   "source": [
    "col_name_w_currency = {\n",
    "    'Market Cap' : 'market_cap_usd',\n",
    "    'Price' : 'price_usd',\n",
    "    'Volume (24h)': 'volume_24h_usd',\n",
    "}"
   ]
  },
  {
   "cell_type": "markdown",
   "metadata": {},
   "source": [
    "and a function that operates on each column name."
   ]
  },
  {
   "cell_type": "code",
   "execution_count": 11,
   "metadata": {
    "collapsed": true
   },
   "outputs": [],
   "source": [
    "def clean_up_col(col):\n",
    "    '''\n",
    "    Adds currency unit to relevant column names,\n",
    "    replaces spaces for underscores, \n",
    "    replaces % symbols for \"percent_change\",\n",
    "    and returns the updated column in lower case.\n",
    "    '''\n",
    "    col = col_name_w_currency.get(col, col)\n",
    "    col = col.replace(' ', '_')\n",
    "    col = col.replace('%', 'percent_change')\n",
    "    return col.lower()"
   ]
  },
  {
   "cell_type": "markdown",
   "metadata": {},
   "source": [
    "Now let's iterate through each column name in `df`, and apply `clean_up_col` to each.<br>\n",
    "For reference: `[x for x in some_iterator]` is called a list comprehension, which is a slight modification to a for loop."
   ]
  },
  {
   "cell_type": "code",
   "execution_count": 12,
   "metadata": {
    "collapsed": true
   },
   "outputs": [],
   "source": [
    "df.columns = [clean_up_col(c) for c in df.columns]"
   ]
  },
  {
   "cell_type": "code",
   "execution_count": 13,
   "metadata": {},
   "outputs": [
    {
     "data": {
      "text/plain": [
       "name                          object\n",
       "symbol                        object\n",
       "market_cap_usd                object\n",
       "price_usd                     object\n",
       "circulating_supply            object\n",
       "volume_24h_usd                object\n",
       "percent_change_1h             object\n",
       "percent_change_24h            object\n",
       "percent_change_7d             object\n",
       "scrape_timestamp      datetime64[ns]\n",
       "dtype: object"
      ]
     },
     "execution_count": 13,
     "metadata": {},
     "output_type": "execute_result"
    }
   ],
   "source": [
    "df.dtypes"
   ]
  },
  {
   "cell_type": "code",
   "execution_count": 14,
   "metadata": {},
   "outputs": [
    {
     "data": {
      "text/html": [
       "<div>\n",
       "<style>\n",
       "    .dataframe thead tr:only-child th {\n",
       "        text-align: right;\n",
       "    }\n",
       "\n",
       "    .dataframe thead th {\n",
       "        text-align: left;\n",
       "    }\n",
       "\n",
       "    .dataframe tbody tr th {\n",
       "        vertical-align: top;\n",
       "    }\n",
       "</style>\n",
       "<table border=\"1\" class=\"dataframe\">\n",
       "  <thead>\n",
       "    <tr style=\"text-align: right;\">\n",
       "      <th></th>\n",
       "      <th>name</th>\n",
       "      <th>symbol</th>\n",
       "      <th>market_cap_usd</th>\n",
       "      <th>price_usd</th>\n",
       "      <th>circulating_supply</th>\n",
       "      <th>volume_24h_usd</th>\n",
       "      <th>percent_change_1h</th>\n",
       "      <th>percent_change_24h</th>\n",
       "      <th>percent_change_7d</th>\n",
       "      <th>scrape_timestamp</th>\n",
       "    </tr>\n",
       "    <tr>\n",
       "      <th>#</th>\n",
       "      <th></th>\n",
       "      <th></th>\n",
       "      <th></th>\n",
       "      <th></th>\n",
       "      <th></th>\n",
       "      <th></th>\n",
       "      <th></th>\n",
       "      <th></th>\n",
       "      <th></th>\n",
       "      <th></th>\n",
       "    </tr>\n",
       "  </thead>\n",
       "  <tbody>\n",
       "    <tr>\n",
       "      <th>1</th>\n",
       "      <td>BTC Bitcoin</td>\n",
       "      <td>BTC</td>\n",
       "      <td>$110,429,726,504</td>\n",
       "      <td>$6621.43</td>\n",
       "      <td>16677625</td>\n",
       "      <td>$6,806,100,000</td>\n",
       "      <td>-1.29%</td>\n",
       "      <td>6.52%</td>\n",
       "      <td>-9.00%</td>\n",
       "      <td>2017-11-13 09:45:14.163318</td>\n",
       "    </tr>\n",
       "    <tr>\n",
       "      <th>2</th>\n",
       "      <td>ETH Ethereum</td>\n",
       "      <td>ETH</td>\n",
       "      <td>$30,150,574,032</td>\n",
       "      <td>$315.05</td>\n",
       "      <td>95701829</td>\n",
       "      <td>$1,381,640,000</td>\n",
       "      <td>-0.09%</td>\n",
       "      <td>3.29%</td>\n",
       "      <td>4.44%</td>\n",
       "      <td>2017-11-13 09:45:14.163318</td>\n",
       "    </tr>\n",
       "    <tr>\n",
       "      <th>3</th>\n",
       "      <td>BCH Bitcoin Cash</td>\n",
       "      <td>BCH</td>\n",
       "      <td>$20,821,268,310</td>\n",
       "      <td>$1239.34</td>\n",
       "      <td>16800288</td>\n",
       "      <td>$4,514,090,000</td>\n",
       "      <td>12.68%</td>\n",
       "      <td>-20.95%</td>\n",
       "      <td>96.96%</td>\n",
       "      <td>2017-11-13 09:45:14.163318</td>\n",
       "    </tr>\n",
       "    <tr>\n",
       "      <th>4</th>\n",
       "      <td>XRP Ripple</td>\n",
       "      <td>XRP</td>\n",
       "      <td>$7,769,229,787</td>\n",
       "      <td>$0.201633</td>\n",
       "      <td>38,531,538,922  *</td>\n",
       "      <td>$162,209,000</td>\n",
       "      <td>-0.78%</td>\n",
       "      <td>1.55%</td>\n",
       "      <td>-2.21%</td>\n",
       "      <td>2017-11-13 09:45:14.163318</td>\n",
       "    </tr>\n",
       "  </tbody>\n",
       "</table>\n",
       "</div>"
      ],
      "text/plain": [
       "               name symbol    market_cap_usd  price_usd circulating_supply  \\\n",
       "#                                                                            \n",
       "1       BTC Bitcoin    BTC  $110,429,726,504   $6621.43           16677625   \n",
       "2      ETH Ethereum    ETH   $30,150,574,032    $315.05           95701829   \n",
       "3  BCH Bitcoin Cash    BCH   $20,821,268,310   $1239.34           16800288   \n",
       "4        XRP Ripple    XRP    $7,769,229,787  $0.201633  38,531,538,922  *   \n",
       "\n",
       "   volume_24h_usd percent_change_1h percent_change_24h percent_change_7d  \\\n",
       "#                                                                          \n",
       "1  $6,806,100,000            -1.29%              6.52%            -9.00%   \n",
       "2  $1,381,640,000            -0.09%              3.29%             4.44%   \n",
       "3  $4,514,090,000            12.68%            -20.95%            96.96%   \n",
       "4    $162,209,000            -0.78%              1.55%            -2.21%   \n",
       "\n",
       "            scrape_timestamp  \n",
       "#                             \n",
       "1 2017-11-13 09:45:14.163318  \n",
       "2 2017-11-13 09:45:14.163318  \n",
       "3 2017-11-13 09:45:14.163318  \n",
       "4 2017-11-13 09:45:14.163318  "
      ]
     },
     "execution_count": 14,
     "metadata": {},
     "output_type": "execute_result"
    }
   ],
   "source": [
    "df.head(4)"
   ]
  },
  {
   "cell_type": "markdown",
   "metadata": {},
   "source": [
    "Notice that some columns have an asterix (used to denote that the currency are not minable).<br>\n",
    "We can convert this feature into a new column by leveraging Pandas DataFrames' `apply` function -- <br>\n",
    "which applies any function (anonymous or declared) across either columns (`axis`=0) or rows (`axis`=1)."
   ]
  },
  {
   "cell_type": "code",
   "execution_count": 15,
   "metadata": {
    "collapsed": true
   },
   "outputs": [],
   "source": [
    "def is_minable(row):\n",
    "    '''\n",
    "    Check if `circulating_supply` contains an asterix.\n",
    "    This function operates on each row of the dataframe.\n",
    "    If the ICO is not minable, we'll find an asterix and return 0.\n",
    "    \n",
    "    Note:\n",
    "    That when we apply a function across a row,\n",
    "    the entire row is treated as a key-value pair.\n",
    "    '''\n",
    "    circulating_supply = row['circulating_supply']\n",
    "    \n",
    "    if '*' in circulating_supply:\n",
    "        return 0\n",
    "    \n",
    "    else:\n",
    "        return 1"
   ]
  },
  {
   "cell_type": "code",
   "execution_count": 16,
   "metadata": {
    "collapsed": true
   },
   "outputs": [],
   "source": [
    "df['is_minable'] = df.apply(is_minable, axis=1)"
   ]
  },
  {
   "cell_type": "code",
   "execution_count": 17,
   "metadata": {},
   "outputs": [
    {
     "data": {
      "text/html": [
       "<div>\n",
       "<style>\n",
       "    .dataframe thead tr:only-child th {\n",
       "        text-align: right;\n",
       "    }\n",
       "\n",
       "    .dataframe thead th {\n",
       "        text-align: left;\n",
       "    }\n",
       "\n",
       "    .dataframe tbody tr th {\n",
       "        vertical-align: top;\n",
       "    }\n",
       "</style>\n",
       "<table border=\"1\" class=\"dataframe\">\n",
       "  <thead>\n",
       "    <tr style=\"text-align: right;\">\n",
       "      <th></th>\n",
       "      <th>name</th>\n",
       "      <th>symbol</th>\n",
       "      <th>market_cap_usd</th>\n",
       "      <th>price_usd</th>\n",
       "      <th>circulating_supply</th>\n",
       "      <th>volume_24h_usd</th>\n",
       "      <th>percent_change_1h</th>\n",
       "      <th>percent_change_24h</th>\n",
       "      <th>percent_change_7d</th>\n",
       "      <th>scrape_timestamp</th>\n",
       "      <th>is_minable</th>\n",
       "    </tr>\n",
       "    <tr>\n",
       "      <th>#</th>\n",
       "      <th></th>\n",
       "      <th></th>\n",
       "      <th></th>\n",
       "      <th></th>\n",
       "      <th></th>\n",
       "      <th></th>\n",
       "      <th></th>\n",
       "      <th></th>\n",
       "      <th></th>\n",
       "      <th></th>\n",
       "      <th></th>\n",
       "    </tr>\n",
       "  </thead>\n",
       "  <tbody>\n",
       "    <tr>\n",
       "      <th>1</th>\n",
       "      <td>BTC Bitcoin</td>\n",
       "      <td>BTC</td>\n",
       "      <td>$110,429,726,504</td>\n",
       "      <td>$6621.43</td>\n",
       "      <td>16677625</td>\n",
       "      <td>$6,806,100,000</td>\n",
       "      <td>-1.29%</td>\n",
       "      <td>6.52%</td>\n",
       "      <td>-9.00%</td>\n",
       "      <td>2017-11-13 09:45:14.163318</td>\n",
       "      <td>1</td>\n",
       "    </tr>\n",
       "    <tr>\n",
       "      <th>2</th>\n",
       "      <td>ETH Ethereum</td>\n",
       "      <td>ETH</td>\n",
       "      <td>$30,150,574,032</td>\n",
       "      <td>$315.05</td>\n",
       "      <td>95701829</td>\n",
       "      <td>$1,381,640,000</td>\n",
       "      <td>-0.09%</td>\n",
       "      <td>3.29%</td>\n",
       "      <td>4.44%</td>\n",
       "      <td>2017-11-13 09:45:14.163318</td>\n",
       "      <td>1</td>\n",
       "    </tr>\n",
       "    <tr>\n",
       "      <th>3</th>\n",
       "      <td>BCH Bitcoin Cash</td>\n",
       "      <td>BCH</td>\n",
       "      <td>$20,821,268,310</td>\n",
       "      <td>$1239.34</td>\n",
       "      <td>16800288</td>\n",
       "      <td>$4,514,090,000</td>\n",
       "      <td>12.68%</td>\n",
       "      <td>-20.95%</td>\n",
       "      <td>96.96%</td>\n",
       "      <td>2017-11-13 09:45:14.163318</td>\n",
       "      <td>1</td>\n",
       "    </tr>\n",
       "    <tr>\n",
       "      <th>4</th>\n",
       "      <td>XRP Ripple</td>\n",
       "      <td>XRP</td>\n",
       "      <td>$7,769,229,787</td>\n",
       "      <td>$0.201633</td>\n",
       "      <td>38,531,538,922  *</td>\n",
       "      <td>$162,209,000</td>\n",
       "      <td>-0.78%</td>\n",
       "      <td>1.55%</td>\n",
       "      <td>-2.21%</td>\n",
       "      <td>2017-11-13 09:45:14.163318</td>\n",
       "      <td>0</td>\n",
       "    </tr>\n",
       "  </tbody>\n",
       "</table>\n",
       "</div>"
      ],
      "text/plain": [
       "               name symbol    market_cap_usd  price_usd circulating_supply  \\\n",
       "#                                                                            \n",
       "1       BTC Bitcoin    BTC  $110,429,726,504   $6621.43           16677625   \n",
       "2      ETH Ethereum    ETH   $30,150,574,032    $315.05           95701829   \n",
       "3  BCH Bitcoin Cash    BCH   $20,821,268,310   $1239.34           16800288   \n",
       "4        XRP Ripple    XRP    $7,769,229,787  $0.201633  38,531,538,922  *   \n",
       "\n",
       "   volume_24h_usd percent_change_1h percent_change_24h percent_change_7d  \\\n",
       "#                                                                          \n",
       "1  $6,806,100,000            -1.29%              6.52%            -9.00%   \n",
       "2  $1,381,640,000            -0.09%              3.29%             4.44%   \n",
       "3  $4,514,090,000            12.68%            -20.95%            96.96%   \n",
       "4    $162,209,000            -0.78%              1.55%            -2.21%   \n",
       "\n",
       "            scrape_timestamp  is_minable  \n",
       "#                                         \n",
       "1 2017-11-13 09:45:14.163318           1  \n",
       "2 2017-11-13 09:45:14.163318           1  \n",
       "3 2017-11-13 09:45:14.163318           1  \n",
       "4 2017-11-13 09:45:14.163318           0  "
      ]
     },
     "execution_count": 17,
     "metadata": {},
     "output_type": "execute_result"
    }
   ],
   "source": [
    "df.head(4)"
   ]
  },
  {
   "cell_type": "markdown",
   "metadata": {},
   "source": [
    "### This table is now more human readible, but problematic for machines\n",
    "Why? Because there are dollar signs, commas, asterix, and percent signs in numeric values.<br>\n",
    "This causes most computers (and Pandas) to view numeric values as strings!"
   ]
  },
  {
   "cell_type": "code",
   "execution_count": 18,
   "metadata": {},
   "outputs": [
    {
     "data": {
      "text/plain": [
       "name                          object\n",
       "symbol                        object\n",
       "market_cap_usd                object\n",
       "price_usd                     object\n",
       "circulating_supply            object\n",
       "volume_24h_usd                object\n",
       "percent_change_1h             object\n",
       "percent_change_24h            object\n",
       "percent_change_7d             object\n",
       "scrape_timestamp      datetime64[ns]\n",
       "is_minable                     int64\n",
       "dtype: object"
      ]
     },
     "execution_count": 18,
     "metadata": {},
     "output_type": "execute_result"
    }
   ],
   "source": [
    "df.dtypes"
   ]
  },
  {
   "cell_type": "markdown",
   "metadata": {},
   "source": [
    "We can remove these symbols using regular expressions.<br>\n",
    "Below is a dictionary of regular expressions we can use to weed out symbols"
   ]
  },
  {
   "cell_type": "code",
   "execution_count": 19,
   "metadata": {
    "collapsed": true
   },
   "outputs": [],
   "source": [
    "replace_symbols = {\n",
    "    r'  [*]' : '',    # two spaces and any number of asterix\n",
    "    r'[\\$,%*]' : '',  # money signs, commas, percent signs, asterix\n",
    "    r'[?]' : np.nan,  # question marks becomes a null value\n",
    "    'Low Vol' : 0,    # low volume is simplified as zero...\n",
    "}"
   ]
  },
  {
   "cell_type": "markdown",
   "metadata": {},
   "source": [
    "Pandas `replace` operates on all all columns and all rows.<br>\n",
    "The coolest aspect of this function is that \n",
    "1. it can take a dictionary as an input,\n",
    "2. it can implement regular expressions, and\n",
    "3. it can operate inplace"
   ]
  },
  {
   "cell_type": "code",
   "execution_count": 20,
   "metadata": {
    "collapsed": true
   },
   "outputs": [],
   "source": [
    "df.replace(replace_symbols, regex=True, inplace=True)"
   ]
  },
  {
   "cell_type": "code",
   "execution_count": 21,
   "metadata": {},
   "outputs": [
    {
     "data": {
      "text/html": [
       "<div>\n",
       "<style>\n",
       "    .dataframe thead tr:only-child th {\n",
       "        text-align: right;\n",
       "    }\n",
       "\n",
       "    .dataframe thead th {\n",
       "        text-align: left;\n",
       "    }\n",
       "\n",
       "    .dataframe tbody tr th {\n",
       "        vertical-align: top;\n",
       "    }\n",
       "</style>\n",
       "<table border=\"1\" class=\"dataframe\">\n",
       "  <thead>\n",
       "    <tr style=\"text-align: right;\">\n",
       "      <th></th>\n",
       "      <th>name</th>\n",
       "      <th>symbol</th>\n",
       "      <th>market_cap_usd</th>\n",
       "      <th>price_usd</th>\n",
       "      <th>circulating_supply</th>\n",
       "      <th>volume_24h_usd</th>\n",
       "      <th>percent_change_1h</th>\n",
       "      <th>percent_change_24h</th>\n",
       "      <th>percent_change_7d</th>\n",
       "      <th>scrape_timestamp</th>\n",
       "      <th>is_minable</th>\n",
       "    </tr>\n",
       "    <tr>\n",
       "      <th>#</th>\n",
       "      <th></th>\n",
       "      <th></th>\n",
       "      <th></th>\n",
       "      <th></th>\n",
       "      <th></th>\n",
       "      <th></th>\n",
       "      <th></th>\n",
       "      <th></th>\n",
       "      <th></th>\n",
       "      <th></th>\n",
       "      <th></th>\n",
       "    </tr>\n",
       "  </thead>\n",
       "  <tbody>\n",
       "    <tr>\n",
       "      <th>1</th>\n",
       "      <td>BTC Bitcoin</td>\n",
       "      <td>BTC</td>\n",
       "      <td>110429726504</td>\n",
       "      <td>6621.43</td>\n",
       "      <td>16677625</td>\n",
       "      <td>6806100000</td>\n",
       "      <td>-1.29</td>\n",
       "      <td>6.52</td>\n",
       "      <td>-9.00</td>\n",
       "      <td>2017-11-13 09:45:14.163318</td>\n",
       "      <td>1</td>\n",
       "    </tr>\n",
       "    <tr>\n",
       "      <th>2</th>\n",
       "      <td>ETH Ethereum</td>\n",
       "      <td>ETH</td>\n",
       "      <td>30150574032</td>\n",
       "      <td>315.05</td>\n",
       "      <td>95701829</td>\n",
       "      <td>1381640000</td>\n",
       "      <td>-0.09</td>\n",
       "      <td>3.29</td>\n",
       "      <td>4.44</td>\n",
       "      <td>2017-11-13 09:45:14.163318</td>\n",
       "      <td>1</td>\n",
       "    </tr>\n",
       "    <tr>\n",
       "      <th>3</th>\n",
       "      <td>BCH Bitcoin Cash</td>\n",
       "      <td>BCH</td>\n",
       "      <td>20821268310</td>\n",
       "      <td>1239.34</td>\n",
       "      <td>16800288</td>\n",
       "      <td>4514090000</td>\n",
       "      <td>12.68</td>\n",
       "      <td>-20.95</td>\n",
       "      <td>96.96</td>\n",
       "      <td>2017-11-13 09:45:14.163318</td>\n",
       "      <td>1</td>\n",
       "    </tr>\n",
       "    <tr>\n",
       "      <th>4</th>\n",
       "      <td>XRP Ripple</td>\n",
       "      <td>XRP</td>\n",
       "      <td>7769229787</td>\n",
       "      <td>0.201633</td>\n",
       "      <td>38531538922</td>\n",
       "      <td>162209000</td>\n",
       "      <td>-0.78</td>\n",
       "      <td>1.55</td>\n",
       "      <td>-2.21</td>\n",
       "      <td>2017-11-13 09:45:14.163318</td>\n",
       "      <td>0</td>\n",
       "    </tr>\n",
       "  </tbody>\n",
       "</table>\n",
       "</div>"
      ],
      "text/plain": [
       "               name symbol market_cap_usd price_usd circulating_supply  \\\n",
       "#                                                                        \n",
       "1       BTC Bitcoin    BTC   110429726504   6621.43           16677625   \n",
       "2      ETH Ethereum    ETH    30150574032    315.05           95701829   \n",
       "3  BCH Bitcoin Cash    BCH    20821268310   1239.34           16800288   \n",
       "4        XRP Ripple    XRP     7769229787  0.201633        38531538922   \n",
       "\n",
       "  volume_24h_usd percent_change_1h percent_change_24h percent_change_7d  \\\n",
       "#                                                                         \n",
       "1     6806100000             -1.29               6.52             -9.00   \n",
       "2     1381640000             -0.09               3.29              4.44   \n",
       "3     4514090000             12.68             -20.95             96.96   \n",
       "4      162209000             -0.78               1.55             -2.21   \n",
       "\n",
       "            scrape_timestamp  is_minable  \n",
       "#                                         \n",
       "1 2017-11-13 09:45:14.163318           1  \n",
       "2 2017-11-13 09:45:14.163318           1  \n",
       "3 2017-11-13 09:45:14.163318           1  \n",
       "4 2017-11-13 09:45:14.163318           0  "
      ]
     },
     "execution_count": 21,
     "metadata": {},
     "output_type": "execute_result"
    }
   ],
   "source": [
    "df.head(4)"
   ]
  },
  {
   "cell_type": "markdown",
   "metadata": {},
   "source": [
    "This looks good to me! Let's write this clean dataset to a csv.<br>\n",
    "A best practice in data engineering is to create a function to programmatically generate file paths and directories."
   ]
  },
  {
   "cell_type": "code",
   "execution_count": 22,
   "metadata": {
    "collapsed": true
   },
   "outputs": [],
   "source": [
    "def create_filename(root_dir, today):\n",
    "    '''\n",
    "    This function creates the filename, \n",
    "    it also creates the directory for the file if the directory doesn't exist.\n",
    "    '''\n",
    "    f_template = '{year}/{month}/{day}/{hour}/market_cap_USD_{time}.csv.gz'\n",
    "    f = f_template.format(year = today.year,\n",
    "                          month= today.month,\n",
    "                          day  = today.day,\n",
    "                          hour = today.strftime('%H'),\n",
    "                          time = today.strftime('%H:%M:%S'))\n",
    "    \n",
    "    f_out = os.path.join(root_dir, f)\n",
    "    \n",
    "    dir_out = '/'.join(f_out.split('/')[:-1])\n",
    "    if not os.path.exists(dir_out):\n",
    "        os.makedirs(dir_out, exist_ok=True)\n",
    "    \n",
    "    return f_out"
   ]
  },
  {
   "cell_type": "code",
   "execution_count": 23,
   "metadata": {},
   "outputs": [
    {
     "data": {
      "text/plain": [
       "'../2017/11/13/09/market_cap_USD_09:45:14.csv.gz'"
      ]
     },
     "execution_count": 23,
     "metadata": {},
     "output_type": "execute_result"
    }
   ],
   "source": [
    "file = create_filename(root_dir, today)\n",
    "file"
   ]
  },
  {
   "cell_type": "code",
   "execution_count": 24,
   "metadata": {
    "collapsed": true
   },
   "outputs": [],
   "source": [
    "df.to_csv(file, index=None, compression='gzip')"
   ]
  },
  {
   "cell_type": "markdown",
   "metadata": {},
   "source": [
    "## Let's do some analysis <a id='analysis'></a>\n",
    "How's the data look?"
   ]
  },
  {
   "cell_type": "code",
   "execution_count": 25,
   "metadata": {
    "collapsed": true
   },
   "outputs": [],
   "source": [
    "df = pd.read_csv(file, compression='gzip')"
   ]
  },
  {
   "cell_type": "code",
   "execution_count": 26,
   "metadata": {},
   "outputs": [
    {
     "data": {
      "text/html": [
       "<div>\n",
       "<style>\n",
       "    .dataframe thead tr:only-child th {\n",
       "        text-align: right;\n",
       "    }\n",
       "\n",
       "    .dataframe thead th {\n",
       "        text-align: left;\n",
       "    }\n",
       "\n",
       "    .dataframe tbody tr th {\n",
       "        vertical-align: top;\n",
       "    }\n",
       "</style>\n",
       "<table border=\"1\" class=\"dataframe\">\n",
       "  <thead>\n",
       "    <tr style=\"text-align: right;\">\n",
       "      <th></th>\n",
       "      <th>name</th>\n",
       "      <th>symbol</th>\n",
       "      <th>market_cap_usd</th>\n",
       "      <th>price_usd</th>\n",
       "      <th>circulating_supply</th>\n",
       "      <th>volume_24h_usd</th>\n",
       "      <th>percent_change_1h</th>\n",
       "      <th>percent_change_24h</th>\n",
       "      <th>percent_change_7d</th>\n",
       "      <th>scrape_timestamp</th>\n",
       "      <th>is_minable</th>\n",
       "    </tr>\n",
       "  </thead>\n",
       "  <tbody>\n",
       "    <tr>\n",
       "      <th>0</th>\n",
       "      <td>BTC Bitcoin</td>\n",
       "      <td>BTC</td>\n",
       "      <td>1.104297e+11</td>\n",
       "      <td>6621.430000</td>\n",
       "      <td>1.667762e+07</td>\n",
       "      <td>6.806100e+09</td>\n",
       "      <td>-1.29</td>\n",
       "      <td>6.52</td>\n",
       "      <td>-9.00</td>\n",
       "      <td>2017-11-13 09:45:14.163318</td>\n",
       "      <td>1</td>\n",
       "    </tr>\n",
       "    <tr>\n",
       "      <th>1</th>\n",
       "      <td>ETH Ethereum</td>\n",
       "      <td>ETH</td>\n",
       "      <td>3.015057e+10</td>\n",
       "      <td>315.050000</td>\n",
       "      <td>9.570183e+07</td>\n",
       "      <td>1.381640e+09</td>\n",
       "      <td>-0.09</td>\n",
       "      <td>3.29</td>\n",
       "      <td>4.44</td>\n",
       "      <td>2017-11-13 09:45:14.163318</td>\n",
       "      <td>1</td>\n",
       "    </tr>\n",
       "    <tr>\n",
       "      <th>2</th>\n",
       "      <td>BCH Bitcoin Cash</td>\n",
       "      <td>BCH</td>\n",
       "      <td>2.082127e+10</td>\n",
       "      <td>1239.340000</td>\n",
       "      <td>1.680029e+07</td>\n",
       "      <td>4.514090e+09</td>\n",
       "      <td>12.68</td>\n",
       "      <td>-20.95</td>\n",
       "      <td>96.96</td>\n",
       "      <td>2017-11-13 09:45:14.163318</td>\n",
       "      <td>1</td>\n",
       "    </tr>\n",
       "    <tr>\n",
       "      <th>3</th>\n",
       "      <td>XRP Ripple</td>\n",
       "      <td>XRP</td>\n",
       "      <td>7.769230e+09</td>\n",
       "      <td>0.201633</td>\n",
       "      <td>3.853154e+10</td>\n",
       "      <td>1.622090e+08</td>\n",
       "      <td>-0.78</td>\n",
       "      <td>1.55</td>\n",
       "      <td>-2.21</td>\n",
       "      <td>2017-11-13 09:45:14.163318</td>\n",
       "      <td>0</td>\n",
       "    </tr>\n",
       "    <tr>\n",
       "      <th>4</th>\n",
       "      <td>LTC Litecoin</td>\n",
       "      <td>LTC</td>\n",
       "      <td>3.267915e+09</td>\n",
       "      <td>60.730000</td>\n",
       "      <td>5.381136e+07</td>\n",
       "      <td>2.999540e+08</td>\n",
       "      <td>-1.04</td>\n",
       "      <td>3.01</td>\n",
       "      <td>9.36</td>\n",
       "      <td>2017-11-13 09:45:14.163318</td>\n",
       "      <td>1</td>\n",
       "    </tr>\n",
       "  </tbody>\n",
       "</table>\n",
       "</div>"
      ],
      "text/plain": [
       "               name symbol  market_cap_usd    price_usd  circulating_supply  \\\n",
       "0       BTC Bitcoin    BTC    1.104297e+11  6621.430000        1.667762e+07   \n",
       "1      ETH Ethereum    ETH    3.015057e+10   315.050000        9.570183e+07   \n",
       "2  BCH Bitcoin Cash    BCH    2.082127e+10  1239.340000        1.680029e+07   \n",
       "3        XRP Ripple    XRP    7.769230e+09     0.201633        3.853154e+10   \n",
       "4      LTC Litecoin    LTC    3.267915e+09    60.730000        5.381136e+07   \n",
       "\n",
       "   volume_24h_usd  percent_change_1h  percent_change_24h  percent_change_7d  \\\n",
       "0    6.806100e+09              -1.29                6.52              -9.00   \n",
       "1    1.381640e+09              -0.09                3.29               4.44   \n",
       "2    4.514090e+09              12.68              -20.95              96.96   \n",
       "3    1.622090e+08              -0.78                1.55              -2.21   \n",
       "4    2.999540e+08              -1.04                3.01               9.36   \n",
       "\n",
       "             scrape_timestamp  is_minable  \n",
       "0  2017-11-13 09:45:14.163318           1  \n",
       "1  2017-11-13 09:45:14.163318           1  \n",
       "2  2017-11-13 09:45:14.163318           1  \n",
       "3  2017-11-13 09:45:14.163318           0  \n",
       "4  2017-11-13 09:45:14.163318           1  "
      ]
     },
     "execution_count": 26,
     "metadata": {},
     "output_type": "execute_result"
    }
   ],
   "source": [
    "df.head()"
   ]
  },
  {
   "cell_type": "markdown",
   "metadata": {},
   "source": [
    "Monetary and percentages are now floats!"
   ]
  },
  {
   "cell_type": "code",
   "execution_count": 27,
   "metadata": {},
   "outputs": [
    {
     "data": {
      "text/plain": [
       "name                   object\n",
       "symbol                 object\n",
       "market_cap_usd        float64\n",
       "price_usd             float64\n",
       "circulating_supply    float64\n",
       "volume_24h_usd        float64\n",
       "percent_change_1h     float64\n",
       "percent_change_24h    float64\n",
       "percent_change_7d     float64\n",
       "scrape_timestamp       object\n",
       "is_minable              int64\n",
       "dtype: object"
      ]
     },
     "execution_count": 27,
     "metadata": {},
     "output_type": "execute_result"
    }
   ],
   "source": [
    "df.dtypes"
   ]
  },
  {
   "cell_type": "markdown",
   "metadata": {},
   "source": [
    "We can get a big picture of what's going on:\n"
   ]
  },
  {
   "cell_type": "code",
   "execution_count": 28,
   "metadata": {},
   "outputs": [
    {
     "data": {
      "text/html": [
       "<div>\n",
       "<style>\n",
       "    .dataframe thead tr:only-child th {\n",
       "        text-align: right;\n",
       "    }\n",
       "\n",
       "    .dataframe thead th {\n",
       "        text-align: left;\n",
       "    }\n",
       "\n",
       "    .dataframe tbody tr th {\n",
       "        vertical-align: top;\n",
       "    }\n",
       "</style>\n",
       "<table border=\"1\" class=\"dataframe\">\n",
       "  <thead>\n",
       "    <tr style=\"text-align: right;\">\n",
       "      <th></th>\n",
       "      <th>count</th>\n",
       "      <th>mean</th>\n",
       "      <th>std</th>\n",
       "      <th>min</th>\n",
       "      <th>25%</th>\n",
       "      <th>50%</th>\n",
       "      <th>75%</th>\n",
       "      <th>max</th>\n",
       "    </tr>\n",
       "  </thead>\n",
       "  <tbody>\n",
       "    <tr>\n",
       "      <th>market_cap_usd</th>\n",
       "      <td>989.0</td>\n",
       "      <td>2.062930e+08</td>\n",
       "      <td>3.709711e+09</td>\n",
       "      <td>4.000000e+00</td>\n",
       "      <td>9.178800e+04</td>\n",
       "      <td>9.139370e+05</td>\n",
       "      <td>9.453571e+06</td>\n",
       "      <td>1.104297e+11</td>\n",
       "    </tr>\n",
       "    <tr>\n",
       "      <th>price_usd</th>\n",
       "      <td>1277.0</td>\n",
       "      <td>2.601015e+02</td>\n",
       "      <td>5.829740e+03</td>\n",
       "      <td>1.600000e-08</td>\n",
       "      <td>2.265000e-03</td>\n",
       "      <td>2.939500e-02</td>\n",
       "      <td>3.032810e-01</td>\n",
       "      <td>1.836010e+05</td>\n",
       "    </tr>\n",
       "    <tr>\n",
       "      <th>circulating_supply</th>\n",
       "      <td>989.0</td>\n",
       "      <td>5.732600e+09</td>\n",
       "      <td>5.039963e+10</td>\n",
       "      <td>7.826400e-02</td>\n",
       "      <td>4.886565e+06</td>\n",
       "      <td>2.209930e+07</td>\n",
       "      <td>1.088351e+08</td>\n",
       "      <td>1.059921e+12</td>\n",
       "    </tr>\n",
       "    <tr>\n",
       "      <th>volume_24h_usd</th>\n",
       "      <td>1265.0</td>\n",
       "      <td>1.274583e+07</td>\n",
       "      <td>2.350331e+08</td>\n",
       "      <td>0.000000e+00</td>\n",
       "      <td>0.000000e+00</td>\n",
       "      <td>1.513000e+03</td>\n",
       "      <td>5.951600e+04</td>\n",
       "      <td>6.806100e+09</td>\n",
       "    </tr>\n",
       "    <tr>\n",
       "      <th>percent_change_1h</th>\n",
       "      <td>1188.0</td>\n",
       "      <td>-1.304167e+00</td>\n",
       "      <td>1.040415e+01</td>\n",
       "      <td>-3.716000e+01</td>\n",
       "      <td>-3.260000e+00</td>\n",
       "      <td>-3.120000e+00</td>\n",
       "      <td>-1.117500e+00</td>\n",
       "      <td>1.906400e+02</td>\n",
       "    </tr>\n",
       "    <tr>\n",
       "      <th>percent_change_24h</th>\n",
       "      <td>1191.0</td>\n",
       "      <td>1.171171e+01</td>\n",
       "      <td>7.933950e+01</td>\n",
       "      <td>-8.247000e+01</td>\n",
       "      <td>-3.500000e-02</td>\n",
       "      <td>4.630000e+00</td>\n",
       "      <td>1.193500e+01</td>\n",
       "      <td>2.366840e+03</td>\n",
       "    </tr>\n",
       "    <tr>\n",
       "      <th>percent_change_7d</th>\n",
       "      <td>1200.0</td>\n",
       "      <td>1.173899e+01</td>\n",
       "      <td>1.835343e+02</td>\n",
       "      <td>-9.897000e+01</td>\n",
       "      <td>-1.787500e+01</td>\n",
       "      <td>-5.860000e+00</td>\n",
       "      <td>1.217500e+01</td>\n",
       "      <td>5.584360e+03</td>\n",
       "    </tr>\n",
       "    <tr>\n",
       "      <th>is_minable</th>\n",
       "      <td>1278.0</td>\n",
       "      <td>4.749609e-01</td>\n",
       "      <td>4.995681e-01</td>\n",
       "      <td>0.000000e+00</td>\n",
       "      <td>0.000000e+00</td>\n",
       "      <td>0.000000e+00</td>\n",
       "      <td>1.000000e+00</td>\n",
       "      <td>1.000000e+00</td>\n",
       "    </tr>\n",
       "  </tbody>\n",
       "</table>\n",
       "</div>"
      ],
      "text/plain": [
       "                     count          mean           std           min  \\\n",
       "market_cap_usd       989.0  2.062930e+08  3.709711e+09  4.000000e+00   \n",
       "price_usd           1277.0  2.601015e+02  5.829740e+03  1.600000e-08   \n",
       "circulating_supply   989.0  5.732600e+09  5.039963e+10  7.826400e-02   \n",
       "volume_24h_usd      1265.0  1.274583e+07  2.350331e+08  0.000000e+00   \n",
       "percent_change_1h   1188.0 -1.304167e+00  1.040415e+01 -3.716000e+01   \n",
       "percent_change_24h  1191.0  1.171171e+01  7.933950e+01 -8.247000e+01   \n",
       "percent_change_7d   1200.0  1.173899e+01  1.835343e+02 -9.897000e+01   \n",
       "is_minable          1278.0  4.749609e-01  4.995681e-01  0.000000e+00   \n",
       "\n",
       "                             25%           50%           75%           max  \n",
       "market_cap_usd      9.178800e+04  9.139370e+05  9.453571e+06  1.104297e+11  \n",
       "price_usd           2.265000e-03  2.939500e-02  3.032810e-01  1.836010e+05  \n",
       "circulating_supply  4.886565e+06  2.209930e+07  1.088351e+08  1.059921e+12  \n",
       "volume_24h_usd      0.000000e+00  1.513000e+03  5.951600e+04  6.806100e+09  \n",
       "percent_change_1h  -3.260000e+00 -3.120000e+00 -1.117500e+00  1.906400e+02  \n",
       "percent_change_24h -3.500000e-02  4.630000e+00  1.193500e+01  2.366840e+03  \n",
       "percent_change_7d  -1.787500e+01 -5.860000e+00  1.217500e+01  5.584360e+03  \n",
       "is_minable          0.000000e+00  0.000000e+00  1.000000e+00  1.000000e+00  "
      ]
     },
     "execution_count": 28,
     "metadata": {},
     "output_type": "execute_result"
    }
   ],
   "source": [
    "df.describe().T"
   ]
  },
  {
   "cell_type": "markdown",
   "metadata": {},
   "source": [
    "There are aggregation functions we can use to calculate the market cap:"
   ]
  },
  {
   "cell_type": "code",
   "execution_count": 29,
   "metadata": {},
   "outputs": [
    {
     "data": {
      "text/plain": [
       "204023780750.0"
      ]
     },
     "execution_count": 29,
     "metadata": {},
     "output_type": "execute_result"
    }
   ],
   "source": [
    "df['market_cap_usd'].sum()"
   ]
  },
  {
   "cell_type": "markdown",
   "metadata": {},
   "source": [
    "We can also find which ICOs have dropped by more than 60% since the past week:"
   ]
  },
  {
   "cell_type": "code",
   "execution_count": 30,
   "metadata": {},
   "outputs": [
    {
     "data": {
      "text/html": [
       "<div>\n",
       "<style>\n",
       "    .dataframe thead tr:only-child th {\n",
       "        text-align: right;\n",
       "    }\n",
       "\n",
       "    .dataframe thead th {\n",
       "        text-align: left;\n",
       "    }\n",
       "\n",
       "    .dataframe tbody tr th {\n",
       "        vertical-align: top;\n",
       "    }\n",
       "</style>\n",
       "<table border=\"1\" class=\"dataframe\">\n",
       "  <thead>\n",
       "    <tr style=\"text-align: right;\">\n",
       "      <th></th>\n",
       "      <th>name</th>\n",
       "      <th>symbol</th>\n",
       "      <th>market_cap_usd</th>\n",
       "      <th>price_usd</th>\n",
       "      <th>circulating_supply</th>\n",
       "      <th>volume_24h_usd</th>\n",
       "      <th>percent_change_1h</th>\n",
       "      <th>percent_change_24h</th>\n",
       "      <th>percent_change_7d</th>\n",
       "      <th>scrape_timestamp</th>\n",
       "      <th>is_minable</th>\n",
       "    </tr>\n",
       "  </thead>\n",
       "  <tbody>\n",
       "    <tr>\n",
       "      <th>197</th>\n",
       "      <td>MCAP MCAP</td>\n",
       "      <td>MCAP</td>\n",
       "      <td>13872826.0</td>\n",
       "      <td>0.362256</td>\n",
       "      <td>3.829564e+07</td>\n",
       "      <td>738547.0</td>\n",
       "      <td>-2.81</td>\n",
       "      <td>-9.19</td>\n",
       "      <td>-71.41</td>\n",
       "      <td>2017-11-13 09:45:14.163318</td>\n",
       "      <td>0</td>\n",
       "    </tr>\n",
       "    <tr>\n",
       "      <th>417</th>\n",
       "      <td>NYC NewYorkCoin</td>\n",
       "      <td>NYC</td>\n",
       "      <td>1824304.0</td>\n",
       "      <td>0.000014</td>\n",
       "      <td>1.290328e+11</td>\n",
       "      <td>3801.0</td>\n",
       "      <td>4.89</td>\n",
       "      <td>3.46</td>\n",
       "      <td>-65.62</td>\n",
       "      <td>2017-11-13 09:45:14.163318</td>\n",
       "      <td>1</td>\n",
       "    </tr>\n",
       "    <tr>\n",
       "      <th>481</th>\n",
       "      <td>ARC Arcade Token</td>\n",
       "      <td>ARC</td>\n",
       "      <td>697983.0</td>\n",
       "      <td>0.386318</td>\n",
       "      <td>1.806758e+06</td>\n",
       "      <td>652.0</td>\n",
       "      <td>0.21</td>\n",
       "      <td>-74.63</td>\n",
       "      <td>-79.77</td>\n",
       "      <td>2017-11-13 09:45:14.163318</td>\n",
       "      <td>0</td>\n",
       "    </tr>\n",
       "    <tr>\n",
       "      <th>482</th>\n",
       "      <td>NAUT NautilusCoin</td>\n",
       "      <td>NAUT</td>\n",
       "      <td>697546.0</td>\n",
       "      <td>0.043112</td>\n",
       "      <td>1.618000e+07</td>\n",
       "      <td>56847.0</td>\n",
       "      <td>-3.27</td>\n",
       "      <td>2.33</td>\n",
       "      <td>-62.21</td>\n",
       "      <td>2017-11-13 09:45:14.163318</td>\n",
       "      <td>0</td>\n",
       "    </tr>\n",
       "    <tr>\n",
       "      <th>501</th>\n",
       "      <td>GRE Greencoin</td>\n",
       "      <td>GRE</td>\n",
       "      <td>549279.0</td>\n",
       "      <td>0.000156</td>\n",
       "      <td>3.528417e+09</td>\n",
       "      <td>1825.0</td>\n",
       "      <td>-14.56</td>\n",
       "      <td>-68.43</td>\n",
       "      <td>-92.58</td>\n",
       "      <td>2017-11-13 09:45:14.163318</td>\n",
       "      <td>0</td>\n",
       "    </tr>\n",
       "  </tbody>\n",
       "</table>\n",
       "</div>"
      ],
      "text/plain": [
       "                  name symbol  market_cap_usd  price_usd  circulating_supply  \\\n",
       "197          MCAP MCAP   MCAP      13872826.0   0.362256        3.829564e+07   \n",
       "417    NYC NewYorkCoin    NYC       1824304.0   0.000014        1.290328e+11   \n",
       "481   ARC Arcade Token    ARC        697983.0   0.386318        1.806758e+06   \n",
       "482  NAUT NautilusCoin   NAUT        697546.0   0.043112        1.618000e+07   \n",
       "501      GRE Greencoin    GRE        549279.0   0.000156        3.528417e+09   \n",
       "\n",
       "     volume_24h_usd  percent_change_1h  percent_change_24h  percent_change_7d  \\\n",
       "197        738547.0              -2.81               -9.19             -71.41   \n",
       "417          3801.0               4.89                3.46             -65.62   \n",
       "481           652.0               0.21              -74.63             -79.77   \n",
       "482         56847.0              -3.27                2.33             -62.21   \n",
       "501          1825.0             -14.56              -68.43             -92.58   \n",
       "\n",
       "               scrape_timestamp  is_minable  \n",
       "197  2017-11-13 09:45:14.163318           0  \n",
       "417  2017-11-13 09:45:14.163318           1  \n",
       "481  2017-11-13 09:45:14.163318           0  \n",
       "482  2017-11-13 09:45:14.163318           0  \n",
       "501  2017-11-13 09:45:14.163318           0  "
      ]
     },
     "execution_count": 30,
     "metadata": {},
     "output_type": "execute_result"
    }
   ],
   "source": [
    "df_losers = df[df['percent_change_7d'] <= -60]\n",
    "df_losers.head()"
   ]
  },
  {
   "cell_type": "markdown",
   "metadata": {},
   "source": [
    "Since we don't care about EVERY ICO, we can filter the dataframe by relevant symbols"
   ]
  },
  {
   "cell_type": "code",
   "execution_count": 31,
   "metadata": {
    "collapsed": true
   },
   "outputs": [],
   "source": [
    "watchlist = [\n",
    "    'LTC',\n",
    "    'BTC',\n",
    "    'NEO'\n",
    "]"
   ]
  },
  {
   "cell_type": "code",
   "execution_count": 32,
   "metadata": {},
   "outputs": [
    {
     "data": {
      "text/html": [
       "<div>\n",
       "<style>\n",
       "    .dataframe thead tr:only-child th {\n",
       "        text-align: right;\n",
       "    }\n",
       "\n",
       "    .dataframe thead th {\n",
       "        text-align: left;\n",
       "    }\n",
       "\n",
       "    .dataframe tbody tr th {\n",
       "        vertical-align: top;\n",
       "    }\n",
       "</style>\n",
       "<table border=\"1\" class=\"dataframe\">\n",
       "  <thead>\n",
       "    <tr style=\"text-align: right;\">\n",
       "      <th></th>\n",
       "      <th>name</th>\n",
       "      <th>symbol</th>\n",
       "      <th>market_cap_usd</th>\n",
       "      <th>price_usd</th>\n",
       "      <th>circulating_supply</th>\n",
       "      <th>volume_24h_usd</th>\n",
       "      <th>percent_change_1h</th>\n",
       "      <th>percent_change_24h</th>\n",
       "      <th>percent_change_7d</th>\n",
       "      <th>scrape_timestamp</th>\n",
       "      <th>is_minable</th>\n",
       "    </tr>\n",
       "  </thead>\n",
       "  <tbody>\n",
       "    <tr>\n",
       "      <th>0</th>\n",
       "      <td>BTC Bitcoin</td>\n",
       "      <td>BTC</td>\n",
       "      <td>1.104297e+11</td>\n",
       "      <td>6621.43</td>\n",
       "      <td>16677625.0</td>\n",
       "      <td>6.806100e+09</td>\n",
       "      <td>-1.29</td>\n",
       "      <td>6.52</td>\n",
       "      <td>-9.00</td>\n",
       "      <td>2017-11-13 09:45:14.163318</td>\n",
       "      <td>1</td>\n",
       "    </tr>\n",
       "    <tr>\n",
       "      <th>4</th>\n",
       "      <td>LTC Litecoin</td>\n",
       "      <td>LTC</td>\n",
       "      <td>3.267915e+09</td>\n",
       "      <td>60.73</td>\n",
       "      <td>53811357.0</td>\n",
       "      <td>2.999540e+08</td>\n",
       "      <td>-1.04</td>\n",
       "      <td>3.01</td>\n",
       "      <td>9.36</td>\n",
       "      <td>2017-11-13 09:45:14.163318</td>\n",
       "      <td>1</td>\n",
       "    </tr>\n",
       "    <tr>\n",
       "      <th>7</th>\n",
       "      <td>NEO NEO</td>\n",
       "      <td>NEO</td>\n",
       "      <td>1.812076e+09</td>\n",
       "      <td>27.88</td>\n",
       "      <td>65000000.0</td>\n",
       "      <td>4.689940e+07</td>\n",
       "      <td>-2.58</td>\n",
       "      <td>3.41</td>\n",
       "      <td>5.70</td>\n",
       "      <td>2017-11-13 09:45:14.163318</td>\n",
       "      <td>0</td>\n",
       "    </tr>\n",
       "  </tbody>\n",
       "</table>\n",
       "</div>"
      ],
      "text/plain": [
       "           name symbol  market_cap_usd  price_usd  circulating_supply  \\\n",
       "0   BTC Bitcoin    BTC    1.104297e+11    6621.43          16677625.0   \n",
       "4  LTC Litecoin    LTC    3.267915e+09      60.73          53811357.0   \n",
       "7       NEO NEO    NEO    1.812076e+09      27.88          65000000.0   \n",
       "\n",
       "   volume_24h_usd  percent_change_1h  percent_change_24h  percent_change_7d  \\\n",
       "0    6.806100e+09              -1.29                6.52              -9.00   \n",
       "4    2.999540e+08              -1.04                3.01               9.36   \n",
       "7    4.689940e+07              -2.58                3.41               5.70   \n",
       "\n",
       "             scrape_timestamp  is_minable  \n",
       "0  2017-11-13 09:45:14.163318           1  \n",
       "4  2017-11-13 09:45:14.163318           1  \n",
       "7  2017-11-13 09:45:14.163318           0  "
      ]
     },
     "execution_count": 32,
     "metadata": {},
     "output_type": "execute_result"
    }
   ],
   "source": [
    "df_w = df[df['symbol'].isin(watchlist)]\n",
    "df_w"
   ]
  },
  {
   "cell_type": "markdown",
   "metadata": {},
   "source": [
    "We can also calculate values in BTC"
   ]
  },
  {
   "cell_type": "code",
   "execution_count": 33,
   "metadata": {},
   "outputs": [
    {
     "data": {
      "text/plain": [
       "6621.4300000000003"
      ]
     },
     "execution_count": 33,
     "metadata": {},
     "output_type": "execute_result"
    }
   ],
   "source": [
    "btc_price = df[df['symbol'] == 'BTC']['price_usd'].iloc[0]\n",
    "btc_price"
   ]
  },
  {
   "cell_type": "code",
   "execution_count": 34,
   "metadata": {},
   "outputs": [
    {
     "name": "stderr",
     "output_type": "stream",
     "text": [
      "/anaconda3/lib/python3.6/site-packages/ipykernel_launcher.py:1: SettingWithCopyWarning: \n",
      "A value is trying to be set on a copy of a slice from a DataFrame.\n",
      "Try using .loc[row_indexer,col_indexer] = value instead\n",
      "\n",
      "See the caveats in the documentation: http://pandas.pydata.org/pandas-docs/stable/indexing.html#indexing-view-versus-copy\n",
      "  \"\"\"Entry point for launching an IPython kernel.\n"
     ]
    }
   ],
   "source": [
    "df_w['price_btc'] = df_w['price_usd'] / btc_price"
   ]
  },
  {
   "cell_type": "code",
   "execution_count": 35,
   "metadata": {},
   "outputs": [
    {
     "data": {
      "text/html": [
       "<div>\n",
       "<style>\n",
       "    .dataframe thead tr:only-child th {\n",
       "        text-align: right;\n",
       "    }\n",
       "\n",
       "    .dataframe thead th {\n",
       "        text-align: left;\n",
       "    }\n",
       "\n",
       "    .dataframe tbody tr th {\n",
       "        vertical-align: top;\n",
       "    }\n",
       "</style>\n",
       "<table border=\"1\" class=\"dataframe\">\n",
       "  <thead>\n",
       "    <tr style=\"text-align: right;\">\n",
       "      <th></th>\n",
       "      <th>name</th>\n",
       "      <th>symbol</th>\n",
       "      <th>price_usd</th>\n",
       "      <th>price_btc</th>\n",
       "    </tr>\n",
       "  </thead>\n",
       "  <tbody>\n",
       "    <tr>\n",
       "      <th>0</th>\n",
       "      <td>BTC Bitcoin</td>\n",
       "      <td>BTC</td>\n",
       "      <td>6621.43</td>\n",
       "      <td>1.000000</td>\n",
       "    </tr>\n",
       "    <tr>\n",
       "      <th>4</th>\n",
       "      <td>LTC Litecoin</td>\n",
       "      <td>LTC</td>\n",
       "      <td>60.73</td>\n",
       "      <td>0.009172</td>\n",
       "    </tr>\n",
       "    <tr>\n",
       "      <th>7</th>\n",
       "      <td>NEO NEO</td>\n",
       "      <td>NEO</td>\n",
       "      <td>27.88</td>\n",
       "      <td>0.004211</td>\n",
       "    </tr>\n",
       "  </tbody>\n",
       "</table>\n",
       "</div>"
      ],
      "text/plain": [
       "           name symbol  price_usd  price_btc\n",
       "0   BTC Bitcoin    BTC    6621.43   1.000000\n",
       "4  LTC Litecoin    LTC      60.73   0.009172\n",
       "7       NEO NEO    NEO      27.88   0.004211"
      ]
     },
     "execution_count": 35,
     "metadata": {},
     "output_type": "execute_result"
    }
   ],
   "source": [
    "df_w[['name', 'symbol', 'price_usd', 'price_btc']].head()"
   ]
  },
  {
   "cell_type": "markdown",
   "metadata": {},
   "source": [
    "The data we just scraped is also [available in BTC](https://coinmarketcap.com/coins/views/all/#BTC), rather than USD.<br>\n",
    "However, that table is rendered using Javascript, <br>\n",
    "so it can't be scraped unless we use a client such as Selenium."
   ]
  },
  {
   "cell_type": "markdown",
   "metadata": {},
   "source": [
    "### One application is calculating your portfolio's worth"
   ]
  },
  {
   "cell_type": "code",
   "execution_count": 36,
   "metadata": {
    "collapsed": true
   },
   "outputs": [],
   "source": [
    "portfolio = [\n",
    "    {'symbol' : 'BTC', 'quantity' : 2.045},\n",
    "    {'symbol' : 'ETH', 'quantity' : 20.17},\n",
    "    {'symbol' : 'DASH', 'quantity' : 1001},\n",
    "]"
   ]
  },
  {
   "cell_type": "code",
   "execution_count": 59,
   "metadata": {
    "collapsed": true
   },
   "outputs": [],
   "source": [
    "def get_portfolio(df, portolio, cols=['name', 'symbol', 'price_usd', 'percent_change_24h', \n",
    "                                      'quantity', 'value_usd', 'value_btc']):\n",
    "    '''\n",
    "    Converts a dict `portfolio` into a pandas dataframe `df_p`,\n",
    "    Inner join `df_p` to a dataframe of ICO prices (`df`).\n",
    "    Calculates and printsvalue in USD and BTC.\n",
    "    \n",
    "    Retuns a dataframe with `cols` colums from the joined dataframe `df_`.\n",
    "    '''\n",
    "    df_p = pd.DataFrame(portfolio)\n",
    "    btc_price = df[df['symbol'] == 'BTC']['price_usd'].iloc[0]\n",
    "    \n",
    "    df_ = df.merge(df_p, how='inner')\n",
    "    df_['value_usd'] = df_['quantity'] * df_['price_usd']\n",
    "    df_['value_btc'] = df_['value_usd'] / btc_price\n",
    "    \n",
    "    portfolio_usd = df_['value_usd'].sum()\n",
    "    portfolio_btc = df_['value_usd'].sum() / btc_price\n",
    "    \n",
    "    print(\"Value of portfolio\\n${:.2f} USD\\n{:.4f} BTC\".format(portfolio_usd, \n",
    "                                                               portfolio_btc))\n",
    "    return df_p[cols]"
   ]
  },
  {
   "cell_type": "code",
   "execution_count": 60,
   "metadata": {},
   "outputs": [
    {
     "name": "stdout",
     "output_type": "stream",
     "text": [
      "Value of portfolio\n",
      "$431456.53 USD\n",
      "65.1606 BTC\n"
     ]
    },
    {
     "data": {
      "text/html": [
       "<div>\n",
       "<style>\n",
       "    .dataframe thead tr:only-child th {\n",
       "        text-align: right;\n",
       "    }\n",
       "\n",
       "    .dataframe thead th {\n",
       "        text-align: left;\n",
       "    }\n",
       "\n",
       "    .dataframe tbody tr th {\n",
       "        vertical-align: top;\n",
       "    }\n",
       "</style>\n",
       "<table border=\"1\" class=\"dataframe\">\n",
       "  <thead>\n",
       "    <tr style=\"text-align: right;\">\n",
       "      <th></th>\n",
       "      <th>name</th>\n",
       "      <th>symbol</th>\n",
       "      <th>price_usd</th>\n",
       "      <th>percent_change_24h</th>\n",
       "      <th>quantity</th>\n",
       "      <th>value_usd</th>\n",
       "      <th>value_btc</th>\n",
       "    </tr>\n",
       "  </thead>\n",
       "  <tbody>\n",
       "    <tr>\n",
       "      <th>0</th>\n",
       "      <td>BTC Bitcoin</td>\n",
       "      <td>BTC</td>\n",
       "      <td>6621.43</td>\n",
       "      <td>6.52</td>\n",
       "      <td>2.045</td>\n",
       "      <td>13540.82435</td>\n",
       "      <td>2.045000</td>\n",
       "    </tr>\n",
       "    <tr>\n",
       "      <th>1</th>\n",
       "      <td>ETH Ethereum</td>\n",
       "      <td>ETH</td>\n",
       "      <td>315.05</td>\n",
       "      <td>3.29</td>\n",
       "      <td>20.170</td>\n",
       "      <td>6354.55850</td>\n",
       "      <td>0.959696</td>\n",
       "    </tr>\n",
       "    <tr>\n",
       "      <th>2</th>\n",
       "      <td>DASH Dash</td>\n",
       "      <td>DASH</td>\n",
       "      <td>411.15</td>\n",
       "      <td>7.93</td>\n",
       "      <td>1001.000</td>\n",
       "      <td>411561.15000</td>\n",
       "      <td>62.155932</td>\n",
       "    </tr>\n",
       "  </tbody>\n",
       "</table>\n",
       "</div>"
      ],
      "text/plain": [
       "           name symbol  price_usd  percent_change_24h  quantity     value_usd  \\\n",
       "0   BTC Bitcoin    BTC    6621.43                6.52     2.045   13540.82435   \n",
       "1  ETH Ethereum    ETH     315.05                3.29    20.170    6354.55850   \n",
       "2     DASH Dash   DASH     411.15                7.93  1001.000  411561.15000   \n",
       "\n",
       "   value_btc  \n",
       "0   2.045000  \n",
       "1   0.959696  \n",
       "2  62.155932  "
      ]
     },
     "execution_count": 60,
     "metadata": {},
     "output_type": "execute_result"
    }
   ],
   "source": [
    "get_portfolio(df, portfolio)"
   ]
  },
  {
   "cell_type": "markdown",
   "metadata": {},
   "source": [
    "## Conclusions <a id='next-steps'></a>\n",
    "Having programatic access to ICO prices is a first step for many applications.<br>\n",
    "Please use this information responsibly, IE [see the 2010 Flash Crash](https://www.theguardian.com/business/2015/apr/22/2010-flash-crash-new-york-stock-exchange-unfolded).\n",
    "\n",
    "Here are some next steps:\n",
    "- Do this for BTC units.\n",
    "- Host the data on s3 to another open source outlet with programmatic access.\n",
    "- Host a cloud instance that generates this dataset in a regular interval.\n",
    "- Analysis of of BTC's price on alt-coins.\n",
    "\n",
    "I think there is some good software to be written.<br>\n",
    "This wass done as a passion project during a cold Novemeber weekend,<br>\n",
    "if this was helpful to you, any suggestions, time, or donations are appreciated!\n",
    "\n",
    "Wallet locations for donations:\n",
    "<a id='TODO'>todo</a>"
   ]
  }
 ],
 "metadata": {
  "kernelspec": {
   "display_name": "Python 3",
   "language": "python",
   "name": "python3"
  },
  "language_info": {
   "codemirror_mode": {
    "name": "ipython",
    "version": 3
   },
   "file_extension": ".py",
   "mimetype": "text/x-python",
   "name": "python",
   "nbconvert_exporter": "python",
   "pygments_lexer": "ipython3",
   "version": "3.6.2"
  }
 },
 "nbformat": 4,
 "nbformat_minor": 2
}
