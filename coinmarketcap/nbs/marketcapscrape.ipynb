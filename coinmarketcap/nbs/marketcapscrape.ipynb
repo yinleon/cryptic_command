{
 "cells": [
  {
   "cell_type": "markdown",
   "metadata": {},
   "source": [
    "# Scraping coinmarketcap for ICO prices\n",
    "By Leon Yin<br>\n",
    "Github: [yinleon](#TODO)<br>\n",
    "Twitter: [@leonyin](#TODO)<br>\n",
    "Updated: 2017-11-12\n",
    "\n",
    "This is notebook that explains how to make a scraper that collects a [table of ICO stats](https://coinmarketcap.com/all/views/all/) from the site coinmarketcap.com. \n",
    "\n",
    "While we're at it we create a few helpful metadata columns, makes numerical values machine-readible, and perform some simple data analysis. Because this is a Jupyter Notebook you can run it on your own machine :)\n",
    "\n",
    "\n",
    "View this on Github [here](#TODO) or NBViewer [here](#TODO).<br>\n",
    "The scraper is available as Python script [here](#TODO).<br>\n",
    "The hourly data is avilable open source on Amazon s3 [here](#TODO)\n",
    "\n",
    "If you like this project please help support it by contributing time to make it better, or donating to help [pay for hosting](#TODO).\n",
    "\n",
    "### Table of Contents\n",
    "1. [Scraping Data with Requests and Beautiful Soup](#scrape)\n",
    "2. [Cleaning Data with Pandas](#clean)\n",
    "3. [Analysis with Pandas](#analysis)\n",
    "4. [Next Steps](#next-steps)"
   ]
  },
  {
   "cell_type": "code",
   "execution_count": 1,
   "metadata": {
    "collapsed": true
   },
   "outputs": [],
   "source": [
    "import os\n",
    "import re\n",
    "import datetime\n",
    "import requests\n",
    "\n",
    "import numpy as np\n",
    "import pandas as pd\n",
    "from bs4 import BeautifulSoup"
   ]
  },
  {
   "cell_type": "code",
   "execution_count": 2,
   "metadata": {
    "collapsed": true
   },
   "outputs": [],
   "source": [
    "root_dir = '../'\n",
    "table_url = 'https://coinmarketcap.com/all/views/all/'\n",
    "table_id = 'currencies-all'\n",
    "today = datetime.datetime.now()"
   ]
  },
  {
   "cell_type": "markdown",
   "metadata": {},
   "source": [
    "## Scraping a Website with Requests and Beautiful Soup <a id='scrape'></a>\n",
    "Let's visit the coinmarketcap website programatically using the requests package..."
   ]
  },
  {
   "cell_type": "code",
   "execution_count": 3,
   "metadata": {
    "collapsed": true
   },
   "outputs": [],
   "source": [
    "r = requests.get(table_url)"
   ]
  },
  {
   "cell_type": "markdown",
   "metadata": {},
   "source": [
    "Among other things, `r` contains the html content of the page we visited."
   ]
  },
  {
   "cell_type": "code",
   "execution_count": 4,
   "metadata": {},
   "outputs": [
    {
     "data": {
      "text/plain": [
       "b'<!DOCTYPE html>\\n<!--[if lt IE 7]>      <html class=\"no-js lt-ie9 lt-ie8 lt-ie7\"> <![endif]-->\\n<!--[if IE 7]>         <html class=\"no-js lt-ie9 lt-ie8\"> <![endif]-->\\n<!--[if IE 8]>         <html class=\"no-js lt-ie9\"> <![endif]-->\\n<!--[if gt IE 8]><!--> \\n<html class=\"no-js\" lang=\"en\"> <!--<![endif]-->'"
      ]
     },
     "execution_count": 4,
     "metadata": {},
     "output_type": "execute_result"
    }
   ],
   "source": [
    "r.content[:300]"
   ]
  },
  {
   "cell_type": "markdown",
   "metadata": {},
   "source": [
    "BeautifulSoup is the defacto package (still?) for parsing HTML content.<br>\n",
    "We can send the html from `r` into a parsable object."
   ]
  },
  {
   "cell_type": "code",
   "execution_count": 5,
   "metadata": {
    "collapsed": true
   },
   "outputs": [],
   "source": [
    "soup = BeautifulSoup(r.content, 'lxml')"
   ]
  },
  {
   "cell_type": "markdown",
   "metadata": {},
   "source": [
    "This new object (`soup`) comes in handy because we can isolate sections of the HTML page using `soup.find()`.<br>\n",
    "The seciton we are after is the element that contains the ICO data.<br>\n",
    "We can use the `inspect element` feature from Chrome to identify the ID (in this case currencies-all) of this table."
   ]
  },
  {
   "cell_type": "markdown",
   "metadata": {},
   "source": [
    "<img src='../media/find_element.png'></img>"
   ]
  },
  {
   "cell_type": "markdown",
   "metadata": {},
   "source": [
    "I stored the ID for this table as a variable `table_id`."
   ]
  },
  {
   "cell_type": "code",
   "execution_count": 6,
   "metadata": {},
   "outputs": [
    {
     "data": {
      "text/plain": [
       "'currencies-all'"
      ]
     },
     "execution_count": 6,
     "metadata": {},
     "output_type": "execute_result"
    }
   ],
   "source": [
    "table_id"
   ]
  },
  {
   "cell_type": "markdown",
   "metadata": {},
   "source": [
    "Let's isolate the table element using `table_id`, and read it into a Pandas dataframe."
   ]
  },
  {
   "cell_type": "code",
   "execution_count": 7,
   "metadata": {
    "collapsed": true
   },
   "outputs": [],
   "source": [
    "html_tbl = str(soup.find('table',{'id': table_id}))\n",
    "df = pd.read_html(html_tbl, index_col=0)[0]"
   ]
  },
  {
   "cell_type": "markdown",
   "metadata": {},
   "source": [
    "We can get a peak at the top 5 ICOs."
   ]
  },
  {
   "cell_type": "code",
   "execution_count": 8,
   "metadata": {},
   "outputs": [
    {
     "data": {
      "text/html": [
       "<div>\n",
       "<style>\n",
       "    .dataframe thead tr:only-child th {\n",
       "        text-align: right;\n",
       "    }\n",
       "\n",
       "    .dataframe thead th {\n",
       "        text-align: left;\n",
       "    }\n",
       "\n",
       "    .dataframe tbody tr th {\n",
       "        vertical-align: top;\n",
       "    }\n",
       "</style>\n",
       "<table border=\"1\" class=\"dataframe\">\n",
       "  <thead>\n",
       "    <tr style=\"text-align: right;\">\n",
       "      <th></th>\n",
       "      <th>Name</th>\n",
       "      <th>Symbol</th>\n",
       "      <th>Market Cap</th>\n",
       "      <th>Price</th>\n",
       "      <th>Circulating Supply</th>\n",
       "      <th>Volume (24h)</th>\n",
       "      <th>% 1h</th>\n",
       "      <th>% 24h</th>\n",
       "      <th>% 7d</th>\n",
       "    </tr>\n",
       "    <tr>\n",
       "      <th>#</th>\n",
       "      <th></th>\n",
       "      <th></th>\n",
       "      <th></th>\n",
       "      <th></th>\n",
       "      <th></th>\n",
       "      <th></th>\n",
       "      <th></th>\n",
       "      <th></th>\n",
       "      <th></th>\n",
       "    </tr>\n",
       "  </thead>\n",
       "  <tbody>\n",
       "    <tr>\n",
       "      <th>1</th>\n",
       "      <td>BTC Bitcoin</td>\n",
       "      <td>BTC</td>\n",
       "      <td>$101,127,463,297</td>\n",
       "      <td>$6063.97</td>\n",
       "      <td>16676775</td>\n",
       "      <td>$8,482,620,000</td>\n",
       "      <td>0.83%</td>\n",
       "      <td>2.02%</td>\n",
       "      <td>-17.44%</td>\n",
       "    </tr>\n",
       "    <tr>\n",
       "      <th>2</th>\n",
       "      <td>ETH Ethereum</td>\n",
       "      <td>ETH</td>\n",
       "      <td>$30,032,324,679</td>\n",
       "      <td>$313.84</td>\n",
       "      <td>95693412</td>\n",
       "      <td>$1,729,130,000</td>\n",
       "      <td>-1.08%</td>\n",
       "      <td>1.89%</td>\n",
       "      <td>6.03%</td>\n",
       "    </tr>\n",
       "    <tr>\n",
       "      <th>3</th>\n",
       "      <td>BCH Bitcoin Cash</td>\n",
       "      <td>BCH</td>\n",
       "      <td>$20,857,585,264</td>\n",
       "      <td>$1241.51</td>\n",
       "      <td>16800175</td>\n",
       "      <td>$6,682,870,000</td>\n",
       "      <td>-7.00%</td>\n",
       "      <td>-31.28%</td>\n",
       "      <td>94.33%</td>\n",
       "    </tr>\n",
       "    <tr>\n",
       "      <th>4</th>\n",
       "      <td>XRP Ripple</td>\n",
       "      <td>XRP</td>\n",
       "      <td>$7,681,647,599</td>\n",
       "      <td>$0.199360</td>\n",
       "      <td>38,531,538,922  *</td>\n",
       "      <td>$253,269,000</td>\n",
       "      <td>-0.82%</td>\n",
       "      <td>-2.93%</td>\n",
       "      <td>-1.56%</td>\n",
       "    </tr>\n",
       "    <tr>\n",
       "      <th>5</th>\n",
       "      <td>DASH Dash</td>\n",
       "      <td>DASH</td>\n",
       "      <td>$3,366,095,503</td>\n",
       "      <td>$437.99</td>\n",
       "      <td>7685290</td>\n",
       "      <td>$515,079,000</td>\n",
       "      <td>-2.31%</td>\n",
       "      <td>27.63%</td>\n",
       "      <td>61.30%</td>\n",
       "    </tr>\n",
       "  </tbody>\n",
       "</table>\n",
       "</div>"
      ],
      "text/plain": [
       "               Name Symbol        Market Cap      Price Circulating Supply  \\\n",
       "#                                                                            \n",
       "1       BTC Bitcoin    BTC  $101,127,463,297   $6063.97           16676775   \n",
       "2      ETH Ethereum    ETH   $30,032,324,679    $313.84           95693412   \n",
       "3  BCH Bitcoin Cash    BCH   $20,857,585,264   $1241.51           16800175   \n",
       "4        XRP Ripple    XRP    $7,681,647,599  $0.199360  38,531,538,922  *   \n",
       "5         DASH Dash   DASH    $3,366,095,503    $437.99            7685290   \n",
       "\n",
       "     Volume (24h)    % 1h    % 24h     % 7d  \n",
       "#                                            \n",
       "1  $8,482,620,000   0.83%    2.02%  -17.44%  \n",
       "2  $1,729,130,000  -1.08%    1.89%    6.03%  \n",
       "3  $6,682,870,000  -7.00%  -31.28%   94.33%  \n",
       "4    $253,269,000  -0.82%   -2.93%   -1.56%  \n",
       "5    $515,079,000  -2.31%   27.63%   61.30%  "
      ]
     },
     "execution_count": 8,
     "metadata": {},
     "output_type": "execute_result"
    }
   ],
   "source": [
    "df.head()"
   ]
  },
  {
   "cell_type": "markdown",
   "metadata": {},
   "source": [
    "Now that we have everything in Pandas, we can do some extra janitorial work, and analysis.<br>\n",
    "If you've never used Pandas, you're in for a treat!"
   ]
  },
  {
   "cell_type": "markdown",
   "metadata": {},
   "source": [
    "## Cleaning Data with Pandas <a id='clean'></a>\n",
    "The data we have is straight from the HTML table--<br>\n",
    "it is human-readible, but not machine readible.\n",
    "\n",
    "Let's use Pandas to clean up the the data (stored in a DataFrame `df`)...<br>\n",
    "As a first step, we can add a timestamp for context."
   ]
  },
  {
   "cell_type": "code",
   "execution_count": 9,
   "metadata": {
    "collapsed": true
   },
   "outputs": [],
   "source": [
    "df['scrape_timestamp'] = today"
   ]
  },
  {
   "cell_type": "markdown",
   "metadata": {},
   "source": [
    "### Renaming Columns\n",
    "Let's make the columns more descriptive, by including the unit in each column (USD).<br>\n",
    "We can do this by replacing column names using a key-value store (a dictionary)"
   ]
  },
  {
   "cell_type": "code",
   "execution_count": 10,
   "metadata": {
    "collapsed": true
   },
   "outputs": [],
   "source": [
    "col_name_w_currency = {\n",
    "    'Market Cap' : 'market_cap_usd',\n",
    "    'Price' : 'price_usd',\n",
    "    'Volume (24h)': 'volume_24h_usd',\n",
    "}"
   ]
  },
  {
   "cell_type": "markdown",
   "metadata": {},
   "source": [
    "and a function that operates on each column name."
   ]
  },
  {
   "cell_type": "code",
   "execution_count": 11,
   "metadata": {
    "collapsed": true
   },
   "outputs": [],
   "source": [
    "def clean_up_col(col):\n",
    "    '''\n",
    "    Adds currency unit to relevant column names,\n",
    "    replaces spaces for underscores, \n",
    "    replaces % symbols for \"percent_change\",\n",
    "    and returns the updated column in lower case.\n",
    "    '''\n",
    "    col = col_name_w_currency.get(col, col)\n",
    "    col = col.replace(' ', '_')\n",
    "    col = col.replace('%', 'percent_change')\n",
    "    return col.lower()"
   ]
  },
  {
   "cell_type": "markdown",
   "metadata": {},
   "source": [
    "Now let's iterate through each column name in `df`, and apply `clean_up_col` to each.<br>\n",
    "For reference: `[x for x in some_iterator]` is called a list comprehension, which is a slight modification to a for loop."
   ]
  },
  {
   "cell_type": "code",
   "execution_count": 12,
   "metadata": {
    "collapsed": true
   },
   "outputs": [],
   "source": [
    "df.columns = [clean_up_col(c) for c in df.columns]"
   ]
  },
  {
   "cell_type": "code",
   "execution_count": 13,
   "metadata": {},
   "outputs": [
    {
     "data": {
      "text/plain": [
       "name                          object\n",
       "symbol                        object\n",
       "market_cap_usd                object\n",
       "price_usd                     object\n",
       "circulating_supply            object\n",
       "volume_24h_usd                object\n",
       "percent_change_1h             object\n",
       "percent_change_24h            object\n",
       "percent_change_7d             object\n",
       "scrape_timestamp      datetime64[ns]\n",
       "dtype: object"
      ]
     },
     "execution_count": 13,
     "metadata": {},
     "output_type": "execute_result"
    }
   ],
   "source": [
    "df.dtypes"
   ]
  },
  {
   "cell_type": "code",
   "execution_count": 14,
   "metadata": {},
   "outputs": [
    {
     "data": {
      "text/html": [
       "<div>\n",
       "<style>\n",
       "    .dataframe thead tr:only-child th {\n",
       "        text-align: right;\n",
       "    }\n",
       "\n",
       "    .dataframe thead th {\n",
       "        text-align: left;\n",
       "    }\n",
       "\n",
       "    .dataframe tbody tr th {\n",
       "        vertical-align: top;\n",
       "    }\n",
       "</style>\n",
       "<table border=\"1\" class=\"dataframe\">\n",
       "  <thead>\n",
       "    <tr style=\"text-align: right;\">\n",
       "      <th></th>\n",
       "      <th>name</th>\n",
       "      <th>symbol</th>\n",
       "      <th>market_cap_usd</th>\n",
       "      <th>price_usd</th>\n",
       "      <th>circulating_supply</th>\n",
       "      <th>volume_24h_usd</th>\n",
       "      <th>percent_change_1h</th>\n",
       "      <th>percent_change_24h</th>\n",
       "      <th>percent_change_7d</th>\n",
       "      <th>scrape_timestamp</th>\n",
       "    </tr>\n",
       "    <tr>\n",
       "      <th>#</th>\n",
       "      <th></th>\n",
       "      <th></th>\n",
       "      <th></th>\n",
       "      <th></th>\n",
       "      <th></th>\n",
       "      <th></th>\n",
       "      <th></th>\n",
       "      <th></th>\n",
       "      <th></th>\n",
       "      <th></th>\n",
       "    </tr>\n",
       "  </thead>\n",
       "  <tbody>\n",
       "    <tr>\n",
       "      <th>1</th>\n",
       "      <td>BTC Bitcoin</td>\n",
       "      <td>BTC</td>\n",
       "      <td>$101,127,463,297</td>\n",
       "      <td>$6063.97</td>\n",
       "      <td>16676775</td>\n",
       "      <td>$8,482,620,000</td>\n",
       "      <td>0.83%</td>\n",
       "      <td>2.02%</td>\n",
       "      <td>-17.44%</td>\n",
       "      <td>2017-11-12 23:51:38.894699</td>\n",
       "    </tr>\n",
       "    <tr>\n",
       "      <th>2</th>\n",
       "      <td>ETH Ethereum</td>\n",
       "      <td>ETH</td>\n",
       "      <td>$30,032,324,679</td>\n",
       "      <td>$313.84</td>\n",
       "      <td>95693412</td>\n",
       "      <td>$1,729,130,000</td>\n",
       "      <td>-1.08%</td>\n",
       "      <td>1.89%</td>\n",
       "      <td>6.03%</td>\n",
       "      <td>2017-11-12 23:51:38.894699</td>\n",
       "    </tr>\n",
       "    <tr>\n",
       "      <th>3</th>\n",
       "      <td>BCH Bitcoin Cash</td>\n",
       "      <td>BCH</td>\n",
       "      <td>$20,857,585,264</td>\n",
       "      <td>$1241.51</td>\n",
       "      <td>16800175</td>\n",
       "      <td>$6,682,870,000</td>\n",
       "      <td>-7.00%</td>\n",
       "      <td>-31.28%</td>\n",
       "      <td>94.33%</td>\n",
       "      <td>2017-11-12 23:51:38.894699</td>\n",
       "    </tr>\n",
       "    <tr>\n",
       "      <th>4</th>\n",
       "      <td>XRP Ripple</td>\n",
       "      <td>XRP</td>\n",
       "      <td>$7,681,647,599</td>\n",
       "      <td>$0.199360</td>\n",
       "      <td>38,531,538,922  *</td>\n",
       "      <td>$253,269,000</td>\n",
       "      <td>-0.82%</td>\n",
       "      <td>-2.93%</td>\n",
       "      <td>-1.56%</td>\n",
       "      <td>2017-11-12 23:51:38.894699</td>\n",
       "    </tr>\n",
       "  </tbody>\n",
       "</table>\n",
       "</div>"
      ],
      "text/plain": [
       "               name symbol    market_cap_usd  price_usd circulating_supply  \\\n",
       "#                                                                            \n",
       "1       BTC Bitcoin    BTC  $101,127,463,297   $6063.97           16676775   \n",
       "2      ETH Ethereum    ETH   $30,032,324,679    $313.84           95693412   \n",
       "3  BCH Bitcoin Cash    BCH   $20,857,585,264   $1241.51           16800175   \n",
       "4        XRP Ripple    XRP    $7,681,647,599  $0.199360  38,531,538,922  *   \n",
       "\n",
       "   volume_24h_usd percent_change_1h percent_change_24h percent_change_7d  \\\n",
       "#                                                                          \n",
       "1  $8,482,620,000             0.83%              2.02%           -17.44%   \n",
       "2  $1,729,130,000            -1.08%              1.89%             6.03%   \n",
       "3  $6,682,870,000            -7.00%            -31.28%            94.33%   \n",
       "4    $253,269,000            -0.82%             -2.93%            -1.56%   \n",
       "\n",
       "            scrape_timestamp  \n",
       "#                             \n",
       "1 2017-11-12 23:51:38.894699  \n",
       "2 2017-11-12 23:51:38.894699  \n",
       "3 2017-11-12 23:51:38.894699  \n",
       "4 2017-11-12 23:51:38.894699  "
      ]
     },
     "execution_count": 14,
     "metadata": {},
     "output_type": "execute_result"
    }
   ],
   "source": [
    "df.head(4)"
   ]
  },
  {
   "cell_type": "markdown",
   "metadata": {},
   "source": [
    "Notice that some columns have an asterix (used to denote that the currency are not minable).<br>\n",
    "We can convert this feature into a new column by leveraging Pandas DataFrames' `apply` function -- <br>\n",
    "which applies any function (anonymous or declared) across either columns (`axis`=0) or rows (`axis`=1)."
   ]
  },
  {
   "cell_type": "code",
   "execution_count": 15,
   "metadata": {
    "collapsed": true
   },
   "outputs": [],
   "source": [
    "def is_minable(row):\n",
    "    '''\n",
    "    Check if `circulating_supply` contains an asterix.\n",
    "    This function operates on each row of the dataframe.\n",
    "    If the ICO is not minable, we'll find an asterix and return 0.\n",
    "    \n",
    "    Note:\n",
    "    That when we apply a function across a row,\n",
    "    the entire row is treated as a key-value pair.\n",
    "    '''\n",
    "    circulating_supply = row['circulating_supply']\n",
    "    \n",
    "    if '*' in circulating_supply:\n",
    "        return 0\n",
    "    \n",
    "    else:\n",
    "        return 1"
   ]
  },
  {
   "cell_type": "code",
   "execution_count": 16,
   "metadata": {
    "collapsed": true
   },
   "outputs": [],
   "source": [
    "df['is_minable'] = df.apply(is_minable, axis=1)"
   ]
  },
  {
   "cell_type": "code",
   "execution_count": 17,
   "metadata": {},
   "outputs": [
    {
     "data": {
      "text/html": [
       "<div>\n",
       "<style>\n",
       "    .dataframe thead tr:only-child th {\n",
       "        text-align: right;\n",
       "    }\n",
       "\n",
       "    .dataframe thead th {\n",
       "        text-align: left;\n",
       "    }\n",
       "\n",
       "    .dataframe tbody tr th {\n",
       "        vertical-align: top;\n",
       "    }\n",
       "</style>\n",
       "<table border=\"1\" class=\"dataframe\">\n",
       "  <thead>\n",
       "    <tr style=\"text-align: right;\">\n",
       "      <th></th>\n",
       "      <th>name</th>\n",
       "      <th>symbol</th>\n",
       "      <th>market_cap_usd</th>\n",
       "      <th>price_usd</th>\n",
       "      <th>circulating_supply</th>\n",
       "      <th>volume_24h_usd</th>\n",
       "      <th>percent_change_1h</th>\n",
       "      <th>percent_change_24h</th>\n",
       "      <th>percent_change_7d</th>\n",
       "      <th>scrape_timestamp</th>\n",
       "      <th>is_minable</th>\n",
       "    </tr>\n",
       "    <tr>\n",
       "      <th>#</th>\n",
       "      <th></th>\n",
       "      <th></th>\n",
       "      <th></th>\n",
       "      <th></th>\n",
       "      <th></th>\n",
       "      <th></th>\n",
       "      <th></th>\n",
       "      <th></th>\n",
       "      <th></th>\n",
       "      <th></th>\n",
       "      <th></th>\n",
       "    </tr>\n",
       "  </thead>\n",
       "  <tbody>\n",
       "    <tr>\n",
       "      <th>1</th>\n",
       "      <td>BTC Bitcoin</td>\n",
       "      <td>BTC</td>\n",
       "      <td>$101,127,463,297</td>\n",
       "      <td>$6063.97</td>\n",
       "      <td>16676775</td>\n",
       "      <td>$8,482,620,000</td>\n",
       "      <td>0.83%</td>\n",
       "      <td>2.02%</td>\n",
       "      <td>-17.44%</td>\n",
       "      <td>2017-11-12 23:51:38.894699</td>\n",
       "      <td>1</td>\n",
       "    </tr>\n",
       "    <tr>\n",
       "      <th>2</th>\n",
       "      <td>ETH Ethereum</td>\n",
       "      <td>ETH</td>\n",
       "      <td>$30,032,324,679</td>\n",
       "      <td>$313.84</td>\n",
       "      <td>95693412</td>\n",
       "      <td>$1,729,130,000</td>\n",
       "      <td>-1.08%</td>\n",
       "      <td>1.89%</td>\n",
       "      <td>6.03%</td>\n",
       "      <td>2017-11-12 23:51:38.894699</td>\n",
       "      <td>1</td>\n",
       "    </tr>\n",
       "    <tr>\n",
       "      <th>3</th>\n",
       "      <td>BCH Bitcoin Cash</td>\n",
       "      <td>BCH</td>\n",
       "      <td>$20,857,585,264</td>\n",
       "      <td>$1241.51</td>\n",
       "      <td>16800175</td>\n",
       "      <td>$6,682,870,000</td>\n",
       "      <td>-7.00%</td>\n",
       "      <td>-31.28%</td>\n",
       "      <td>94.33%</td>\n",
       "      <td>2017-11-12 23:51:38.894699</td>\n",
       "      <td>1</td>\n",
       "    </tr>\n",
       "    <tr>\n",
       "      <th>4</th>\n",
       "      <td>XRP Ripple</td>\n",
       "      <td>XRP</td>\n",
       "      <td>$7,681,647,599</td>\n",
       "      <td>$0.199360</td>\n",
       "      <td>38,531,538,922  *</td>\n",
       "      <td>$253,269,000</td>\n",
       "      <td>-0.82%</td>\n",
       "      <td>-2.93%</td>\n",
       "      <td>-1.56%</td>\n",
       "      <td>2017-11-12 23:51:38.894699</td>\n",
       "      <td>0</td>\n",
       "    </tr>\n",
       "  </tbody>\n",
       "</table>\n",
       "</div>"
      ],
      "text/plain": [
       "               name symbol    market_cap_usd  price_usd circulating_supply  \\\n",
       "#                                                                            \n",
       "1       BTC Bitcoin    BTC  $101,127,463,297   $6063.97           16676775   \n",
       "2      ETH Ethereum    ETH   $30,032,324,679    $313.84           95693412   \n",
       "3  BCH Bitcoin Cash    BCH   $20,857,585,264   $1241.51           16800175   \n",
       "4        XRP Ripple    XRP    $7,681,647,599  $0.199360  38,531,538,922  *   \n",
       "\n",
       "   volume_24h_usd percent_change_1h percent_change_24h percent_change_7d  \\\n",
       "#                                                                          \n",
       "1  $8,482,620,000             0.83%              2.02%           -17.44%   \n",
       "2  $1,729,130,000            -1.08%              1.89%             6.03%   \n",
       "3  $6,682,870,000            -7.00%            -31.28%            94.33%   \n",
       "4    $253,269,000            -0.82%             -2.93%            -1.56%   \n",
       "\n",
       "            scrape_timestamp  is_minable  \n",
       "#                                         \n",
       "1 2017-11-12 23:51:38.894699           1  \n",
       "2 2017-11-12 23:51:38.894699           1  \n",
       "3 2017-11-12 23:51:38.894699           1  \n",
       "4 2017-11-12 23:51:38.894699           0  "
      ]
     },
     "execution_count": 17,
     "metadata": {},
     "output_type": "execute_result"
    }
   ],
   "source": [
    "df.head(4)"
   ]
  },
  {
   "cell_type": "markdown",
   "metadata": {},
   "source": [
    "### This table is now more human readible, but problematic for machines\n",
    "Why? Because there are dollar signs, commas, asterix, and percent signs in numeric values.<br>\n",
    "This causes most computers (and Pandas) to view numeric values as strings!"
   ]
  },
  {
   "cell_type": "code",
   "execution_count": 18,
   "metadata": {},
   "outputs": [
    {
     "data": {
      "text/plain": [
       "name                          object\n",
       "symbol                        object\n",
       "market_cap_usd                object\n",
       "price_usd                     object\n",
       "circulating_supply            object\n",
       "volume_24h_usd                object\n",
       "percent_change_1h             object\n",
       "percent_change_24h            object\n",
       "percent_change_7d             object\n",
       "scrape_timestamp      datetime64[ns]\n",
       "is_minable                     int64\n",
       "dtype: object"
      ]
     },
     "execution_count": 18,
     "metadata": {},
     "output_type": "execute_result"
    }
   ],
   "source": [
    "df.dtypes"
   ]
  },
  {
   "cell_type": "markdown",
   "metadata": {},
   "source": [
    "We can remove these symbols using regular expressions.<br>\n",
    "Below is a dictionary of regular expressions we can use to weed out symbols"
   ]
  },
  {
   "cell_type": "code",
   "execution_count": 19,
   "metadata": {
    "collapsed": true
   },
   "outputs": [],
   "source": [
    "replace_symbols = {\n",
    "    r'  [*]' : '',    # two spaces and any number of asterix\n",
    "    r'[\\$,%*]' : '',  # money signs, commas, percent signs, asterix\n",
    "    r'[?]' : np.nan,  # question marks becomes a null value\n",
    "    'Low Vol' : 0,    # low volume is simplified as zero...\n",
    "}"
   ]
  },
  {
   "cell_type": "markdown",
   "metadata": {},
   "source": [
    "Pandas `replace` operates on all all columns and all rows.<br>\n",
    "The coolest aspect of this function is that \n",
    "1. it can take a dictionary as an input,\n",
    "2. it can implement regular expressions, and\n",
    "3. it can operate inplace"
   ]
  },
  {
   "cell_type": "code",
   "execution_count": 20,
   "metadata": {
    "collapsed": true
   },
   "outputs": [],
   "source": [
    "df.replace(replace_symbols, regex=True, inplace=True)"
   ]
  },
  {
   "cell_type": "code",
   "execution_count": 21,
   "metadata": {},
   "outputs": [
    {
     "data": {
      "text/html": [
       "<div>\n",
       "<style>\n",
       "    .dataframe thead tr:only-child th {\n",
       "        text-align: right;\n",
       "    }\n",
       "\n",
       "    .dataframe thead th {\n",
       "        text-align: left;\n",
       "    }\n",
       "\n",
       "    .dataframe tbody tr th {\n",
       "        vertical-align: top;\n",
       "    }\n",
       "</style>\n",
       "<table border=\"1\" class=\"dataframe\">\n",
       "  <thead>\n",
       "    <tr style=\"text-align: right;\">\n",
       "      <th></th>\n",
       "      <th>name</th>\n",
       "      <th>symbol</th>\n",
       "      <th>market_cap_usd</th>\n",
       "      <th>price_usd</th>\n",
       "      <th>circulating_supply</th>\n",
       "      <th>volume_24h_usd</th>\n",
       "      <th>percent_change_1h</th>\n",
       "      <th>percent_change_24h</th>\n",
       "      <th>percent_change_7d</th>\n",
       "      <th>scrape_timestamp</th>\n",
       "      <th>is_minable</th>\n",
       "    </tr>\n",
       "    <tr>\n",
       "      <th>#</th>\n",
       "      <th></th>\n",
       "      <th></th>\n",
       "      <th></th>\n",
       "      <th></th>\n",
       "      <th></th>\n",
       "      <th></th>\n",
       "      <th></th>\n",
       "      <th></th>\n",
       "      <th></th>\n",
       "      <th></th>\n",
       "      <th></th>\n",
       "    </tr>\n",
       "  </thead>\n",
       "  <tbody>\n",
       "    <tr>\n",
       "      <th>1</th>\n",
       "      <td>BTC Bitcoin</td>\n",
       "      <td>BTC</td>\n",
       "      <td>101127463297</td>\n",
       "      <td>6063.97</td>\n",
       "      <td>16676775</td>\n",
       "      <td>8482620000</td>\n",
       "      <td>0.83</td>\n",
       "      <td>2.02</td>\n",
       "      <td>-17.44</td>\n",
       "      <td>2017-11-12 23:51:38.894699</td>\n",
       "      <td>1</td>\n",
       "    </tr>\n",
       "    <tr>\n",
       "      <th>2</th>\n",
       "      <td>ETH Ethereum</td>\n",
       "      <td>ETH</td>\n",
       "      <td>30032324679</td>\n",
       "      <td>313.84</td>\n",
       "      <td>95693412</td>\n",
       "      <td>1729130000</td>\n",
       "      <td>-1.08</td>\n",
       "      <td>1.89</td>\n",
       "      <td>6.03</td>\n",
       "      <td>2017-11-12 23:51:38.894699</td>\n",
       "      <td>1</td>\n",
       "    </tr>\n",
       "    <tr>\n",
       "      <th>3</th>\n",
       "      <td>BCH Bitcoin Cash</td>\n",
       "      <td>BCH</td>\n",
       "      <td>20857585264</td>\n",
       "      <td>1241.51</td>\n",
       "      <td>16800175</td>\n",
       "      <td>6682870000</td>\n",
       "      <td>-7.00</td>\n",
       "      <td>-31.28</td>\n",
       "      <td>94.33</td>\n",
       "      <td>2017-11-12 23:51:38.894699</td>\n",
       "      <td>1</td>\n",
       "    </tr>\n",
       "    <tr>\n",
       "      <th>4</th>\n",
       "      <td>XRP Ripple</td>\n",
       "      <td>XRP</td>\n",
       "      <td>7681647599</td>\n",
       "      <td>0.199360</td>\n",
       "      <td>38531538922</td>\n",
       "      <td>253269000</td>\n",
       "      <td>-0.82</td>\n",
       "      <td>-2.93</td>\n",
       "      <td>-1.56</td>\n",
       "      <td>2017-11-12 23:51:38.894699</td>\n",
       "      <td>0</td>\n",
       "    </tr>\n",
       "  </tbody>\n",
       "</table>\n",
       "</div>"
      ],
      "text/plain": [
       "               name symbol market_cap_usd price_usd circulating_supply  \\\n",
       "#                                                                        \n",
       "1       BTC Bitcoin    BTC   101127463297   6063.97           16676775   \n",
       "2      ETH Ethereum    ETH    30032324679    313.84           95693412   \n",
       "3  BCH Bitcoin Cash    BCH    20857585264   1241.51           16800175   \n",
       "4        XRP Ripple    XRP     7681647599  0.199360        38531538922   \n",
       "\n",
       "  volume_24h_usd percent_change_1h percent_change_24h percent_change_7d  \\\n",
       "#                                                                         \n",
       "1     8482620000              0.83               2.02            -17.44   \n",
       "2     1729130000             -1.08               1.89              6.03   \n",
       "3     6682870000             -7.00             -31.28             94.33   \n",
       "4      253269000             -0.82              -2.93             -1.56   \n",
       "\n",
       "            scrape_timestamp  is_minable  \n",
       "#                                         \n",
       "1 2017-11-12 23:51:38.894699           1  \n",
       "2 2017-11-12 23:51:38.894699           1  \n",
       "3 2017-11-12 23:51:38.894699           1  \n",
       "4 2017-11-12 23:51:38.894699           0  "
      ]
     },
     "execution_count": 21,
     "metadata": {},
     "output_type": "execute_result"
    }
   ],
   "source": [
    "df.head(4)"
   ]
  },
  {
   "cell_type": "markdown",
   "metadata": {},
   "source": [
    "This looks good to me! Let's write this clean dataset to a csv.<br>\n",
    "A best practice in data engineering is to create a function to programmatically generate file paths and directories."
   ]
  },
  {
   "cell_type": "code",
   "execution_count": 22,
   "metadata": {
    "collapsed": true
   },
   "outputs": [],
   "source": [
    "def create_filename(root_dir, today):\n",
    "    '''\n",
    "    This function creates the filename, \n",
    "    it also creates the directory for the file if the directory doesn't exist.\n",
    "    '''\n",
    "    f_template = '{year}/{month}/{day}/{hour}/market_cap_USD_{time}.csv.gz'\n",
    "    f = f_template.format(year = today.year,\n",
    "                          month= today.month,\n",
    "                          day  = today.day,\n",
    "                          hour = today.strftime('%H'),\n",
    "                          time = today.strftime('%H:%M:%S'))\n",
    "    \n",
    "    f_out = os.path.join(root_dir, f)\n",
    "    \n",
    "    dir_out = '/'.join(f_out.split('/')[:-1])\n",
    "    if not os.path.exists(dir_out):\n",
    "        os.makedirs(dir_out, exist_ok=True)\n",
    "    \n",
    "    return f_out"
   ]
  },
  {
   "cell_type": "code",
   "execution_count": 23,
   "metadata": {},
   "outputs": [
    {
     "data": {
      "text/plain": [
       "'./2017/11/12/23/market_cap_USD_23:51:38.csv.gz'"
      ]
     },
     "execution_count": 23,
     "metadata": {},
     "output_type": "execute_result"
    }
   ],
   "source": [
    "file = create_filename(root_dir, today)\n",
    "file"
   ]
  },
  {
   "cell_type": "code",
   "execution_count": 24,
   "metadata": {
    "collapsed": true
   },
   "outputs": [],
   "source": [
    "df.to_csv(file, index=None, compression='gzip')"
   ]
  },
  {
   "cell_type": "markdown",
   "metadata": {},
   "source": [
    "## Let's do some analysis <a id='analysis'></a>\n",
    "How's the data look?"
   ]
  },
  {
   "cell_type": "code",
   "execution_count": 25,
   "metadata": {
    "collapsed": true
   },
   "outputs": [],
   "source": [
    "df = pd.read_csv(file, compression='gzip')"
   ]
  },
  {
   "cell_type": "code",
   "execution_count": 26,
   "metadata": {},
   "outputs": [
    {
     "data": {
      "text/html": [
       "<div>\n",
       "<style>\n",
       "    .dataframe thead tr:only-child th {\n",
       "        text-align: right;\n",
       "    }\n",
       "\n",
       "    .dataframe thead th {\n",
       "        text-align: left;\n",
       "    }\n",
       "\n",
       "    .dataframe tbody tr th {\n",
       "        vertical-align: top;\n",
       "    }\n",
       "</style>\n",
       "<table border=\"1\" class=\"dataframe\">\n",
       "  <thead>\n",
       "    <tr style=\"text-align: right;\">\n",
       "      <th></th>\n",
       "      <th>name</th>\n",
       "      <th>symbol</th>\n",
       "      <th>market_cap_usd</th>\n",
       "      <th>price_usd</th>\n",
       "      <th>circulating_supply</th>\n",
       "      <th>volume_24h_usd</th>\n",
       "      <th>percent_change_1h</th>\n",
       "      <th>percent_change_24h</th>\n",
       "      <th>percent_change_7d</th>\n",
       "      <th>scrape_timestamp</th>\n",
       "      <th>is_minable</th>\n",
       "    </tr>\n",
       "  </thead>\n",
       "  <tbody>\n",
       "    <tr>\n",
       "      <th>0</th>\n",
       "      <td>BTC Bitcoin</td>\n",
       "      <td>BTC</td>\n",
       "      <td>1.011275e+11</td>\n",
       "      <td>6063.97000</td>\n",
       "      <td>1.667678e+07</td>\n",
       "      <td>8.482620e+09</td>\n",
       "      <td>0.83</td>\n",
       "      <td>2.02</td>\n",
       "      <td>-17.44</td>\n",
       "      <td>2017-11-12 23:51:38.894699</td>\n",
       "      <td>1</td>\n",
       "    </tr>\n",
       "    <tr>\n",
       "      <th>1</th>\n",
       "      <td>ETH Ethereum</td>\n",
       "      <td>ETH</td>\n",
       "      <td>3.003232e+10</td>\n",
       "      <td>313.84000</td>\n",
       "      <td>9.569341e+07</td>\n",
       "      <td>1.729130e+09</td>\n",
       "      <td>-1.08</td>\n",
       "      <td>1.89</td>\n",
       "      <td>6.03</td>\n",
       "      <td>2017-11-12 23:51:38.894699</td>\n",
       "      <td>1</td>\n",
       "    </tr>\n",
       "    <tr>\n",
       "      <th>2</th>\n",
       "      <td>BCH Bitcoin Cash</td>\n",
       "      <td>BCH</td>\n",
       "      <td>2.085759e+10</td>\n",
       "      <td>1241.51000</td>\n",
       "      <td>1.680018e+07</td>\n",
       "      <td>6.682870e+09</td>\n",
       "      <td>-7.00</td>\n",
       "      <td>-31.28</td>\n",
       "      <td>94.33</td>\n",
       "      <td>2017-11-12 23:51:38.894699</td>\n",
       "      <td>1</td>\n",
       "    </tr>\n",
       "    <tr>\n",
       "      <th>3</th>\n",
       "      <td>XRP Ripple</td>\n",
       "      <td>XRP</td>\n",
       "      <td>7.681648e+09</td>\n",
       "      <td>0.19936</td>\n",
       "      <td>3.853154e+10</td>\n",
       "      <td>2.532690e+08</td>\n",
       "      <td>-0.82</td>\n",
       "      <td>-2.93</td>\n",
       "      <td>-1.56</td>\n",
       "      <td>2017-11-12 23:51:38.894699</td>\n",
       "      <td>0</td>\n",
       "    </tr>\n",
       "    <tr>\n",
       "      <th>4</th>\n",
       "      <td>DASH Dash</td>\n",
       "      <td>DASH</td>\n",
       "      <td>3.366096e+09</td>\n",
       "      <td>437.99000</td>\n",
       "      <td>7.685290e+06</td>\n",
       "      <td>5.150790e+08</td>\n",
       "      <td>-2.31</td>\n",
       "      <td>27.63</td>\n",
       "      <td>61.30</td>\n",
       "      <td>2017-11-12 23:51:38.894699</td>\n",
       "      <td>1</td>\n",
       "    </tr>\n",
       "  </tbody>\n",
       "</table>\n",
       "</div>"
      ],
      "text/plain": [
       "               name symbol  market_cap_usd   price_usd  circulating_supply  \\\n",
       "0       BTC Bitcoin    BTC    1.011275e+11  6063.97000        1.667678e+07   \n",
       "1      ETH Ethereum    ETH    3.003232e+10   313.84000        9.569341e+07   \n",
       "2  BCH Bitcoin Cash    BCH    2.085759e+10  1241.51000        1.680018e+07   \n",
       "3        XRP Ripple    XRP    7.681648e+09     0.19936        3.853154e+10   \n",
       "4         DASH Dash   DASH    3.366096e+09   437.99000        7.685290e+06   \n",
       "\n",
       "   volume_24h_usd  percent_change_1h  percent_change_24h  percent_change_7d  \\\n",
       "0    8.482620e+09               0.83                2.02             -17.44   \n",
       "1    1.729130e+09              -1.08                1.89               6.03   \n",
       "2    6.682870e+09              -7.00              -31.28              94.33   \n",
       "3    2.532690e+08              -0.82               -2.93              -1.56   \n",
       "4    5.150790e+08              -2.31               27.63              61.30   \n",
       "\n",
       "             scrape_timestamp  is_minable  \n",
       "0  2017-11-12 23:51:38.894699           1  \n",
       "1  2017-11-12 23:51:38.894699           1  \n",
       "2  2017-11-12 23:51:38.894699           1  \n",
       "3  2017-11-12 23:51:38.894699           0  \n",
       "4  2017-11-12 23:51:38.894699           1  "
      ]
     },
     "execution_count": 26,
     "metadata": {},
     "output_type": "execute_result"
    }
   ],
   "source": [
    "df.head()"
   ]
  },
  {
   "cell_type": "markdown",
   "metadata": {},
   "source": [
    "Monetary and percentages are now floats!"
   ]
  },
  {
   "cell_type": "code",
   "execution_count": 27,
   "metadata": {},
   "outputs": [
    {
     "data": {
      "text/plain": [
       "name                   object\n",
       "symbol                 object\n",
       "market_cap_usd        float64\n",
       "price_usd             float64\n",
       "circulating_supply    float64\n",
       "volume_24h_usd        float64\n",
       "percent_change_1h     float64\n",
       "percent_change_24h    float64\n",
       "percent_change_7d     float64\n",
       "scrape_timestamp       object\n",
       "is_minable              int64\n",
       "dtype: object"
      ]
     },
     "execution_count": 27,
     "metadata": {},
     "output_type": "execute_result"
    }
   ],
   "source": [
    "df.dtypes"
   ]
  },
  {
   "cell_type": "markdown",
   "metadata": {},
   "source": [
    "We can get a big picture of what's going on:\n"
   ]
  },
  {
   "cell_type": "code",
   "execution_count": 28,
   "metadata": {},
   "outputs": [
    {
     "data": {
      "text/html": [
       "<div>\n",
       "<style>\n",
       "    .dataframe thead tr:only-child th {\n",
       "        text-align: right;\n",
       "    }\n",
       "\n",
       "    .dataframe thead th {\n",
       "        text-align: left;\n",
       "    }\n",
       "\n",
       "    .dataframe tbody tr th {\n",
       "        vertical-align: top;\n",
       "    }\n",
       "</style>\n",
       "<table border=\"1\" class=\"dataframe\">\n",
       "  <thead>\n",
       "    <tr style=\"text-align: right;\">\n",
       "      <th></th>\n",
       "      <th>count</th>\n",
       "      <th>mean</th>\n",
       "      <th>std</th>\n",
       "      <th>min</th>\n",
       "      <th>25%</th>\n",
       "      <th>50%</th>\n",
       "      <th>75%</th>\n",
       "      <th>max</th>\n",
       "    </tr>\n",
       "  </thead>\n",
       "  <tbody>\n",
       "    <tr>\n",
       "      <th>market_cap_usd</th>\n",
       "      <td>989.0</td>\n",
       "      <td>1.963760e+08</td>\n",
       "      <td>3.430574e+09</td>\n",
       "      <td>4.000000e+00</td>\n",
       "      <td>8.837900e+04</td>\n",
       "      <td>8.558710e+05</td>\n",
       "      <td>8.600916e+06</td>\n",
       "      <td>1.011275e+11</td>\n",
       "    </tr>\n",
       "    <tr>\n",
       "      <th>price_usd</th>\n",
       "      <td>1277.0</td>\n",
       "      <td>2.536656e+02</td>\n",
       "      <td>5.668109e+03</td>\n",
       "      <td>1.500000e-08</td>\n",
       "      <td>2.220000e-03</td>\n",
       "      <td>2.699000e-02</td>\n",
       "      <td>2.745740e-01</td>\n",
       "      <td>1.759190e+05</td>\n",
       "    </tr>\n",
       "    <tr>\n",
       "      <th>circulating_supply</th>\n",
       "      <td>989.0</td>\n",
       "      <td>5.723924e+09</td>\n",
       "      <td>5.030577e+10</td>\n",
       "      <td>7.826400e-02</td>\n",
       "      <td>4.882231e+06</td>\n",
       "      <td>2.209210e+07</td>\n",
       "      <td>1.088350e+08</td>\n",
       "      <td>1.055692e+12</td>\n",
       "    </tr>\n",
       "    <tr>\n",
       "      <th>volume_24h_usd</th>\n",
       "      <td>1256.0</td>\n",
       "      <td>1.674976e+07</td>\n",
       "      <td>3.115971e+08</td>\n",
       "      <td>0.000000e+00</td>\n",
       "      <td>0.000000e+00</td>\n",
       "      <td>1.643500e+03</td>\n",
       "      <td>5.893950e+04</td>\n",
       "      <td>8.482620e+09</td>\n",
       "    </tr>\n",
       "    <tr>\n",
       "      <th>percent_change_1h</th>\n",
       "      <td>1179.0</td>\n",
       "      <td>5.570483e-01</td>\n",
       "      <td>1.021335e+01</td>\n",
       "      <td>-6.836000e+01</td>\n",
       "      <td>-1.700000e-01</td>\n",
       "      <td>7.000000e-01</td>\n",
       "      <td>9.400000e-01</td>\n",
       "      <td>2.463900e+02</td>\n",
       "    </tr>\n",
       "    <tr>\n",
       "      <th>percent_change_24h</th>\n",
       "      <td>1195.0</td>\n",
       "      <td>1.238731e+01</td>\n",
       "      <td>2.183082e+02</td>\n",
       "      <td>-9.202000e+01</td>\n",
       "      <td>-6.475000e+00</td>\n",
       "      <td>-3.700000e-01</td>\n",
       "      <td>5.050000e+00</td>\n",
       "      <td>6.580410e+03</td>\n",
       "    </tr>\n",
       "    <tr>\n",
       "      <th>percent_change_7d</th>\n",
       "      <td>1189.0</td>\n",
       "      <td>4.098057e+00</td>\n",
       "      <td>1.568465e+02</td>\n",
       "      <td>-9.895000e+01</td>\n",
       "      <td>-2.301000e+01</td>\n",
       "      <td>-1.045000e+01</td>\n",
       "      <td>7.460000e+00</td>\n",
       "      <td>4.973090e+03</td>\n",
       "    </tr>\n",
       "    <tr>\n",
       "      <th>is_minable</th>\n",
       "      <td>1278.0</td>\n",
       "      <td>4.749609e-01</td>\n",
       "      <td>4.995681e-01</td>\n",
       "      <td>0.000000e+00</td>\n",
       "      <td>0.000000e+00</td>\n",
       "      <td>0.000000e+00</td>\n",
       "      <td>1.000000e+00</td>\n",
       "      <td>1.000000e+00</td>\n",
       "    </tr>\n",
       "  </tbody>\n",
       "</table>\n",
       "</div>"
      ],
      "text/plain": [
       "                     count          mean           std           min  \\\n",
       "market_cap_usd       989.0  1.963760e+08  3.430574e+09  4.000000e+00   \n",
       "price_usd           1277.0  2.536656e+02  5.668109e+03  1.500000e-08   \n",
       "circulating_supply   989.0  5.723924e+09  5.030577e+10  7.826400e-02   \n",
       "volume_24h_usd      1256.0  1.674976e+07  3.115971e+08  0.000000e+00   \n",
       "percent_change_1h   1179.0  5.570483e-01  1.021335e+01 -6.836000e+01   \n",
       "percent_change_24h  1195.0  1.238731e+01  2.183082e+02 -9.202000e+01   \n",
       "percent_change_7d   1189.0  4.098057e+00  1.568465e+02 -9.895000e+01   \n",
       "is_minable          1278.0  4.749609e-01  4.995681e-01  0.000000e+00   \n",
       "\n",
       "                             25%           50%           75%           max  \n",
       "market_cap_usd      8.837900e+04  8.558710e+05  8.600916e+06  1.011275e+11  \n",
       "price_usd           2.220000e-03  2.699000e-02  2.745740e-01  1.759190e+05  \n",
       "circulating_supply  4.882231e+06  2.209210e+07  1.088350e+08  1.055692e+12  \n",
       "volume_24h_usd      0.000000e+00  1.643500e+03  5.893950e+04  8.482620e+09  \n",
       "percent_change_1h  -1.700000e-01  7.000000e-01  9.400000e-01  2.463900e+02  \n",
       "percent_change_24h -6.475000e+00 -3.700000e-01  5.050000e+00  6.580410e+03  \n",
       "percent_change_7d  -2.301000e+01 -1.045000e+01  7.460000e+00  4.973090e+03  \n",
       "is_minable          0.000000e+00  0.000000e+00  1.000000e+00  1.000000e+00  "
      ]
     },
     "execution_count": 28,
     "metadata": {},
     "output_type": "execute_result"
    }
   ],
   "source": [
    "df.describe().T"
   ]
  },
  {
   "cell_type": "markdown",
   "metadata": {},
   "source": [
    "There are aggregation fucntions we can use to calculate the market cap:"
   ]
  },
  {
   "cell_type": "code",
   "execution_count": 29,
   "metadata": {},
   "outputs": [
    {
     "data": {
      "text/plain": [
       "194215909708.0"
      ]
     },
     "execution_count": 29,
     "metadata": {},
     "output_type": "execute_result"
    }
   ],
   "source": [
    "df['market_cap_usd'].sum()"
   ]
  },
  {
   "cell_type": "markdown",
   "metadata": {},
   "source": [
    "We can also find which ICOs have dropped by more than 60% since the past week:"
   ]
  },
  {
   "cell_type": "code",
   "execution_count": 30,
   "metadata": {},
   "outputs": [
    {
     "data": {
      "text/html": [
       "<div>\n",
       "<style>\n",
       "    .dataframe thead tr:only-child th {\n",
       "        text-align: right;\n",
       "    }\n",
       "\n",
       "    .dataframe thead th {\n",
       "        text-align: left;\n",
       "    }\n",
       "\n",
       "    .dataframe tbody tr th {\n",
       "        vertical-align: top;\n",
       "    }\n",
       "</style>\n",
       "<table border=\"1\" class=\"dataframe\">\n",
       "  <thead>\n",
       "    <tr style=\"text-align: right;\">\n",
       "      <th></th>\n",
       "      <th>name</th>\n",
       "      <th>symbol</th>\n",
       "      <th>market_cap_usd</th>\n",
       "      <th>price_usd</th>\n",
       "      <th>circulating_supply</th>\n",
       "      <th>volume_24h_usd</th>\n",
       "      <th>percent_change_1h</th>\n",
       "      <th>percent_change_24h</th>\n",
       "      <th>percent_change_7d</th>\n",
       "      <th>scrape_timestamp</th>\n",
       "      <th>is_minable</th>\n",
       "    </tr>\n",
       "  </thead>\n",
       "  <tbody>\n",
       "    <tr>\n",
       "      <th>187</th>\n",
       "      <td>BQ bitqy</td>\n",
       "      <td>BQ</td>\n",
       "      <td>14271249.0</td>\n",
       "      <td>0.006137</td>\n",
       "      <td>2.325626e+09</td>\n",
       "      <td>42124.0</td>\n",
       "      <td>2.72</td>\n",
       "      <td>-51.57</td>\n",
       "      <td>-76.45</td>\n",
       "      <td>2017-11-12 23:51:38.894699</td>\n",
       "      <td>0</td>\n",
       "    </tr>\n",
       "    <tr>\n",
       "      <th>199</th>\n",
       "      <td>MCAP MCAP</td>\n",
       "      <td>MCAP</td>\n",
       "      <td>12938259.0</td>\n",
       "      <td>0.337852</td>\n",
       "      <td>3.829564e+07</td>\n",
       "      <td>684875.0</td>\n",
       "      <td>0.67</td>\n",
       "      <td>-10.78</td>\n",
       "      <td>-74.60</td>\n",
       "      <td>2017-11-12 23:51:38.894699</td>\n",
       "      <td>0</td>\n",
       "    </tr>\n",
       "    <tr>\n",
       "      <th>369</th>\n",
       "      <td>DIME Dimecoin</td>\n",
       "      <td>DIME</td>\n",
       "      <td>2610862.0</td>\n",
       "      <td>0.000005</td>\n",
       "      <td>5.371790e+11</td>\n",
       "      <td>1922.0</td>\n",
       "      <td>1.55</td>\n",
       "      <td>-42.23</td>\n",
       "      <td>-74.56</td>\n",
       "      <td>2017-11-12 23:51:38.894699</td>\n",
       "      <td>1</td>\n",
       "    </tr>\n",
       "    <tr>\n",
       "      <th>428</th>\n",
       "      <td>NYC NewYorkCoin</td>\n",
       "      <td>NYC</td>\n",
       "      <td>1407373.0</td>\n",
       "      <td>0.000011</td>\n",
       "      <td>1.290328e+11</td>\n",
       "      <td>6220.0</td>\n",
       "      <td>1.46</td>\n",
       "      <td>-21.66</td>\n",
       "      <td>-73.80</td>\n",
       "      <td>2017-11-12 23:51:38.894699</td>\n",
       "      <td>1</td>\n",
       "    </tr>\n",
       "    <tr>\n",
       "      <th>452</th>\n",
       "      <td>GRE Greencoin</td>\n",
       "      <td>GRE</td>\n",
       "      <td>1035818.0</td>\n",
       "      <td>0.000294</td>\n",
       "      <td>3.527281e+09</td>\n",
       "      <td>2081.0</td>\n",
       "      <td>0.71</td>\n",
       "      <td>69.54</td>\n",
       "      <td>-77.56</td>\n",
       "      <td>2017-11-12 23:51:38.894699</td>\n",
       "      <td>0</td>\n",
       "    </tr>\n",
       "  </tbody>\n",
       "</table>\n",
       "</div>"
      ],
      "text/plain": [
       "                name symbol  market_cap_usd  price_usd  circulating_supply  \\\n",
       "187         BQ bitqy     BQ      14271249.0   0.006137        2.325626e+09   \n",
       "199        MCAP MCAP   MCAP      12938259.0   0.337852        3.829564e+07   \n",
       "369    DIME Dimecoin   DIME       2610862.0   0.000005        5.371790e+11   \n",
       "428  NYC NewYorkCoin    NYC       1407373.0   0.000011        1.290328e+11   \n",
       "452    GRE Greencoin    GRE       1035818.0   0.000294        3.527281e+09   \n",
       "\n",
       "     volume_24h_usd  percent_change_1h  percent_change_24h  percent_change_7d  \\\n",
       "187         42124.0               2.72              -51.57             -76.45   \n",
       "199        684875.0               0.67              -10.78             -74.60   \n",
       "369          1922.0               1.55              -42.23             -74.56   \n",
       "428          6220.0               1.46              -21.66             -73.80   \n",
       "452          2081.0               0.71               69.54             -77.56   \n",
       "\n",
       "               scrape_timestamp  is_minable  \n",
       "187  2017-11-12 23:51:38.894699           0  \n",
       "199  2017-11-12 23:51:38.894699           0  \n",
       "369  2017-11-12 23:51:38.894699           1  \n",
       "428  2017-11-12 23:51:38.894699           1  \n",
       "452  2017-11-12 23:51:38.894699           0  "
      ]
     },
     "execution_count": 30,
     "metadata": {},
     "output_type": "execute_result"
    }
   ],
   "source": [
    "df_losers = df[df['percent_change_7d'] <= -60]\n",
    "df_losers.head()"
   ]
  },
  {
   "cell_type": "markdown",
   "metadata": {},
   "source": [
    "Since we don't care about EVERY ICO, we can filter the dataframe by relevant symbols"
   ]
  },
  {
   "cell_type": "code",
   "execution_count": 31,
   "metadata": {
    "collapsed": true
   },
   "outputs": [],
   "source": [
    "watchlist = [\n",
    "    'LTC',\n",
    "    'BTC',\n",
    "    'NEO'\n",
    "]"
   ]
  },
  {
   "cell_type": "code",
   "execution_count": 32,
   "metadata": {},
   "outputs": [
    {
     "data": {
      "text/html": [
       "<div>\n",
       "<style>\n",
       "    .dataframe thead tr:only-child th {\n",
       "        text-align: right;\n",
       "    }\n",
       "\n",
       "    .dataframe thead th {\n",
       "        text-align: left;\n",
       "    }\n",
       "\n",
       "    .dataframe tbody tr th {\n",
       "        vertical-align: top;\n",
       "    }\n",
       "</style>\n",
       "<table border=\"1\" class=\"dataframe\">\n",
       "  <thead>\n",
       "    <tr style=\"text-align: right;\">\n",
       "      <th></th>\n",
       "      <th>name</th>\n",
       "      <th>symbol</th>\n",
       "      <th>market_cap_usd</th>\n",
       "      <th>price_usd</th>\n",
       "      <th>circulating_supply</th>\n",
       "      <th>volume_24h_usd</th>\n",
       "      <th>percent_change_1h</th>\n",
       "      <th>percent_change_24h</th>\n",
       "      <th>percent_change_7d</th>\n",
       "      <th>scrape_timestamp</th>\n",
       "      <th>is_minable</th>\n",
       "    </tr>\n",
       "  </thead>\n",
       "  <tbody>\n",
       "    <tr>\n",
       "      <th>0</th>\n",
       "      <td>BTC Bitcoin</td>\n",
       "      <td>BTC</td>\n",
       "      <td>1.011275e+11</td>\n",
       "      <td>6063.97</td>\n",
       "      <td>16676775.0</td>\n",
       "      <td>8.482620e+09</td>\n",
       "      <td>0.83</td>\n",
       "      <td>2.02</td>\n",
       "      <td>-17.44</td>\n",
       "      <td>2017-11-12 23:51:38.894699</td>\n",
       "      <td>1</td>\n",
       "    </tr>\n",
       "    <tr>\n",
       "      <th>5</th>\n",
       "      <td>LTC Litecoin</td>\n",
       "      <td>LTC</td>\n",
       "      <td>3.231123e+09</td>\n",
       "      <td>60.05</td>\n",
       "      <td>53805782.0</td>\n",
       "      <td>3.241390e+08</td>\n",
       "      <td>-0.05</td>\n",
       "      <td>-0.74</td>\n",
       "      <td>10.10</td>\n",
       "      <td>2017-11-12 23:51:38.894699</td>\n",
       "      <td>1</td>\n",
       "    </tr>\n",
       "    <tr>\n",
       "      <th>7</th>\n",
       "      <td>NEO NEO</td>\n",
       "      <td>NEO</td>\n",
       "      <td>1.784991e+09</td>\n",
       "      <td>27.46</td>\n",
       "      <td>65000000.0</td>\n",
       "      <td>6.038690e+07</td>\n",
       "      <td>0.23</td>\n",
       "      <td>1.39</td>\n",
       "      <td>3.91</td>\n",
       "      <td>2017-11-12 23:51:38.894699</td>\n",
       "      <td>0</td>\n",
       "    </tr>\n",
       "  </tbody>\n",
       "</table>\n",
       "</div>"
      ],
      "text/plain": [
       "           name symbol  market_cap_usd  price_usd  circulating_supply  \\\n",
       "0   BTC Bitcoin    BTC    1.011275e+11    6063.97          16676775.0   \n",
       "5  LTC Litecoin    LTC    3.231123e+09      60.05          53805782.0   \n",
       "7       NEO NEO    NEO    1.784991e+09      27.46          65000000.0   \n",
       "\n",
       "   volume_24h_usd  percent_change_1h  percent_change_24h  percent_change_7d  \\\n",
       "0    8.482620e+09               0.83                2.02             -17.44   \n",
       "5    3.241390e+08              -0.05               -0.74              10.10   \n",
       "7    6.038690e+07               0.23                1.39               3.91   \n",
       "\n",
       "             scrape_timestamp  is_minable  \n",
       "0  2017-11-12 23:51:38.894699           1  \n",
       "5  2017-11-12 23:51:38.894699           1  \n",
       "7  2017-11-12 23:51:38.894699           0  "
      ]
     },
     "execution_count": 32,
     "metadata": {},
     "output_type": "execute_result"
    }
   ],
   "source": [
    "df_w = df[df['symbol'].isin(watchlist)]\n",
    "df_w"
   ]
  },
  {
   "cell_type": "markdown",
   "metadata": {},
   "source": [
    "We can also calculate values in BTC"
   ]
  },
  {
   "cell_type": "code",
   "execution_count": 33,
   "metadata": {},
   "outputs": [
    {
     "data": {
      "text/plain": [
       "6063.9700000000003"
      ]
     },
     "execution_count": 33,
     "metadata": {},
     "output_type": "execute_result"
    }
   ],
   "source": [
    "btc_price = df[df['symbol'] == 'BTC']['price_usd'].iloc[0]\n",
    "btc_price"
   ]
  },
  {
   "cell_type": "code",
   "execution_count": 34,
   "metadata": {},
   "outputs": [
    {
     "name": "stderr",
     "output_type": "stream",
     "text": [
      "/anaconda3/lib/python3.6/site-packages/ipykernel_launcher.py:1: SettingWithCopyWarning: \n",
      "A value is trying to be set on a copy of a slice from a DataFrame.\n",
      "Try using .loc[row_indexer,col_indexer] = value instead\n",
      "\n",
      "See the caveats in the documentation: http://pandas.pydata.org/pandas-docs/stable/indexing.html#indexing-view-versus-copy\n",
      "  \"\"\"Entry point for launching an IPython kernel.\n"
     ]
    }
   ],
   "source": [
    "df_w['price_btc'] = df_w['price_usd'] / btc_price"
   ]
  },
  {
   "cell_type": "code",
   "execution_count": 35,
   "metadata": {},
   "outputs": [
    {
     "data": {
      "text/html": [
       "<div>\n",
       "<style>\n",
       "    .dataframe thead tr:only-child th {\n",
       "        text-align: right;\n",
       "    }\n",
       "\n",
       "    .dataframe thead th {\n",
       "        text-align: left;\n",
       "    }\n",
       "\n",
       "    .dataframe tbody tr th {\n",
       "        vertical-align: top;\n",
       "    }\n",
       "</style>\n",
       "<table border=\"1\" class=\"dataframe\">\n",
       "  <thead>\n",
       "    <tr style=\"text-align: right;\">\n",
       "      <th></th>\n",
       "      <th>name</th>\n",
       "      <th>symbol</th>\n",
       "      <th>price_usd</th>\n",
       "      <th>price_btc</th>\n",
       "    </tr>\n",
       "  </thead>\n",
       "  <tbody>\n",
       "    <tr>\n",
       "      <th>0</th>\n",
       "      <td>BTC Bitcoin</td>\n",
       "      <td>BTC</td>\n",
       "      <td>6063.97</td>\n",
       "      <td>1.000000</td>\n",
       "    </tr>\n",
       "    <tr>\n",
       "      <th>5</th>\n",
       "      <td>LTC Litecoin</td>\n",
       "      <td>LTC</td>\n",
       "      <td>60.05</td>\n",
       "      <td>0.009903</td>\n",
       "    </tr>\n",
       "    <tr>\n",
       "      <th>7</th>\n",
       "      <td>NEO NEO</td>\n",
       "      <td>NEO</td>\n",
       "      <td>27.46</td>\n",
       "      <td>0.004528</td>\n",
       "    </tr>\n",
       "  </tbody>\n",
       "</table>\n",
       "</div>"
      ],
      "text/plain": [
       "           name symbol  price_usd  price_btc\n",
       "0   BTC Bitcoin    BTC    6063.97   1.000000\n",
       "5  LTC Litecoin    LTC      60.05   0.009903\n",
       "7       NEO NEO    NEO      27.46   0.004528"
      ]
     },
     "execution_count": 35,
     "metadata": {},
     "output_type": "execute_result"
    }
   ],
   "source": [
    "df_w[['name', 'symbol', 'price_usd', 'price_btc']].head()"
   ]
  },
  {
   "cell_type": "markdown",
   "metadata": {},
   "source": [
    "The data we just scraped is also [available in BTC](https://coinmarketcap.com/coins/views/all/#BTC), rather than USD.<br>\n",
    "However, that table is rendered using Javascript, <br>\n",
    "so it can't be scraped unless we use a client such as Selenium."
   ]
  },
  {
   "cell_type": "markdown",
   "metadata": {},
   "source": [
    "## Conclusions <a id='next-steps'></a>\n",
    "Having programatic access to ICO prices is a first step for many applications.<br>\n",
    "Please use this information responsibally!\n",
    "\n",
    "Here are some next steps:\n",
    "- Do this for BTC units.\n",
    "- Host the data on s3 to another open source outlet with programmatic access.\n",
    "- Host a cloud isntance that generates this dataset in a regular interval.\n",
    "- Analysis of of BTC's price on alt-coins.\n",
    "\n",
    "I think there is some good software to be written.\n",
    "This is done as a passion project, if this is helpful you any suggestions, time, or donation helps!\n",
    "\n",
    "Wallet locations for donations:\n",
    "<a id='TODO'>todo</a>"
   ]
  }
 ],
 "metadata": {
  "kernelspec": {
   "display_name": "Python 3",
   "language": "python",
   "name": "python3"
  },
  "language_info": {
   "codemirror_mode": {
    "name": "ipython",
    "version": 3
   },
   "file_extension": ".py",
   "mimetype": "text/x-python",
   "name": "python",
   "nbconvert_exporter": "python",
   "pygments_lexer": "ipython3",
   "version": "3.6.2"
  }
 },
 "nbformat": 4,
 "nbformat_minor": 2
}
