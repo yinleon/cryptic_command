{
 "cells": [
  {
   "cell_type": "markdown",
   "metadata": {},
   "source": [
    "# Scraping coinmarketcap for ICO prices\n",
    "Leon Yin | Github: [yinleon](#TODO) | Twitter: [@leonyin](#TODO) | Updated: 2017-11-12\n",
    "\n",
    "This is notebook that explains how to make a scraper that collects a [table of ICO stats](https://coinmarketcap.com/all/views/all/) from the site coinmarketcap.com. \n",
    "\n",
    "While we're at it we create a few helpful metadata columns, makes numerical values machine-readible, and perform some simple data analysis. Because this is a Jupyter Notebook you can run it on your own machine :)\n",
    "\n",
    "\n",
    "View this on Github [here](#TODO) or NBViewer [here](#TODO).<br>\n",
    "The scraper is available as Python script [here](#TODO).<br>\n",
    "The hourly data is avilable open source on Amazon s3 [here](#TODO)\n",
    "\n",
    "If you like this project please help support it by contributing time to make it better, or donating to help [pay for hosting](#TODO).\n",
    "\n",
    "### Table of Contents\n",
    "1. [Scraping Data with Requests and Beautiful Soup](#scrape)\n",
    "2. [Cleaning Data with Pandas](#clean)\n",
    "3. [Analysis with Pandas](#analysis)\n",
    "4. [Next Steps](#next-steps)"
   ]
  },
  {
   "cell_type": "code",
   "execution_count": 1,
   "metadata": {
    "collapsed": true
   },
   "outputs": [],
   "source": [
    "import os\n",
    "import re\n",
    "import datetime\n",
    "import requests\n",
    "\n",
    "import numpy as np\n",
    "import pandas as pd\n",
    "from bs4 import BeautifulSoup"
   ]
  },
  {
   "cell_type": "code",
   "execution_count": 2,
   "metadata": {
    "collapsed": true
   },
   "outputs": [],
   "source": [
    "root_dir = '../'\n",
    "table_url = 'https://coinmarketcap.com/all/views/all/'\n",
    "table_id = 'currencies-all'\n",
    "today = datetime.datetime.now()"
   ]
  },
  {
   "cell_type": "markdown",
   "metadata": {},
   "source": [
    "## Scraping a Website with Requests and Beautiful Soup <a id='scrape'></a>\n",
    "Let's visit the coinmarketcap website programatically using the requests package..."
   ]
  },
  {
   "cell_type": "code",
   "execution_count": 3,
   "metadata": {
    "collapsed": true
   },
   "outputs": [],
   "source": [
    "r = requests.get(table_url)"
   ]
  },
  {
   "cell_type": "markdown",
   "metadata": {},
   "source": [
    "Among other things, `r` contains the html content of the page we visited."
   ]
  },
  {
   "cell_type": "code",
   "execution_count": 4,
   "metadata": {},
   "outputs": [
    {
     "data": {
      "text/plain": [
       "b'<!DOCTYPE html>\\n<!--[if lt IE 7]>      <html class=\"no-js lt-ie9 lt-ie8 lt-ie7\"> <![endif]-->\\n<!--[if IE 7]>         <html class=\"no-js lt-ie9 lt-ie8\"> <![endif]-->\\n<!--[if IE 8]>         <html class=\"no-js lt-ie9\"> <![endif]-->\\n<!--[if gt IE 8]><!--> \\n<html class=\"no-js\" lang=\"en\"> <!--<![endif]-->'"
      ]
     },
     "execution_count": 4,
     "metadata": {},
     "output_type": "execute_result"
    }
   ],
   "source": [
    "r.content[:300]"
   ]
  },
  {
   "cell_type": "markdown",
   "metadata": {},
   "source": [
    "BeautifulSoup is the defacto package (still?) for parsing HTML content.<br>\n",
    "We can send the html from `r` into a parsable object."
   ]
  },
  {
   "cell_type": "code",
   "execution_count": 5,
   "metadata": {
    "collapsed": true
   },
   "outputs": [],
   "source": [
    "soup = BeautifulSoup(r.content, 'lxml')"
   ]
  },
  {
   "cell_type": "markdown",
   "metadata": {},
   "source": [
    "This new object (`soup`) comes in handy because we can isolate sections of the HTML page using `soup.find()`.<br>\n",
    "The seciton we are after is the element that contains the ICO data.<br>\n",
    "We can use the `inspect element` feature from Chrome to identify the ID (in this case currencies-all) of this table."
   ]
  },
  {
   "cell_type": "markdown",
   "metadata": {},
   "source": [
    "<img src='../media/find_element.png'></img>"
   ]
  },
  {
   "cell_type": "markdown",
   "metadata": {},
   "source": [
    "I stored the ID for this table as a variable `table_id`."
   ]
  },
  {
   "cell_type": "code",
   "execution_count": 6,
   "metadata": {},
   "outputs": [
    {
     "data": {
      "text/plain": [
       "'currencies-all'"
      ]
     },
     "execution_count": 6,
     "metadata": {},
     "output_type": "execute_result"
    }
   ],
   "source": [
    "table_id"
   ]
  },
  {
   "cell_type": "markdown",
   "metadata": {},
   "source": [
    "Let's isolate the table element using `table_id`, and read it into a Pandas dataframe."
   ]
  },
  {
   "cell_type": "code",
   "execution_count": 7,
   "metadata": {
    "collapsed": true
   },
   "outputs": [],
   "source": [
    "html_tbl = str(soup.find('table',{'id': table_id}))\n",
    "df = pd.read_html(html_tbl, index_col=0)[0]"
   ]
  },
  {
   "cell_type": "markdown",
   "metadata": {},
   "source": [
    "We can get a peak at the top 5 ICOs."
   ]
  },
  {
   "cell_type": "code",
   "execution_count": 8,
   "metadata": {},
   "outputs": [
    {
     "data": {
      "text/html": [
       "<div>\n",
       "<style>\n",
       "    .dataframe thead tr:only-child th {\n",
       "        text-align: right;\n",
       "    }\n",
       "\n",
       "    .dataframe thead th {\n",
       "        text-align: left;\n",
       "    }\n",
       "\n",
       "    .dataframe tbody tr th {\n",
       "        vertical-align: top;\n",
       "    }\n",
       "</style>\n",
       "<table border=\"1\" class=\"dataframe\">\n",
       "  <thead>\n",
       "    <tr style=\"text-align: right;\">\n",
       "      <th></th>\n",
       "      <th>Name</th>\n",
       "      <th>Symbol</th>\n",
       "      <th>Market Cap</th>\n",
       "      <th>Price</th>\n",
       "      <th>Circulating Supply</th>\n",
       "      <th>Volume (24h)</th>\n",
       "      <th>% 1h</th>\n",
       "      <th>% 24h</th>\n",
       "      <th>% 7d</th>\n",
       "    </tr>\n",
       "    <tr>\n",
       "      <th>#</th>\n",
       "      <th></th>\n",
       "      <th></th>\n",
       "      <th></th>\n",
       "      <th></th>\n",
       "      <th></th>\n",
       "      <th></th>\n",
       "      <th></th>\n",
       "      <th></th>\n",
       "      <th></th>\n",
       "    </tr>\n",
       "  </thead>\n",
       "  <tbody>\n",
       "    <tr>\n",
       "      <th>1</th>\n",
       "      <td>BTC Bitcoin</td>\n",
       "      <td>BTC</td>\n",
       "      <td>$109,729,678,760</td>\n",
       "      <td>$6579.45</td>\n",
       "      <td>16677637</td>\n",
       "      <td>$6,825,140,000</td>\n",
       "      <td>0.14%</td>\n",
       "      <td>5.64%</td>\n",
       "      <td>-9.47%</td>\n",
       "    </tr>\n",
       "    <tr>\n",
       "      <th>2</th>\n",
       "      <td>ETH Ethereum</td>\n",
       "      <td>ETH</td>\n",
       "      <td>$30,201,865,132</td>\n",
       "      <td>$315.58</td>\n",
       "      <td>95702116</td>\n",
       "      <td>$1,369,980,000</td>\n",
       "      <td>-0.11%</td>\n",
       "      <td>3.22%</td>\n",
       "      <td>4.57%</td>\n",
       "    </tr>\n",
       "    <tr>\n",
       "      <th>3</th>\n",
       "      <td>BCH Bitcoin Cash</td>\n",
       "      <td>BCH</td>\n",
       "      <td>$21,126,209,247</td>\n",
       "      <td>$1257.49</td>\n",
       "      <td>16800300</td>\n",
       "      <td>$4,594,130,000</td>\n",
       "      <td>7.16%</td>\n",
       "      <td>-18.35%</td>\n",
       "      <td>100.02%</td>\n",
       "    </tr>\n",
       "    <tr>\n",
       "      <th>4</th>\n",
       "      <td>XRP Ripple</td>\n",
       "      <td>XRP</td>\n",
       "      <td>$7,783,447,925</td>\n",
       "      <td>$0.202002</td>\n",
       "      <td>38,531,538,922  *</td>\n",
       "      <td>$160,219,000</td>\n",
       "      <td>-0.49%</td>\n",
       "      <td>1.67%</td>\n",
       "      <td>-2.11%</td>\n",
       "    </tr>\n",
       "    <tr>\n",
       "      <th>5</th>\n",
       "      <td>LTC Litecoin</td>\n",
       "      <td>LTC</td>\n",
       "      <td>$3,273,470,039</td>\n",
       "      <td>$60.83</td>\n",
       "      <td>53811557</td>\n",
       "      <td>$299,017,000</td>\n",
       "      <td>-0.58%</td>\n",
       "      <td>2.94%</td>\n",
       "      <td>9.49%</td>\n",
       "    </tr>\n",
       "  </tbody>\n",
       "</table>\n",
       "</div>"
      ],
      "text/plain": [
       "               Name Symbol        Market Cap      Price Circulating Supply  \\\n",
       "#                                                                            \n",
       "1       BTC Bitcoin    BTC  $109,729,678,760   $6579.45           16677637   \n",
       "2      ETH Ethereum    ETH   $30,201,865,132    $315.58           95702116   \n",
       "3  BCH Bitcoin Cash    BCH   $21,126,209,247   $1257.49           16800300   \n",
       "4        XRP Ripple    XRP    $7,783,447,925  $0.202002  38,531,538,922  *   \n",
       "5      LTC Litecoin    LTC    $3,273,470,039     $60.83           53811557   \n",
       "\n",
       "     Volume (24h)    % 1h    % 24h     % 7d  \n",
       "#                                            \n",
       "1  $6,825,140,000   0.14%    5.64%   -9.47%  \n",
       "2  $1,369,980,000  -0.11%    3.22%    4.57%  \n",
       "3  $4,594,130,000   7.16%  -18.35%  100.02%  \n",
       "4    $160,219,000  -0.49%    1.67%   -2.11%  \n",
       "5    $299,017,000  -0.58%    2.94%    9.49%  "
      ]
     },
     "execution_count": 8,
     "metadata": {},
     "output_type": "execute_result"
    }
   ],
   "source": [
    "df.head()"
   ]
  },
  {
   "cell_type": "markdown",
   "metadata": {},
   "source": [
    "Now that we have everything in Pandas, we can do some extra janitorial work, and analysis.<br>\n",
    "If you've never used Pandas, you're in for a treat!"
   ]
  },
  {
   "cell_type": "markdown",
   "metadata": {},
   "source": [
    "## Cleaning Data with Pandas <a id='clean'></a>\n",
    "The data we have is straight from the HTML table--<br>\n",
    "it is human-readible, but not machine readible.\n",
    "\n",
    "Let's use Pandas to clean up the the data (stored in a DataFrame `df`)...<br>\n",
    "As a first step, we can add a timestamp for context."
   ]
  },
  {
   "cell_type": "code",
   "execution_count": 9,
   "metadata": {
    "collapsed": true
   },
   "outputs": [],
   "source": [
    "df['scrape_timestamp'] = today"
   ]
  },
  {
   "cell_type": "markdown",
   "metadata": {},
   "source": [
    "### Renaming Columns\n",
    "Let's make the columns more descriptive, by including the unit in each column (USD).<br>\n",
    "We can do this by replacing column names using a key-value store (a dictionary)"
   ]
  },
  {
   "cell_type": "code",
   "execution_count": 10,
   "metadata": {
    "collapsed": true
   },
   "outputs": [],
   "source": [
    "col_name_w_currency = {\n",
    "    'Market Cap' : 'market_cap_usd',\n",
    "    'Price' : 'price_usd',\n",
    "    'Volume (24h)': 'volume_24h_usd',\n",
    "}"
   ]
  },
  {
   "cell_type": "markdown",
   "metadata": {},
   "source": [
    "and a function that operates on each column name."
   ]
  },
  {
   "cell_type": "code",
   "execution_count": 11,
   "metadata": {
    "collapsed": true
   },
   "outputs": [],
   "source": [
    "def clean_up_col(col):\n",
    "    '''\n",
    "    Adds currency unit to relevant column names,\n",
    "    replaces spaces for underscores, \n",
    "    replaces % symbols for \"percent_change\",\n",
    "    and returns the updated column in lower case.\n",
    "    '''\n",
    "    col = col_name_w_currency.get(col, col)\n",
    "    col = col.replace(' ', '_')\n",
    "    col = col.replace('%', 'percent_change')\n",
    "    return col.lower()"
   ]
  },
  {
   "cell_type": "markdown",
   "metadata": {},
   "source": [
    "Now let's iterate through each column name in `df`, and apply `clean_up_col` to each.<br>\n",
    "For reference: `[x for x in some_iterator]` is called a list comprehension, which is a slight modification to a for loop."
   ]
  },
  {
   "cell_type": "code",
   "execution_count": 12,
   "metadata": {
    "collapsed": true
   },
   "outputs": [],
   "source": [
    "df.columns = [clean_up_col(c) for c in df.columns]"
   ]
  },
  {
   "cell_type": "code",
   "execution_count": 13,
   "metadata": {},
   "outputs": [
    {
     "data": {
      "text/plain": [
       "name                          object\n",
       "symbol                        object\n",
       "market_cap_usd                object\n",
       "price_usd                     object\n",
       "circulating_supply            object\n",
       "volume_24h_usd                object\n",
       "percent_change_1h             object\n",
       "percent_change_24h            object\n",
       "percent_change_7d             object\n",
       "scrape_timestamp      datetime64[ns]\n",
       "dtype: object"
      ]
     },
     "execution_count": 13,
     "metadata": {},
     "output_type": "execute_result"
    }
   ],
   "source": [
    "df.dtypes"
   ]
  },
  {
   "cell_type": "code",
   "execution_count": 14,
   "metadata": {},
   "outputs": [
    {
     "data": {
      "text/html": [
       "<div>\n",
       "<style>\n",
       "    .dataframe thead tr:only-child th {\n",
       "        text-align: right;\n",
       "    }\n",
       "\n",
       "    .dataframe thead th {\n",
       "        text-align: left;\n",
       "    }\n",
       "\n",
       "    .dataframe tbody tr th {\n",
       "        vertical-align: top;\n",
       "    }\n",
       "</style>\n",
       "<table border=\"1\" class=\"dataframe\">\n",
       "  <thead>\n",
       "    <tr style=\"text-align: right;\">\n",
       "      <th></th>\n",
       "      <th>name</th>\n",
       "      <th>symbol</th>\n",
       "      <th>market_cap_usd</th>\n",
       "      <th>price_usd</th>\n",
       "      <th>circulating_supply</th>\n",
       "      <th>volume_24h_usd</th>\n",
       "      <th>percent_change_1h</th>\n",
       "      <th>percent_change_24h</th>\n",
       "      <th>percent_change_7d</th>\n",
       "      <th>scrape_timestamp</th>\n",
       "    </tr>\n",
       "    <tr>\n",
       "      <th>#</th>\n",
       "      <th></th>\n",
       "      <th></th>\n",
       "      <th></th>\n",
       "      <th></th>\n",
       "      <th></th>\n",
       "      <th></th>\n",
       "      <th></th>\n",
       "      <th></th>\n",
       "      <th></th>\n",
       "      <th></th>\n",
       "    </tr>\n",
       "  </thead>\n",
       "  <tbody>\n",
       "    <tr>\n",
       "      <th>1</th>\n",
       "      <td>BTC Bitcoin</td>\n",
       "      <td>BTC</td>\n",
       "      <td>$109,729,678,760</td>\n",
       "      <td>$6579.45</td>\n",
       "      <td>16677637</td>\n",
       "      <td>$6,825,140,000</td>\n",
       "      <td>0.14%</td>\n",
       "      <td>5.64%</td>\n",
       "      <td>-9.47%</td>\n",
       "      <td>2017-11-13 10:08:47.538555</td>\n",
       "    </tr>\n",
       "    <tr>\n",
       "      <th>2</th>\n",
       "      <td>ETH Ethereum</td>\n",
       "      <td>ETH</td>\n",
       "      <td>$30,201,865,132</td>\n",
       "      <td>$315.58</td>\n",
       "      <td>95702116</td>\n",
       "      <td>$1,369,980,000</td>\n",
       "      <td>-0.11%</td>\n",
       "      <td>3.22%</td>\n",
       "      <td>4.57%</td>\n",
       "      <td>2017-11-13 10:08:47.538555</td>\n",
       "    </tr>\n",
       "    <tr>\n",
       "      <th>3</th>\n",
       "      <td>BCH Bitcoin Cash</td>\n",
       "      <td>BCH</td>\n",
       "      <td>$21,126,209,247</td>\n",
       "      <td>$1257.49</td>\n",
       "      <td>16800300</td>\n",
       "      <td>$4,594,130,000</td>\n",
       "      <td>7.16%</td>\n",
       "      <td>-18.35%</td>\n",
       "      <td>100.02%</td>\n",
       "      <td>2017-11-13 10:08:47.538555</td>\n",
       "    </tr>\n",
       "    <tr>\n",
       "      <th>4</th>\n",
       "      <td>XRP Ripple</td>\n",
       "      <td>XRP</td>\n",
       "      <td>$7,783,447,925</td>\n",
       "      <td>$0.202002</td>\n",
       "      <td>38,531,538,922  *</td>\n",
       "      <td>$160,219,000</td>\n",
       "      <td>-0.49%</td>\n",
       "      <td>1.67%</td>\n",
       "      <td>-2.11%</td>\n",
       "      <td>2017-11-13 10:08:47.538555</td>\n",
       "    </tr>\n",
       "  </tbody>\n",
       "</table>\n",
       "</div>"
      ],
      "text/plain": [
       "               name symbol    market_cap_usd  price_usd circulating_supply  \\\n",
       "#                                                                            \n",
       "1       BTC Bitcoin    BTC  $109,729,678,760   $6579.45           16677637   \n",
       "2      ETH Ethereum    ETH   $30,201,865,132    $315.58           95702116   \n",
       "3  BCH Bitcoin Cash    BCH   $21,126,209,247   $1257.49           16800300   \n",
       "4        XRP Ripple    XRP    $7,783,447,925  $0.202002  38,531,538,922  *   \n",
       "\n",
       "   volume_24h_usd percent_change_1h percent_change_24h percent_change_7d  \\\n",
       "#                                                                          \n",
       "1  $6,825,140,000             0.14%              5.64%            -9.47%   \n",
       "2  $1,369,980,000            -0.11%              3.22%             4.57%   \n",
       "3  $4,594,130,000             7.16%            -18.35%           100.02%   \n",
       "4    $160,219,000            -0.49%              1.67%            -2.11%   \n",
       "\n",
       "            scrape_timestamp  \n",
       "#                             \n",
       "1 2017-11-13 10:08:47.538555  \n",
       "2 2017-11-13 10:08:47.538555  \n",
       "3 2017-11-13 10:08:47.538555  \n",
       "4 2017-11-13 10:08:47.538555  "
      ]
     },
     "execution_count": 14,
     "metadata": {},
     "output_type": "execute_result"
    }
   ],
   "source": [
    "df.head(4)"
   ]
  },
  {
   "cell_type": "markdown",
   "metadata": {},
   "source": [
    "Notice that some columns have an asterix (used to denote that the currency are not minable).<br>\n",
    "We can convert this feature into a new column by leveraging Pandas DataFrames' `apply` function -- <br>\n",
    "which applies any function (anonymous or declared) across either columns (`axis`=0) or rows (`axis`=1)."
   ]
  },
  {
   "cell_type": "code",
   "execution_count": 15,
   "metadata": {
    "collapsed": true
   },
   "outputs": [],
   "source": [
    "def is_minable(row):\n",
    "    '''\n",
    "    Check if `circulating_supply` contains an asterix.\n",
    "    This function operates on each row of the dataframe.\n",
    "    If the ICO is not minable, we'll find an asterix and return 0.\n",
    "    \n",
    "    Note:\n",
    "    That when we apply a function across a row,\n",
    "    the entire row is treated as a key-value pair.\n",
    "    '''\n",
    "    circulating_supply = row['circulating_supply']\n",
    "    \n",
    "    if '*' in circulating_supply:\n",
    "        return 0\n",
    "    \n",
    "    else:\n",
    "        return 1"
   ]
  },
  {
   "cell_type": "code",
   "execution_count": 16,
   "metadata": {
    "collapsed": true
   },
   "outputs": [],
   "source": [
    "df['is_minable'] = df.apply(is_minable, axis=1)"
   ]
  },
  {
   "cell_type": "code",
   "execution_count": 17,
   "metadata": {},
   "outputs": [
    {
     "data": {
      "text/html": [
       "<div>\n",
       "<style>\n",
       "    .dataframe thead tr:only-child th {\n",
       "        text-align: right;\n",
       "    }\n",
       "\n",
       "    .dataframe thead th {\n",
       "        text-align: left;\n",
       "    }\n",
       "\n",
       "    .dataframe tbody tr th {\n",
       "        vertical-align: top;\n",
       "    }\n",
       "</style>\n",
       "<table border=\"1\" class=\"dataframe\">\n",
       "  <thead>\n",
       "    <tr style=\"text-align: right;\">\n",
       "      <th></th>\n",
       "      <th>name</th>\n",
       "      <th>symbol</th>\n",
       "      <th>market_cap_usd</th>\n",
       "      <th>price_usd</th>\n",
       "      <th>circulating_supply</th>\n",
       "      <th>volume_24h_usd</th>\n",
       "      <th>percent_change_1h</th>\n",
       "      <th>percent_change_24h</th>\n",
       "      <th>percent_change_7d</th>\n",
       "      <th>scrape_timestamp</th>\n",
       "      <th>is_minable</th>\n",
       "    </tr>\n",
       "    <tr>\n",
       "      <th>#</th>\n",
       "      <th></th>\n",
       "      <th></th>\n",
       "      <th></th>\n",
       "      <th></th>\n",
       "      <th></th>\n",
       "      <th></th>\n",
       "      <th></th>\n",
       "      <th></th>\n",
       "      <th></th>\n",
       "      <th></th>\n",
       "      <th></th>\n",
       "    </tr>\n",
       "  </thead>\n",
       "  <tbody>\n",
       "    <tr>\n",
       "      <th>1</th>\n",
       "      <td>BTC Bitcoin</td>\n",
       "      <td>BTC</td>\n",
       "      <td>$109,729,678,760</td>\n",
       "      <td>$6579.45</td>\n",
       "      <td>16677637</td>\n",
       "      <td>$6,825,140,000</td>\n",
       "      <td>0.14%</td>\n",
       "      <td>5.64%</td>\n",
       "      <td>-9.47%</td>\n",
       "      <td>2017-11-13 10:08:47.538555</td>\n",
       "      <td>1</td>\n",
       "    </tr>\n",
       "    <tr>\n",
       "      <th>2</th>\n",
       "      <td>ETH Ethereum</td>\n",
       "      <td>ETH</td>\n",
       "      <td>$30,201,865,132</td>\n",
       "      <td>$315.58</td>\n",
       "      <td>95702116</td>\n",
       "      <td>$1,369,980,000</td>\n",
       "      <td>-0.11%</td>\n",
       "      <td>3.22%</td>\n",
       "      <td>4.57%</td>\n",
       "      <td>2017-11-13 10:08:47.538555</td>\n",
       "      <td>1</td>\n",
       "    </tr>\n",
       "    <tr>\n",
       "      <th>3</th>\n",
       "      <td>BCH Bitcoin Cash</td>\n",
       "      <td>BCH</td>\n",
       "      <td>$21,126,209,247</td>\n",
       "      <td>$1257.49</td>\n",
       "      <td>16800300</td>\n",
       "      <td>$4,594,130,000</td>\n",
       "      <td>7.16%</td>\n",
       "      <td>-18.35%</td>\n",
       "      <td>100.02%</td>\n",
       "      <td>2017-11-13 10:08:47.538555</td>\n",
       "      <td>1</td>\n",
       "    </tr>\n",
       "    <tr>\n",
       "      <th>4</th>\n",
       "      <td>XRP Ripple</td>\n",
       "      <td>XRP</td>\n",
       "      <td>$7,783,447,925</td>\n",
       "      <td>$0.202002</td>\n",
       "      <td>38,531,538,922  *</td>\n",
       "      <td>$160,219,000</td>\n",
       "      <td>-0.49%</td>\n",
       "      <td>1.67%</td>\n",
       "      <td>-2.11%</td>\n",
       "      <td>2017-11-13 10:08:47.538555</td>\n",
       "      <td>0</td>\n",
       "    </tr>\n",
       "  </tbody>\n",
       "</table>\n",
       "</div>"
      ],
      "text/plain": [
       "               name symbol    market_cap_usd  price_usd circulating_supply  \\\n",
       "#                                                                            \n",
       "1       BTC Bitcoin    BTC  $109,729,678,760   $6579.45           16677637   \n",
       "2      ETH Ethereum    ETH   $30,201,865,132    $315.58           95702116   \n",
       "3  BCH Bitcoin Cash    BCH   $21,126,209,247   $1257.49           16800300   \n",
       "4        XRP Ripple    XRP    $7,783,447,925  $0.202002  38,531,538,922  *   \n",
       "\n",
       "   volume_24h_usd percent_change_1h percent_change_24h percent_change_7d  \\\n",
       "#                                                                          \n",
       "1  $6,825,140,000             0.14%              5.64%            -9.47%   \n",
       "2  $1,369,980,000            -0.11%              3.22%             4.57%   \n",
       "3  $4,594,130,000             7.16%            -18.35%           100.02%   \n",
       "4    $160,219,000            -0.49%              1.67%            -2.11%   \n",
       "\n",
       "            scrape_timestamp  is_minable  \n",
       "#                                         \n",
       "1 2017-11-13 10:08:47.538555           1  \n",
       "2 2017-11-13 10:08:47.538555           1  \n",
       "3 2017-11-13 10:08:47.538555           1  \n",
       "4 2017-11-13 10:08:47.538555           0  "
      ]
     },
     "execution_count": 17,
     "metadata": {},
     "output_type": "execute_result"
    }
   ],
   "source": [
    "df.head(4)"
   ]
  },
  {
   "cell_type": "markdown",
   "metadata": {},
   "source": [
    "### This table is now more human readible, but problematic for machines\n",
    "Why? Because there are dollar signs, commas, asterix, and percent signs in numeric values.<br>\n",
    "This causes most computers (and Pandas) to view numeric values as strings!"
   ]
  },
  {
   "cell_type": "code",
   "execution_count": 18,
   "metadata": {},
   "outputs": [
    {
     "data": {
      "text/plain": [
       "name                          object\n",
       "symbol                        object\n",
       "market_cap_usd                object\n",
       "price_usd                     object\n",
       "circulating_supply            object\n",
       "volume_24h_usd                object\n",
       "percent_change_1h             object\n",
       "percent_change_24h            object\n",
       "percent_change_7d             object\n",
       "scrape_timestamp      datetime64[ns]\n",
       "is_minable                     int64\n",
       "dtype: object"
      ]
     },
     "execution_count": 18,
     "metadata": {},
     "output_type": "execute_result"
    }
   ],
   "source": [
    "df.dtypes"
   ]
  },
  {
   "cell_type": "markdown",
   "metadata": {},
   "source": [
    "We can remove these symbols using regular expressions.<br>\n",
    "Below is a dictionary of regular expressions we can use to weed out symbols"
   ]
  },
  {
   "cell_type": "code",
   "execution_count": 19,
   "metadata": {
    "collapsed": true
   },
   "outputs": [],
   "source": [
    "replace_symbols = {\n",
    "    r'  [*]' : '',    # two spaces and any number of asterix\n",
    "    r'[\\$,%*]' : '',  # money signs, commas, percent signs, asterix\n",
    "    r'[?]' : np.nan,  # question marks becomes a null value\n",
    "    'Low Vol' : 0,    # low volume is simplified as zero...\n",
    "}"
   ]
  },
  {
   "cell_type": "markdown",
   "metadata": {},
   "source": [
    "Pandas `replace` operates on all all columns and all rows.<br>\n",
    "The coolest aspect of this function is that \n",
    "1. it can take a dictionary as an input,\n",
    "2. it can implement regular expressions, and\n",
    "3. it can operate inplace"
   ]
  },
  {
   "cell_type": "code",
   "execution_count": 20,
   "metadata": {
    "collapsed": true
   },
   "outputs": [],
   "source": [
    "df.replace(replace_symbols, regex=True, inplace=True)"
   ]
  },
  {
   "cell_type": "code",
   "execution_count": 21,
   "metadata": {},
   "outputs": [
    {
     "data": {
      "text/html": [
       "<div>\n",
       "<style>\n",
       "    .dataframe thead tr:only-child th {\n",
       "        text-align: right;\n",
       "    }\n",
       "\n",
       "    .dataframe thead th {\n",
       "        text-align: left;\n",
       "    }\n",
       "\n",
       "    .dataframe tbody tr th {\n",
       "        vertical-align: top;\n",
       "    }\n",
       "</style>\n",
       "<table border=\"1\" class=\"dataframe\">\n",
       "  <thead>\n",
       "    <tr style=\"text-align: right;\">\n",
       "      <th></th>\n",
       "      <th>name</th>\n",
       "      <th>symbol</th>\n",
       "      <th>market_cap_usd</th>\n",
       "      <th>price_usd</th>\n",
       "      <th>circulating_supply</th>\n",
       "      <th>volume_24h_usd</th>\n",
       "      <th>percent_change_1h</th>\n",
       "      <th>percent_change_24h</th>\n",
       "      <th>percent_change_7d</th>\n",
       "      <th>scrape_timestamp</th>\n",
       "      <th>is_minable</th>\n",
       "    </tr>\n",
       "    <tr>\n",
       "      <th>#</th>\n",
       "      <th></th>\n",
       "      <th></th>\n",
       "      <th></th>\n",
       "      <th></th>\n",
       "      <th></th>\n",
       "      <th></th>\n",
       "      <th></th>\n",
       "      <th></th>\n",
       "      <th></th>\n",
       "      <th></th>\n",
       "      <th></th>\n",
       "    </tr>\n",
       "  </thead>\n",
       "  <tbody>\n",
       "    <tr>\n",
       "      <th>1</th>\n",
       "      <td>BTC Bitcoin</td>\n",
       "      <td>BTC</td>\n",
       "      <td>109729678760</td>\n",
       "      <td>6579.45</td>\n",
       "      <td>16677637</td>\n",
       "      <td>6825140000</td>\n",
       "      <td>0.14</td>\n",
       "      <td>5.64</td>\n",
       "      <td>-9.47</td>\n",
       "      <td>2017-11-13 10:08:47.538555</td>\n",
       "      <td>1</td>\n",
       "    </tr>\n",
       "    <tr>\n",
       "      <th>2</th>\n",
       "      <td>ETH Ethereum</td>\n",
       "      <td>ETH</td>\n",
       "      <td>30201865132</td>\n",
       "      <td>315.58</td>\n",
       "      <td>95702116</td>\n",
       "      <td>1369980000</td>\n",
       "      <td>-0.11</td>\n",
       "      <td>3.22</td>\n",
       "      <td>4.57</td>\n",
       "      <td>2017-11-13 10:08:47.538555</td>\n",
       "      <td>1</td>\n",
       "    </tr>\n",
       "    <tr>\n",
       "      <th>3</th>\n",
       "      <td>BCH Bitcoin Cash</td>\n",
       "      <td>BCH</td>\n",
       "      <td>21126209247</td>\n",
       "      <td>1257.49</td>\n",
       "      <td>16800300</td>\n",
       "      <td>4594130000</td>\n",
       "      <td>7.16</td>\n",
       "      <td>-18.35</td>\n",
       "      <td>100.02</td>\n",
       "      <td>2017-11-13 10:08:47.538555</td>\n",
       "      <td>1</td>\n",
       "    </tr>\n",
       "    <tr>\n",
       "      <th>4</th>\n",
       "      <td>XRP Ripple</td>\n",
       "      <td>XRP</td>\n",
       "      <td>7783447925</td>\n",
       "      <td>0.202002</td>\n",
       "      <td>38531538922</td>\n",
       "      <td>160219000</td>\n",
       "      <td>-0.49</td>\n",
       "      <td>1.67</td>\n",
       "      <td>-2.11</td>\n",
       "      <td>2017-11-13 10:08:47.538555</td>\n",
       "      <td>0</td>\n",
       "    </tr>\n",
       "  </tbody>\n",
       "</table>\n",
       "</div>"
      ],
      "text/plain": [
       "               name symbol market_cap_usd price_usd circulating_supply  \\\n",
       "#                                                                        \n",
       "1       BTC Bitcoin    BTC   109729678760   6579.45           16677637   \n",
       "2      ETH Ethereum    ETH    30201865132    315.58           95702116   \n",
       "3  BCH Bitcoin Cash    BCH    21126209247   1257.49           16800300   \n",
       "4        XRP Ripple    XRP     7783447925  0.202002        38531538922   \n",
       "\n",
       "  volume_24h_usd percent_change_1h percent_change_24h percent_change_7d  \\\n",
       "#                                                                         \n",
       "1     6825140000              0.14               5.64             -9.47   \n",
       "2     1369980000             -0.11               3.22              4.57   \n",
       "3     4594130000              7.16             -18.35            100.02   \n",
       "4      160219000             -0.49               1.67             -2.11   \n",
       "\n",
       "            scrape_timestamp  is_minable  \n",
       "#                                         \n",
       "1 2017-11-13 10:08:47.538555           1  \n",
       "2 2017-11-13 10:08:47.538555           1  \n",
       "3 2017-11-13 10:08:47.538555           1  \n",
       "4 2017-11-13 10:08:47.538555           0  "
      ]
     },
     "execution_count": 21,
     "metadata": {},
     "output_type": "execute_result"
    }
   ],
   "source": [
    "df.head(4)"
   ]
  },
  {
   "cell_type": "markdown",
   "metadata": {},
   "source": [
    "This looks good to me! Let's write this clean dataset to a csv.<br>\n",
    "A best practice in data engineering is to create a function to programmatically generate file paths and directories."
   ]
  },
  {
   "cell_type": "code",
   "execution_count": 22,
   "metadata": {
    "collapsed": true
   },
   "outputs": [],
   "source": [
    "def create_filename(root_dir, today):\n",
    "    '''\n",
    "    This function creates the filename, \n",
    "    it also creates the directory for the file if the directory doesn't exist.\n",
    "    '''\n",
    "    f_template = '{year}/{month}/{day}/{hour}/market_cap_USD_{time}.csv.gz'\n",
    "    f = f_template.format(year = today.year,\n",
    "                          month= today.month,\n",
    "                          day  = today.day,\n",
    "                          hour = today.strftime('%H'),\n",
    "                          time = today.strftime('%H:%M:%S'))\n",
    "    \n",
    "    f_out = os.path.join(root_dir, f)\n",
    "    \n",
    "    dir_out = '/'.join(f_out.split('/')[:-1])\n",
    "    if not os.path.exists(dir_out):\n",
    "        os.makedirs(dir_out, exist_ok=True)\n",
    "    \n",
    "    return f_out"
   ]
  },
  {
   "cell_type": "code",
   "execution_count": 23,
   "metadata": {},
   "outputs": [
    {
     "data": {
      "text/plain": [
       "'../2017/11/13/10/market_cap_USD_10:08:47.csv.gz'"
      ]
     },
     "execution_count": 23,
     "metadata": {},
     "output_type": "execute_result"
    }
   ],
   "source": [
    "file = create_filename(root_dir, today)\n",
    "file"
   ]
  },
  {
   "cell_type": "code",
   "execution_count": 24,
   "metadata": {
    "collapsed": true
   },
   "outputs": [],
   "source": [
    "df.to_csv(file, index=None, compression='gzip')"
   ]
  },
  {
   "cell_type": "markdown",
   "metadata": {},
   "source": [
    "## Let's do some analysis <a id='analysis'></a>\n",
    "How's the data look?"
   ]
  },
  {
   "cell_type": "code",
   "execution_count": 25,
   "metadata": {
    "collapsed": true
   },
   "outputs": [],
   "source": [
    "df = pd.read_csv(file, compression='gzip')"
   ]
  },
  {
   "cell_type": "code",
   "execution_count": 26,
   "metadata": {},
   "outputs": [
    {
     "data": {
      "text/html": [
       "<div>\n",
       "<style>\n",
       "    .dataframe thead tr:only-child th {\n",
       "        text-align: right;\n",
       "    }\n",
       "\n",
       "    .dataframe thead th {\n",
       "        text-align: left;\n",
       "    }\n",
       "\n",
       "    .dataframe tbody tr th {\n",
       "        vertical-align: top;\n",
       "    }\n",
       "</style>\n",
       "<table border=\"1\" class=\"dataframe\">\n",
       "  <thead>\n",
       "    <tr style=\"text-align: right;\">\n",
       "      <th></th>\n",
       "      <th>name</th>\n",
       "      <th>symbol</th>\n",
       "      <th>market_cap_usd</th>\n",
       "      <th>price_usd</th>\n",
       "      <th>circulating_supply</th>\n",
       "      <th>volume_24h_usd</th>\n",
       "      <th>percent_change_1h</th>\n",
       "      <th>percent_change_24h</th>\n",
       "      <th>percent_change_7d</th>\n",
       "      <th>scrape_timestamp</th>\n",
       "      <th>is_minable</th>\n",
       "    </tr>\n",
       "  </thead>\n",
       "  <tbody>\n",
       "    <tr>\n",
       "      <th>0</th>\n",
       "      <td>BTC Bitcoin</td>\n",
       "      <td>BTC</td>\n",
       "      <td>1.097297e+11</td>\n",
       "      <td>6579.450000</td>\n",
       "      <td>1.667764e+07</td>\n",
       "      <td>6.825140e+09</td>\n",
       "      <td>0.14</td>\n",
       "      <td>5.64</td>\n",
       "      <td>-9.47</td>\n",
       "      <td>2017-11-13 10:08:47.538555</td>\n",
       "      <td>1</td>\n",
       "    </tr>\n",
       "    <tr>\n",
       "      <th>1</th>\n",
       "      <td>ETH Ethereum</td>\n",
       "      <td>ETH</td>\n",
       "      <td>3.020187e+10</td>\n",
       "      <td>315.580000</td>\n",
       "      <td>9.570212e+07</td>\n",
       "      <td>1.369980e+09</td>\n",
       "      <td>-0.11</td>\n",
       "      <td>3.22</td>\n",
       "      <td>4.57</td>\n",
       "      <td>2017-11-13 10:08:47.538555</td>\n",
       "      <td>1</td>\n",
       "    </tr>\n",
       "    <tr>\n",
       "      <th>2</th>\n",
       "      <td>BCH Bitcoin Cash</td>\n",
       "      <td>BCH</td>\n",
       "      <td>2.112621e+10</td>\n",
       "      <td>1257.490000</td>\n",
       "      <td>1.680030e+07</td>\n",
       "      <td>4.594130e+09</td>\n",
       "      <td>7.16</td>\n",
       "      <td>-18.35</td>\n",
       "      <td>100.02</td>\n",
       "      <td>2017-11-13 10:08:47.538555</td>\n",
       "      <td>1</td>\n",
       "    </tr>\n",
       "    <tr>\n",
       "      <th>3</th>\n",
       "      <td>XRP Ripple</td>\n",
       "      <td>XRP</td>\n",
       "      <td>7.783448e+09</td>\n",
       "      <td>0.202002</td>\n",
       "      <td>3.853154e+10</td>\n",
       "      <td>1.602190e+08</td>\n",
       "      <td>-0.49</td>\n",
       "      <td>1.67</td>\n",
       "      <td>-2.11</td>\n",
       "      <td>2017-11-13 10:08:47.538555</td>\n",
       "      <td>0</td>\n",
       "    </tr>\n",
       "    <tr>\n",
       "      <th>4</th>\n",
       "      <td>LTC Litecoin</td>\n",
       "      <td>LTC</td>\n",
       "      <td>3.273470e+09</td>\n",
       "      <td>60.830000</td>\n",
       "      <td>5.381156e+07</td>\n",
       "      <td>2.990170e+08</td>\n",
       "      <td>-0.58</td>\n",
       "      <td>2.94</td>\n",
       "      <td>9.49</td>\n",
       "      <td>2017-11-13 10:08:47.538555</td>\n",
       "      <td>1</td>\n",
       "    </tr>\n",
       "  </tbody>\n",
       "</table>\n",
       "</div>"
      ],
      "text/plain": [
       "               name symbol  market_cap_usd    price_usd  circulating_supply  \\\n",
       "0       BTC Bitcoin    BTC    1.097297e+11  6579.450000        1.667764e+07   \n",
       "1      ETH Ethereum    ETH    3.020187e+10   315.580000        9.570212e+07   \n",
       "2  BCH Bitcoin Cash    BCH    2.112621e+10  1257.490000        1.680030e+07   \n",
       "3        XRP Ripple    XRP    7.783448e+09     0.202002        3.853154e+10   \n",
       "4      LTC Litecoin    LTC    3.273470e+09    60.830000        5.381156e+07   \n",
       "\n",
       "   volume_24h_usd  percent_change_1h  percent_change_24h  percent_change_7d  \\\n",
       "0    6.825140e+09               0.14                5.64              -9.47   \n",
       "1    1.369980e+09              -0.11                3.22               4.57   \n",
       "2    4.594130e+09               7.16              -18.35             100.02   \n",
       "3    1.602190e+08              -0.49                1.67              -2.11   \n",
       "4    2.990170e+08              -0.58                2.94               9.49   \n",
       "\n",
       "             scrape_timestamp  is_minable  \n",
       "0  2017-11-13 10:08:47.538555           1  \n",
       "1  2017-11-13 10:08:47.538555           1  \n",
       "2  2017-11-13 10:08:47.538555           1  \n",
       "3  2017-11-13 10:08:47.538555           0  \n",
       "4  2017-11-13 10:08:47.538555           1  "
      ]
     },
     "execution_count": 26,
     "metadata": {},
     "output_type": "execute_result"
    }
   ],
   "source": [
    "df.head()"
   ]
  },
  {
   "cell_type": "markdown",
   "metadata": {},
   "source": [
    "Monetary and percentages are now floats!"
   ]
  },
  {
   "cell_type": "code",
   "execution_count": 27,
   "metadata": {},
   "outputs": [
    {
     "data": {
      "text/plain": [
       "name                   object\n",
       "symbol                 object\n",
       "market_cap_usd        float64\n",
       "price_usd             float64\n",
       "circulating_supply    float64\n",
       "volume_24h_usd        float64\n",
       "percent_change_1h     float64\n",
       "percent_change_24h    float64\n",
       "percent_change_7d     float64\n",
       "scrape_timestamp       object\n",
       "is_minable              int64\n",
       "dtype: object"
      ]
     },
     "execution_count": 27,
     "metadata": {},
     "output_type": "execute_result"
    }
   ],
   "source": [
    "df.dtypes"
   ]
  },
  {
   "cell_type": "markdown",
   "metadata": {},
   "source": [
    "There are aggregation functions we can use to calculate the market cap:"
   ]
  },
  {
   "cell_type": "code",
   "execution_count": 28,
   "metadata": {},
   "outputs": [
    {
     "data": {
      "text/plain": [
       "203733779009.0"
      ]
     },
     "execution_count": 28,
     "metadata": {},
     "output_type": "execute_result"
    }
   ],
   "source": [
    "df['market_cap_usd'].sum()"
   ]
  },
  {
   "cell_type": "markdown",
   "metadata": {},
   "source": [
    "We can also find which ICOs have dropped by more than 60% this past week:"
   ]
  },
  {
   "cell_type": "code",
   "execution_count": 29,
   "metadata": {},
   "outputs": [
    {
     "data": {
      "text/html": [
       "<div>\n",
       "<style>\n",
       "    .dataframe thead tr:only-child th {\n",
       "        text-align: right;\n",
       "    }\n",
       "\n",
       "    .dataframe thead th {\n",
       "        text-align: left;\n",
       "    }\n",
       "\n",
       "    .dataframe tbody tr th {\n",
       "        vertical-align: top;\n",
       "    }\n",
       "</style>\n",
       "<table border=\"1\" class=\"dataframe\">\n",
       "  <thead>\n",
       "    <tr style=\"text-align: right;\">\n",
       "      <th></th>\n",
       "      <th>name</th>\n",
       "      <th>symbol</th>\n",
       "      <th>market_cap_usd</th>\n",
       "      <th>price_usd</th>\n",
       "      <th>circulating_supply</th>\n",
       "      <th>volume_24h_usd</th>\n",
       "      <th>percent_change_1h</th>\n",
       "      <th>percent_change_24h</th>\n",
       "      <th>percent_change_7d</th>\n",
       "      <th>scrape_timestamp</th>\n",
       "      <th>is_minable</th>\n",
       "    </tr>\n",
       "  </thead>\n",
       "  <tbody>\n",
       "    <tr>\n",
       "      <th>198</th>\n",
       "      <td>MCAP MCAP</td>\n",
       "      <td>MCAP</td>\n",
       "      <td>13900858.0</td>\n",
       "      <td>0.362988</td>\n",
       "      <td>3.829564e+07</td>\n",
       "      <td>738825.0</td>\n",
       "      <td>-1.72</td>\n",
       "      <td>-8.65</td>\n",
       "      <td>-71.40</td>\n",
       "      <td>2017-11-13 10:08:47.538555</td>\n",
       "      <td>0</td>\n",
       "    </tr>\n",
       "    <tr>\n",
       "      <th>424</th>\n",
       "      <td>NYC NewYorkCoin</td>\n",
       "      <td>NYC</td>\n",
       "      <td>1706768.0</td>\n",
       "      <td>0.000013</td>\n",
       "      <td>1.290328e+11</td>\n",
       "      <td>3755.0</td>\n",
       "      <td>-4.76</td>\n",
       "      <td>-2.96</td>\n",
       "      <td>-67.33</td>\n",
       "      <td>2017-11-13 10:08:47.538555</td>\n",
       "      <td>1</td>\n",
       "    </tr>\n",
       "    <tr>\n",
       "      <th>482</th>\n",
       "      <td>ARC Arcade Token</td>\n",
       "      <td>ARC</td>\n",
       "      <td>696507.0</td>\n",
       "      <td>0.385501</td>\n",
       "      <td>1.806758e+06</td>\n",
       "      <td>651.0</td>\n",
       "      <td>-0.30</td>\n",
       "      <td>-74.74</td>\n",
       "      <td>-80.25</td>\n",
       "      <td>2017-11-13 10:08:47.538555</td>\n",
       "      <td>0</td>\n",
       "    </tr>\n",
       "    <tr>\n",
       "      <th>483</th>\n",
       "      <td>NAUT NautilusCoin</td>\n",
       "      <td>NAUT</td>\n",
       "      <td>684071.0</td>\n",
       "      <td>0.042279</td>\n",
       "      <td>1.618000e+07</td>\n",
       "      <td>56766.0</td>\n",
       "      <td>-4.35</td>\n",
       "      <td>-0.25</td>\n",
       "      <td>-62.99</td>\n",
       "      <td>2017-11-13 10:08:47.538555</td>\n",
       "      <td>0</td>\n",
       "    </tr>\n",
       "    <tr>\n",
       "      <th>500</th>\n",
       "      <td>GRE Greencoin</td>\n",
       "      <td>GRE</td>\n",
       "      <td>550257.0</td>\n",
       "      <td>0.000156</td>\n",
       "      <td>3.528445e+09</td>\n",
       "      <td>1828.0</td>\n",
       "      <td>-1.87</td>\n",
       "      <td>-67.49</td>\n",
       "      <td>-92.65</td>\n",
       "      <td>2017-11-13 10:08:47.538555</td>\n",
       "      <td>0</td>\n",
       "    </tr>\n",
       "  </tbody>\n",
       "</table>\n",
       "</div>"
      ],
      "text/plain": [
       "                  name symbol  market_cap_usd  price_usd  circulating_supply  \\\n",
       "198          MCAP MCAP   MCAP      13900858.0   0.362988        3.829564e+07   \n",
       "424    NYC NewYorkCoin    NYC       1706768.0   0.000013        1.290328e+11   \n",
       "482   ARC Arcade Token    ARC        696507.0   0.385501        1.806758e+06   \n",
       "483  NAUT NautilusCoin   NAUT        684071.0   0.042279        1.618000e+07   \n",
       "500      GRE Greencoin    GRE        550257.0   0.000156        3.528445e+09   \n",
       "\n",
       "     volume_24h_usd  percent_change_1h  percent_change_24h  percent_change_7d  \\\n",
       "198        738825.0              -1.72               -8.65             -71.40   \n",
       "424          3755.0              -4.76               -2.96             -67.33   \n",
       "482           651.0              -0.30              -74.74             -80.25   \n",
       "483         56766.0              -4.35               -0.25             -62.99   \n",
       "500          1828.0              -1.87              -67.49             -92.65   \n",
       "\n",
       "               scrape_timestamp  is_minable  \n",
       "198  2017-11-13 10:08:47.538555           0  \n",
       "424  2017-11-13 10:08:47.538555           1  \n",
       "482  2017-11-13 10:08:47.538555           0  \n",
       "483  2017-11-13 10:08:47.538555           0  \n",
       "500  2017-11-13 10:08:47.538555           0  "
      ]
     },
     "execution_count": 29,
     "metadata": {},
     "output_type": "execute_result"
    }
   ],
   "source": [
    "df_losers = df[df['percent_change_7d'] <= -60]\n",
    "df_losers.head()"
   ]
  },
  {
   "cell_type": "markdown",
   "metadata": {},
   "source": [
    "Since we don't care about EVERY ICO, we can filter the dataframe by relevant symbols"
   ]
  },
  {
   "cell_type": "code",
   "execution_count": 30,
   "metadata": {
    "collapsed": true
   },
   "outputs": [],
   "source": [
    "watchlist = [\n",
    "    'LTC',\n",
    "    'BTC',\n",
    "    'NEO'\n",
    "]"
   ]
  },
  {
   "cell_type": "code",
   "execution_count": 31,
   "metadata": {},
   "outputs": [
    {
     "data": {
      "text/html": [
       "<div>\n",
       "<style>\n",
       "    .dataframe thead tr:only-child th {\n",
       "        text-align: right;\n",
       "    }\n",
       "\n",
       "    .dataframe thead th {\n",
       "        text-align: left;\n",
       "    }\n",
       "\n",
       "    .dataframe tbody tr th {\n",
       "        vertical-align: top;\n",
       "    }\n",
       "</style>\n",
       "<table border=\"1\" class=\"dataframe\">\n",
       "  <thead>\n",
       "    <tr style=\"text-align: right;\">\n",
       "      <th></th>\n",
       "      <th>name</th>\n",
       "      <th>symbol</th>\n",
       "      <th>market_cap_usd</th>\n",
       "      <th>price_usd</th>\n",
       "      <th>circulating_supply</th>\n",
       "      <th>volume_24h_usd</th>\n",
       "      <th>percent_change_1h</th>\n",
       "      <th>percent_change_24h</th>\n",
       "      <th>percent_change_7d</th>\n",
       "      <th>scrape_timestamp</th>\n",
       "      <th>is_minable</th>\n",
       "    </tr>\n",
       "  </thead>\n",
       "  <tbody>\n",
       "    <tr>\n",
       "      <th>0</th>\n",
       "      <td>BTC Bitcoin</td>\n",
       "      <td>BTC</td>\n",
       "      <td>1.097297e+11</td>\n",
       "      <td>6579.45</td>\n",
       "      <td>16677637.0</td>\n",
       "      <td>6.825140e+09</td>\n",
       "      <td>0.14</td>\n",
       "      <td>5.64</td>\n",
       "      <td>-9.47</td>\n",
       "      <td>2017-11-13 10:08:47.538555</td>\n",
       "      <td>1</td>\n",
       "    </tr>\n",
       "    <tr>\n",
       "      <th>4</th>\n",
       "      <td>LTC Litecoin</td>\n",
       "      <td>LTC</td>\n",
       "      <td>3.273470e+09</td>\n",
       "      <td>60.83</td>\n",
       "      <td>53811557.0</td>\n",
       "      <td>2.990170e+08</td>\n",
       "      <td>-0.58</td>\n",
       "      <td>2.94</td>\n",
       "      <td>9.49</td>\n",
       "      <td>2017-11-13 10:08:47.538555</td>\n",
       "      <td>1</td>\n",
       "    </tr>\n",
       "    <tr>\n",
       "      <th>7</th>\n",
       "      <td>NEO NEO</td>\n",
       "      <td>NEO</td>\n",
       "      <td>1.817426e+09</td>\n",
       "      <td>27.96</td>\n",
       "      <td>65000000.0</td>\n",
       "      <td>4.652200e+07</td>\n",
       "      <td>-1.38</td>\n",
       "      <td>3.14</td>\n",
       "      <td>6.05</td>\n",
       "      <td>2017-11-13 10:08:47.538555</td>\n",
       "      <td>0</td>\n",
       "    </tr>\n",
       "  </tbody>\n",
       "</table>\n",
       "</div>"
      ],
      "text/plain": [
       "           name symbol  market_cap_usd  price_usd  circulating_supply  \\\n",
       "0   BTC Bitcoin    BTC    1.097297e+11    6579.45          16677637.0   \n",
       "4  LTC Litecoin    LTC    3.273470e+09      60.83          53811557.0   \n",
       "7       NEO NEO    NEO    1.817426e+09      27.96          65000000.0   \n",
       "\n",
       "   volume_24h_usd  percent_change_1h  percent_change_24h  percent_change_7d  \\\n",
       "0    6.825140e+09               0.14                5.64              -9.47   \n",
       "4    2.990170e+08              -0.58                2.94               9.49   \n",
       "7    4.652200e+07              -1.38                3.14               6.05   \n",
       "\n",
       "             scrape_timestamp  is_minable  \n",
       "0  2017-11-13 10:08:47.538555           1  \n",
       "4  2017-11-13 10:08:47.538555           1  \n",
       "7  2017-11-13 10:08:47.538555           0  "
      ]
     },
     "execution_count": 31,
     "metadata": {},
     "output_type": "execute_result"
    }
   ],
   "source": [
    "df_w = df[df['symbol'].isin(watchlist)]\n",
    "df_w"
   ]
  },
  {
   "cell_type": "markdown",
   "metadata": {},
   "source": [
    "We can also calculate values in BTC"
   ]
  },
  {
   "cell_type": "code",
   "execution_count": 32,
   "metadata": {},
   "outputs": [
    {
     "data": {
      "text/plain": [
       "6579.4499999999998"
      ]
     },
     "execution_count": 32,
     "metadata": {},
     "output_type": "execute_result"
    }
   ],
   "source": [
    "btc_price = df[df['symbol'] == 'BTC']['price_usd'].iloc[0]\n",
    "btc_price"
   ]
  },
  {
   "cell_type": "code",
   "execution_count": 33,
   "metadata": {},
   "outputs": [
    {
     "name": "stderr",
     "output_type": "stream",
     "text": [
      "/anaconda3/lib/python3.6/site-packages/ipykernel_launcher.py:1: SettingWithCopyWarning: \n",
      "A value is trying to be set on a copy of a slice from a DataFrame.\n",
      "Try using .loc[row_indexer,col_indexer] = value instead\n",
      "\n",
      "See the caveats in the documentation: http://pandas.pydata.org/pandas-docs/stable/indexing.html#indexing-view-versus-copy\n",
      "  \"\"\"Entry point for launching an IPython kernel.\n"
     ]
    }
   ],
   "source": [
    "df_w['price_btc'] = df_w['price_usd'] / btc_price"
   ]
  },
  {
   "cell_type": "code",
   "execution_count": 34,
   "metadata": {},
   "outputs": [
    {
     "data": {
      "text/html": [
       "<div>\n",
       "<style>\n",
       "    .dataframe thead tr:only-child th {\n",
       "        text-align: right;\n",
       "    }\n",
       "\n",
       "    .dataframe thead th {\n",
       "        text-align: left;\n",
       "    }\n",
       "\n",
       "    .dataframe tbody tr th {\n",
       "        vertical-align: top;\n",
       "    }\n",
       "</style>\n",
       "<table border=\"1\" class=\"dataframe\">\n",
       "  <thead>\n",
       "    <tr style=\"text-align: right;\">\n",
       "      <th></th>\n",
       "      <th>name</th>\n",
       "      <th>symbol</th>\n",
       "      <th>price_usd</th>\n",
       "      <th>price_btc</th>\n",
       "    </tr>\n",
       "  </thead>\n",
       "  <tbody>\n",
       "    <tr>\n",
       "      <th>0</th>\n",
       "      <td>BTC Bitcoin</td>\n",
       "      <td>BTC</td>\n",
       "      <td>6579.45</td>\n",
       "      <td>1.000000</td>\n",
       "    </tr>\n",
       "    <tr>\n",
       "      <th>4</th>\n",
       "      <td>LTC Litecoin</td>\n",
       "      <td>LTC</td>\n",
       "      <td>60.83</td>\n",
       "      <td>0.009245</td>\n",
       "    </tr>\n",
       "    <tr>\n",
       "      <th>7</th>\n",
       "      <td>NEO NEO</td>\n",
       "      <td>NEO</td>\n",
       "      <td>27.96</td>\n",
       "      <td>0.004250</td>\n",
       "    </tr>\n",
       "  </tbody>\n",
       "</table>\n",
       "</div>"
      ],
      "text/plain": [
       "           name symbol  price_usd  price_btc\n",
       "0   BTC Bitcoin    BTC    6579.45   1.000000\n",
       "4  LTC Litecoin    LTC      60.83   0.009245\n",
       "7       NEO NEO    NEO      27.96   0.004250"
      ]
     },
     "execution_count": 34,
     "metadata": {},
     "output_type": "execute_result"
    }
   ],
   "source": [
    "df_w[['name', 'symbol', 'price_usd', 'price_btc']].head()"
   ]
  },
  {
   "cell_type": "markdown",
   "metadata": {},
   "source": [
    "The data we just scraped is also [available in BTC](https://coinmarketcap.com/coins/views/all/#BTC), rather than USD.<br>\n",
    "However, that table is rendered using Javascript, <br>\n",
    "so it can't be scraped unless we use a client such as Selenium."
   ]
  },
  {
   "cell_type": "markdown",
   "metadata": {},
   "source": [
    "### One application is calculating your portfolio's worth"
   ]
  },
  {
   "cell_type": "code",
   "execution_count": 35,
   "metadata": {
    "collapsed": true
   },
   "outputs": [],
   "source": [
    "portfolio = [\n",
    "    {'symbol' : 'BTC', 'quantity' : 2.045},\n",
    "    {'symbol' : 'ETH', 'quantity' : 20.17},\n",
    "    {'symbol' : 'DASH', 'quantity' : 1001},\n",
    "]"
   ]
  },
  {
   "cell_type": "code",
   "execution_count": 38,
   "metadata": {
    "collapsed": true
   },
   "outputs": [],
   "source": [
    "def get_portfolio(df, portolio, cols=['name', 'symbol', 'price_usd', \n",
    "                                      'percent_change_24h', \n",
    "                                      'quantity', 'value_usd', 'value_btc']):\n",
    "    '''\n",
    "    Converts a dict `portfolio` into a pandas dataframe `df_p`,\n",
    "    Inner join `df_p` to a dataframe of ICO prices (`df`).\n",
    "    Calculates and printsvalue in USD and BTC.\n",
    "    \n",
    "    Retuns a dataframe with `cols` colums from the joined dataframe `df_`.\n",
    "    '''\n",
    "    df_p = pd.DataFrame(portfolio)\n",
    "    btc_price = df[df['symbol'] == 'BTC']['price_usd'].iloc[0]\n",
    "    \n",
    "    df_ = df.merge(df_p, how='inner')\n",
    "    df_['value_usd'] = df_['quantity'] * df_['price_usd']\n",
    "    df_['value_btc'] = df_['value_usd'] / btc_price\n",
    "    \n",
    "    portfolio_usd = df_['value_usd'].sum()\n",
    "    portfolio_btc = df_['value_usd'].sum() / btc_price\n",
    "    \n",
    "    print(\"Value of portfolio\\n${:.2f} USD\\n{:.4f} BTC\".format(portfolio_usd, \n",
    "                                                               portfolio_btc))\n",
    "    return df_[cols]"
   ]
  },
  {
   "cell_type": "code",
   "execution_count": 39,
   "metadata": {},
   "outputs": [
    {
     "name": "stdout",
     "output_type": "stream",
     "text": [
      "Value of portfolio\n",
      "$429659.65 USD\n",
      "65.3033 BTC\n"
     ]
    },
    {
     "data": {
      "text/html": [
       "<div>\n",
       "<style>\n",
       "    .dataframe thead tr:only-child th {\n",
       "        text-align: right;\n",
       "    }\n",
       "\n",
       "    .dataframe thead th {\n",
       "        text-align: left;\n",
       "    }\n",
       "\n",
       "    .dataframe tbody tr th {\n",
       "        vertical-align: top;\n",
       "    }\n",
       "</style>\n",
       "<table border=\"1\" class=\"dataframe\">\n",
       "  <thead>\n",
       "    <tr style=\"text-align: right;\">\n",
       "      <th></th>\n",
       "      <th>name</th>\n",
       "      <th>symbol</th>\n",
       "      <th>price_usd</th>\n",
       "      <th>percent_change_24h</th>\n",
       "      <th>quantity</th>\n",
       "      <th>value_usd</th>\n",
       "      <th>value_btc</th>\n",
       "    </tr>\n",
       "  </thead>\n",
       "  <tbody>\n",
       "    <tr>\n",
       "      <th>0</th>\n",
       "      <td>BTC Bitcoin</td>\n",
       "      <td>BTC</td>\n",
       "      <td>6579.45</td>\n",
       "      <td>5.64</td>\n",
       "      <td>2.045</td>\n",
       "      <td>13454.97525</td>\n",
       "      <td>2.045000</td>\n",
       "    </tr>\n",
       "    <tr>\n",
       "      <th>1</th>\n",
       "      <td>ETH Ethereum</td>\n",
       "      <td>ETH</td>\n",
       "      <td>315.58</td>\n",
       "      <td>3.22</td>\n",
       "      <td>20.170</td>\n",
       "      <td>6365.24860</td>\n",
       "      <td>0.967444</td>\n",
       "    </tr>\n",
       "    <tr>\n",
       "      <th>2</th>\n",
       "      <td>DASH Dash</td>\n",
       "      <td>DASH</td>\n",
       "      <td>409.43</td>\n",
       "      <td>4.58</td>\n",
       "      <td>1001.000</td>\n",
       "      <td>409839.43000</td>\n",
       "      <td>62.290834</td>\n",
       "    </tr>\n",
       "  </tbody>\n",
       "</table>\n",
       "</div>"
      ],
      "text/plain": [
       "           name symbol  price_usd  percent_change_24h  quantity     value_usd  \\\n",
       "0   BTC Bitcoin    BTC    6579.45                5.64     2.045   13454.97525   \n",
       "1  ETH Ethereum    ETH     315.58                3.22    20.170    6365.24860   \n",
       "2     DASH Dash   DASH     409.43                4.58  1001.000  409839.43000   \n",
       "\n",
       "   value_btc  \n",
       "0   2.045000  \n",
       "1   0.967444  \n",
       "2  62.290834  "
      ]
     },
     "execution_count": 39,
     "metadata": {},
     "output_type": "execute_result"
    }
   ],
   "source": [
    "get_portfolio(df, portfolio)"
   ]
  },
  {
   "cell_type": "markdown",
   "metadata": {},
   "source": [
    "## Conclusions <a id='next-steps'></a>\n",
    "Having programatic access to ICO prices is a first step for many applications.<br>\n",
    "Please use this information responsibly!<br>\n",
    "A lesson from [the 2010 Flash Crash](https://www.theguardian.com/business/2015/apr/22/2010-flash-crash-new-york-stock-exchange-unfolded).\n",
    "\n",
    "Here are some next steps:\n",
    "- Do this for BTC units.\n",
    "- Host the data on s3 to another open source outlet with programmatic access.\n",
    "- Host a cloud instance that generates this dataset in a regular interval.\n",
    "- Analysis of of BTC's price on alt-coins.\n",
    "\n",
    "I think there is some good software to be written.<br>\n",
    "This wass done as a passion project during a cold Novemeber weekend,<br>\n",
    "if this was helpful to you, any suggestions, time, or donations are appreciated!\n",
    "\n",
    "Wallet locations for donations:\n",
    "<a id='TODO'>todo</a>"
   ]
  }
 ],
 "metadata": {
  "kernelspec": {
   "display_name": "Python 3",
   "language": "python",
   "name": "python3"
  },
  "language_info": {
   "codemirror_mode": {
    "name": "ipython",
    "version": 3
   },
   "file_extension": ".py",
   "mimetype": "text/x-python",
   "name": "python",
   "nbconvert_exporter": "python",
   "pygments_lexer": "ipython3",
   "version": "3.6.2"
  }
 },
 "nbformat": 4,
 "nbformat_minor": 2
}
